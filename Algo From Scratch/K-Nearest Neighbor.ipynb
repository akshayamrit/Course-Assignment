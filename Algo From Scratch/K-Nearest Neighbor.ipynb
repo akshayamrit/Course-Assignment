{
 "cells": [
  {
   "cell_type": "code",
   "execution_count": 1,
   "metadata": {},
   "outputs": [],
   "source": [
    "import numpy as np\n",
    "import pandas as pd\n",
    "import os\n",
    "from sklearn.model_selection import train_test_split"
   ]
  },
  {
   "cell_type": "code",
   "execution_count": 2,
   "metadata": {},
   "outputs": [],
   "source": [
    "iris = pd.read_csv(os.getcwd() + '/Data/iris.csv')\n",
    "cars = pd.read_csv(os.getcwd() + '/Data/cars.csv')"
   ]
  },
  {
   "cell_type": "code",
   "execution_count": 3,
   "metadata": {},
   "outputs": [],
   "source": [
    "X = iris[['Sepal.Length', 'Sepal.Width', 'Petal.Length', 'Petal.Width']]\n",
    "Y = iris['Species']"
   ]
  },
  {
   "cell_type": "code",
   "execution_count": 4,
   "metadata": {},
   "outputs": [],
   "source": [
    "X_train_iris, X_test_iris, y_train_iris, y_test_iris = train_test_split(X, Y, test_size = 0.3, stratify = Y, random_state = 100)"
   ]
  },
  {
   "cell_type": "code",
   "execution_count": 5,
   "metadata": {},
   "outputs": [],
   "source": [
    "X = cars[['Cylinders', 'Displacement', 'Horsepower', 'Weight', 'Acceleration']]\n",
    "y = cars['MPG']"
   ]
  },
  {
   "cell_type": "code",
   "execution_count": 6,
   "metadata": {},
   "outputs": [],
   "source": [
    "X_train_cars, X_test_cars, y_train_cars, y_test_cars = train_test_split(X, y, test_size = 0.3, random_state = 100)"
   ]
  },
  {
   "cell_type": "code",
   "execution_count": 9,
   "metadata": {},
   "outputs": [],
   "source": [
    "test1 = X_test.iloc[0,]"
   ]
  },
  {
   "cell_type": "code",
   "execution_count": 10,
   "metadata": {},
   "outputs": [
    {
     "data": {
      "text/plain": [
       "Sepal.Length    4.9\n",
       "Sepal.Width     3.1\n",
       "Petal.Length    1.5\n",
       "Petal.Width     0.2\n",
       "Name: 34, dtype: float64"
      ]
     },
     "execution_count": 10,
     "metadata": {},
     "output_type": "execute_result"
    }
   ],
   "source": [
    "test1"
   ]
  },
  {
   "cell_type": "code",
   "execution_count": 38,
   "metadata": {},
   "outputs": [
    {
     "data": {
      "text/plain": [
       "Sepal.Length    5.7\n",
       "Sepal.Width     3.8\n",
       "Petal.Length    1.7\n",
       "Petal.Width     0.3\n",
       "Name: 18, dtype: float64"
      ]
     },
     "execution_count": 38,
     "metadata": {},
     "output_type": "execute_result"
    }
   ],
   "source": [
    "X_train.iloc[4,]"
   ]
  },
  {
   "cell_type": "code",
   "execution_count": 39,
   "metadata": {},
   "outputs": [],
   "source": [
    "dist = []\n",
    "\n",
    "for i in range(X_train.shape[0]):\n",
    "    distance = np.sqrt(np.sum((test1 - X_train.iloc[i, ]) ** 2))\n",
    "    dist.append((distance, i))"
   ]
  },
  {
   "cell_type": "code",
   "execution_count": 40,
   "metadata": {},
   "outputs": [],
   "source": [
    "dist.sort()"
   ]
  },
  {
   "cell_type": "code",
   "execution_count": 41,
   "metadata": {},
   "outputs": [
    {
     "data": {
      "text/plain": [
       "[(0.1, 87),\n",
       " (0.14142135623730964, 26),\n",
       " (0.17320508075688762, 65),\n",
       " (0.20000000000000034, 68),\n",
       " (0.20000000000000034, 82),\n",
       " (0.24494897427831747, 99),\n",
       " (0.24494897427831802, 34),\n",
       " (0.31622776601683766, 46),\n",
       " (0.33166247903553997, 77),\n",
       " (0.33166247903554, 64)]"
      ]
     },
     "execution_count": 41,
     "metadata": {},
     "output_type": "execute_result"
    }
   ],
   "source": [
    "dist[:10]"
   ]
  },
  {
   "cell_type": "code",
   "execution_count": 59,
   "metadata": {},
   "outputs": [
    {
     "data": {
      "text/plain": [
       "87"
      ]
     },
     "execution_count": 59,
     "metadata": {},
     "output_type": "execute_result"
    }
   ],
   "source": [
    "dist[0][1]"
   ]
  },
  {
   "cell_type": "code",
   "execution_count": 60,
   "metadata": {},
   "outputs": [
    {
     "data": {
      "text/plain": [
       "(105, 4)"
      ]
     },
     "execution_count": 60,
     "metadata": {},
     "output_type": "execute_result"
    }
   ],
   "source": [
    "X_train.shape"
   ]
  },
  {
   "cell_type": "code",
   "execution_count": 71,
   "metadata": {},
   "outputs": [
    {
     "data": {
      "text/plain": [
       "Sepal.Length    4.9\n",
       "Sepal.Width     2.5\n",
       "Petal.Length    4.5\n",
       "Petal.Width     1.7\n",
       "Name: 106, dtype: float64"
      ]
     },
     "execution_count": 71,
     "metadata": {},
     "output_type": "execute_result"
    }
   ],
   "source": [
    "X_train.iloc[104,]"
   ]
  },
  {
   "cell_type": "code",
   "execution_count": 43,
   "metadata": {},
   "outputs": [
    {
     "data": {
      "text/plain": [
       "26"
      ]
     },
     "execution_count": 43,
     "metadata": {},
     "output_type": "execute_result"
    }
   ],
   "source": [
    "dist[1][1]"
   ]
  },
  {
   "cell_type": "code",
   "execution_count": 67,
   "metadata": {},
   "outputs": [
    {
     "data": {
      "text/plain": [
       "'setosa'"
      ]
     },
     "execution_count": 67,
     "metadata": {},
     "output_type": "execute_result"
    }
   ],
   "source": [
    "Y_train.iloc[87,]"
   ]
  },
  {
   "cell_type": "code",
   "execution_count": 68,
   "metadata": {},
   "outputs": [
    {
     "data": {
      "text/plain": [
       "'setosa'"
      ]
     },
     "execution_count": 68,
     "metadata": {},
     "output_type": "execute_result"
    }
   ],
   "source": [
    "Y_test.iloc[0,]"
   ]
  },
  {
   "cell_type": "code",
   "execution_count": 69,
   "metadata": {},
   "outputs": [
    {
     "data": {
      "text/plain": [
       "'setosa'"
      ]
     },
     "execution_count": 69,
     "metadata": {},
     "output_type": "execute_result"
    }
   ],
   "source": [
    "Y_train.iloc[26,]"
   ]
  },
  {
   "cell_type": "code",
   "execution_count": 75,
   "metadata": {},
   "outputs": [
    {
     "data": {
      "text/plain": [
       "'setosa'"
      ]
     },
     "execution_count": 75,
     "metadata": {},
     "output_type": "execute_result"
    }
   ],
   "source": [
    "np.array(Y_train)[87]"
   ]
  },
  {
   "cell_type": "code",
   "execution_count": 76,
   "metadata": {},
   "outputs": [
    {
     "data": {
      "text/plain": [
       "'setosa'"
      ]
     },
     "execution_count": 76,
     "metadata": {},
     "output_type": "execute_result"
    }
   ],
   "source": [
    "Y_train.iloc[87,]"
   ]
  },
  {
   "cell_type": "code",
   "execution_count": 90,
   "metadata": {},
   "outputs": [
    {
     "data": {
      "text/plain": [
       "'versicolor'"
      ]
     },
     "execution_count": 90,
     "metadata": {},
     "output_type": "execute_result"
    }
   ],
   "source": [
    "Y_train[87]"
   ]
  },
  {
   "cell_type": "code",
   "execution_count": 91,
   "metadata": {},
   "outputs": [
    {
     "data": {
      "text/plain": [
       "'setosa'"
      ]
     },
     "execution_count": 91,
     "metadata": {},
     "output_type": "execute_result"
    }
   ],
   "source": [
    "Y_train[0]"
   ]
  },
  {
   "cell_type": "code",
   "execution_count": 96,
   "metadata": {},
   "outputs": [
    {
     "data": {
      "text/plain": [
       "pandas.core.series.Series"
      ]
     },
     "execution_count": 96,
     "metadata": {},
     "output_type": "execute_result"
    }
   ],
   "source": [
    "type(Y_train)"
   ]
  },
  {
   "cell_type": "code",
   "execution_count": 97,
   "metadata": {},
   "outputs": [
    {
     "data": {
      "text/plain": [
       "71     versicolor\n",
       "90     versicolor\n",
       "4          setosa\n",
       "17         setosa\n",
       "18         setosa\n",
       "          ...    \n",
       "26         setosa\n",
       "69     versicolor\n",
       "103     virginica\n",
       "65     versicolor\n",
       "106     virginica\n",
       "Name: Species, Length: 105, dtype: object"
      ]
     },
     "execution_count": 97,
     "metadata": {},
     "output_type": "execute_result"
    }
   ],
   "source": [
    "Y_train"
   ]
  },
  {
   "cell_type": "code",
   "execution_count": 48,
   "metadata": {},
   "outputs": [],
   "source": [
    "s = 'abc'\n",
    "t = (1, 2, 3)"
   ]
  },
  {
   "cell_type": "code",
   "execution_count": 49,
   "metadata": {},
   "outputs": [
    {
     "ename": "TypeError",
     "evalue": "'tuple' object does not support item assignment",
     "output_type": "error",
     "traceback": [
      "\u001b[1;31m---------------------------------------------------------------------------\u001b[0m",
      "\u001b[1;31mTypeError\u001b[0m                                 Traceback (most recent call last)",
      "\u001b[1;32m<ipython-input-49-86d3fd18a12b>\u001b[0m in \u001b[0;36m<module>\u001b[1;34m\u001b[0m\n\u001b[1;32m----> 1\u001b[1;33m \u001b[0mt\u001b[0m\u001b[1;33m[\u001b[0m\u001b[1;36m1\u001b[0m\u001b[1;33m]\u001b[0m \u001b[1;33m=\u001b[0m \u001b[1;36m20\u001b[0m\u001b[1;33m\u001b[0m\u001b[1;33m\u001b[0m\u001b[0m\n\u001b[0m",
      "\u001b[1;31mTypeError\u001b[0m: 'tuple' object does not support item assignment"
     ]
    }
   ],
   "source": [
    "t[1] = 20 # Cannot change item already present in the tupple."
   ]
  },
  {
   "cell_type": "code",
   "execution_count": 50,
   "metadata": {},
   "outputs": [
    {
     "data": {
      "text/plain": [
       "'aec'"
      ]
     },
     "execution_count": 50,
     "metadata": {},
     "output_type": "execute_result"
    }
   ],
   "source": [
    "s[:1] + 'e' + s[2:] #Created a new string"
   ]
  },
  {
   "cell_type": "code",
   "execution_count": 51,
   "metadata": {},
   "outputs": [
    {
     "data": {
      "text/plain": [
       "(1, 20, 3)"
      ]
     },
     "execution_count": 51,
     "metadata": {},
     "output_type": "execute_result"
    }
   ],
   "source": [
    "t[:1] + (20, ) + t[2:] #Created a new tupple"
   ]
  },
  {
   "cell_type": "code",
   "execution_count": 54,
   "metadata": {},
   "outputs": [
    {
     "data": {
      "text/plain": [
       "True"
      ]
     },
     "execution_count": 54,
     "metadata": {},
     "output_type": "execute_result"
    }
   ],
   "source": [
    "'abc' < 'pqr'"
   ]
  },
  {
   "cell_type": "code",
   "execution_count": 55,
   "metadata": {},
   "outputs": [
    {
     "data": {
      "text/plain": [
       "False"
      ]
     },
     "execution_count": 55,
     "metadata": {},
     "output_type": "execute_result"
    }
   ],
   "source": [
    "(1, 2, 3) < (0, 100, 200)"
   ]
  },
  {
   "cell_type": "code",
   "execution_count": 56,
   "metadata": {},
   "outputs": [
    {
     "data": {
      "text/plain": [
       "False"
      ]
     },
     "execution_count": 56,
     "metadata": {},
     "output_type": "execute_result"
    }
   ],
   "source": [
    "(1, 2, 3) < (1, 2, 0)"
   ]
  },
  {
   "cell_type": "markdown",
   "metadata": {},
   "source": [
    "## Function to calculate euclidean distance"
   ]
  },
  {
   "cell_type": "code",
   "execution_count": 2,
   "metadata": {},
   "outputs": [],
   "source": [
    "def calc_dist(vect1, vect2, mode = 'Vector', enable_print = False):\n",
    "    vect1 = np.array(vect1)\n",
    "    vect2 = np.array(vect2)\n",
    "    distance = 0\n",
    "    \n",
    "    #Using if-else condition to decide which method to use for distance calculation\n",
    "    if mode == 'Vector':\n",
    "        if enable_print:\n",
    "            print('Calculating Euclidean Distance Using Vector Operations')\n",
    "        distance = np.sqrt(np.matmul(np.transpose(vect1-vect2), (vect1-vect2)))\n",
    "    \n",
    "    elif mode == 'Loop':\n",
    "        if enable_print:\n",
    "            print('Calculating Euclidean Distance Using Loop')\n",
    "        \n",
    "        #For loop to add square of difference of each element of the two vectors\n",
    "        for i in range(len(vect2)):\n",
    "            distance = distance + ((vect1[i] - vect2[i]) ** 2)\n",
    "        distance = np.sqrt(distance)\n",
    "    \n",
    "    elif mode == 'Numpy':\n",
    "        if enable_print:\n",
    "            print('Calculating Euclidean Distance Using Numpy')\n",
    "        distance = np.linalg.norm(vect1 - vect2)\n",
    "        \n",
    "    elif mode == 'Normal':\n",
    "        if enable_print:\n",
    "            print('Calculating Euclidean Distance Normally')\n",
    "        distance = np.sqrt(np.sum((vect1 - vect2) ** 2))\n",
    "    \n",
    "    return distance"
   ]
  },
  {
   "cell_type": "code",
   "execution_count": 44,
   "metadata": {},
   "outputs": [
    {
     "name": "stdout",
     "output_type": "stream",
     "text": [
      "3.165438358268883\n"
     ]
    }
   ],
   "source": [
    "print(calc_dist(X_test.iloc[0, ], X_train.iloc[1,]))"
   ]
  },
  {
   "cell_type": "code",
   "execution_count": 41,
   "metadata": {},
   "outputs": [
    {
     "name": "stdout",
     "output_type": "stream",
     "text": [
      "{'virginica': 34, 'versicolor': 16}\n"
     ]
    },
    {
     "data": {
      "text/plain": [
       "'virginica'"
      ]
     },
     "execution_count": 41,
     "metadata": {},
     "output_type": "execute_result"
    }
   ],
   "source": [
    "current_vector = np.array(X_test.iloc[16, ])\n",
    "dist = []\n",
    "for j in range(X_train.shape[0]):\n",
    "    curr_dist = np.sqrt(np.sum((current_vector - np.array(X_train.iloc[j, ])) ** 2))\n",
    "    dist.append((curr_dist, j))\n",
    "dist.sort()\n",
    "y_count = dict()\n",
    "for rank in range(50):\n",
    "    pred = y_train.iloc[dist[rank][1], ]\n",
    "    y_count[pred] = y_count.get(pred, 0) + 1\n",
    "print(y_count)\n",
    "sorted(y_count, key=y_count.get, reverse=True)[0]"
   ]
  },
  {
   "cell_type": "code",
   "execution_count": 20,
   "metadata": {},
   "outputs": [
    {
     "data": {
      "text/plain": [
       "'setosa'"
      ]
     },
     "execution_count": 20,
     "metadata": {},
     "output_type": "execute_result"
    }
   ],
   "source": [
    "sorted(mailDict, key=mailDict.get, reverse=True)"
   ]
  },
  {
   "cell_type": "markdown",
   "metadata": {},
   "source": [
    "## K - Nearest Neighour Classification Algo (No Scaling)"
   ]
  },
  {
   "cell_type": "code",
   "execution_count": 41,
   "metadata": {},
   "outputs": [],
   "source": [
    "def k_nearest_neighour_pred(X_train, X_test, y_train, k = 5):\n",
    "    pred_list = list()\n",
    "    # Handling the condition when the user tries to predict for just one entry and it is not in dataframe format\n",
    "    if X_test.shape == (X_train.shape[1],):\n",
    "        # Reshaping and converting to a dataframe.\n",
    "        X_test = pd.DataFrame(X_test.values.reshape((-1, X_train.shape[1])), columns=X_train.columns)\n",
    "    \n",
    "    # Loop to predict for each row.\n",
    "    for i in range(X_test.shape[0]):\n",
    "        current_vector = np.array(X_test.iloc[i, ])\n",
    "        dist = []\n",
    "        y_count = dict()\n",
    "        # Loop to calculate euclidean distance of current row from each value in X_train.\n",
    "        for j in range(X_train.shape[0]):\n",
    "            curr_dist = np.sqrt(np.sum((current_vector - np.array(X_train.iloc[j, ])) ** 2))\n",
    "            dist.append((curr_dist, j))\n",
    "            \n",
    "        # Sorting in ascending order using the distances calculated from each row.\n",
    "        dist.sort()\n",
    "        \n",
    "        # Creating a dictionary to count the number of instances a classification appears.\n",
    "        for rank in range(k):\n",
    "            pred = y_train.iloc[dist[rank][1], ]\n",
    "            y_count[pred] = y_count.get(pred, 0) + 1\n",
    "        \n",
    "        # Selecting the classification with highest number of votes.\n",
    "        pred_list.append(sorted(y_count, key=y_count.get, reverse=True)[0])\n",
    "    return pred_list"
   ]
  },
  {
   "cell_type": "code",
   "execution_count": 42,
   "metadata": {},
   "outputs": [
    {
     "data": {
      "text/plain": [
       "['setosa']"
      ]
     },
     "execution_count": 42,
     "metadata": {},
     "output_type": "execute_result"
    }
   ],
   "source": [
    "k_nearest_neighour_pred(X_train, X_test.iloc[0, ], y_train, 15)"
   ]
  },
  {
   "cell_type": "code",
   "execution_count": 10,
   "metadata": {},
   "outputs": [],
   "source": [
    "pred = k_nearest_neighour_pred(X_train, X_test, y_train)\n",
    "dict_for_df = {'prediction': pred, 'actual': y_test}"
   ]
  },
  {
   "cell_type": "code",
   "execution_count": 11,
   "metadata": {},
   "outputs": [],
   "source": [
    "from sklearn.metrics import confusion_matrix"
   ]
  },
  {
   "cell_type": "code",
   "execution_count": 12,
   "metadata": {},
   "outputs": [
    {
     "data": {
      "text/plain": [
       "array([[15,  0,  0],\n",
       "       [ 0, 15,  0],\n",
       "       [ 0,  0, 15]], dtype=int64)"
      ]
     },
     "execution_count": 12,
     "metadata": {},
     "output_type": "execute_result"
    }
   ],
   "source": [
    "c = confusion_matrix(y_test, pred, labels=['setosa', 'versicolor', 'virginica'])\n",
    "c"
   ]
  },
  {
   "cell_type": "code",
   "execution_count": 13,
   "metadata": {},
   "outputs": [
    {
     "name": "stdout",
     "output_type": "stream",
     "text": [
      "Sensitivity: 100.0\n",
      "Specificity: 100.0\n"
     ]
    }
   ],
   "source": [
    "# For setosa:\n",
    "TP = c[0,0].sum()\n",
    "FP = c[0, 1:].sum()\n",
    "TN = c[1:, 1:].sum()\n",
    "FN = c[1:,0].sum()\n",
    "# Sensitivity aka Recall (true positives / all actual positives) = TP / TP + FN\n",
    "# For a specefic category.\n",
    "sens_setosa = (TP / (TP + FN)) * 100\n",
    "# Specificity (true negatives / all actual negatives) = TN / TN + FP\n",
    "# For a specefic category\n",
    "spec_sentosa = (TN / (TN + FP)) * 100\n",
    "\n",
    "print('Sensitivity:',sens_setosa)\n",
    "print('Specificity:',spec_sentosa)"
   ]
  },
  {
   "cell_type": "code",
   "execution_count": 14,
   "metadata": {},
   "outputs": [
    {
     "name": "stdout",
     "output_type": "stream",
     "text": [
      "              precision    recall  f1-score   support\n",
      "\n",
      "      setosa       1.00      1.00      1.00        15\n",
      "  versicolor       1.00      1.00      1.00        15\n",
      "   virginica       1.00      1.00      1.00        15\n",
      "\n",
      "    accuracy                           1.00        45\n",
      "   macro avg       1.00      1.00      1.00        45\n",
      "weighted avg       1.00      1.00      1.00        45\n",
      "\n"
     ]
    }
   ],
   "source": [
    "from sklearn.metrics import classification_report\n",
    "print(classification_report(y_test, pred))"
   ]
  },
  {
   "cell_type": "code",
   "execution_count": 15,
   "metadata": {},
   "outputs": [],
   "source": [
    "pred = k_nearest_neighour_pred(X_train, X_test, y_train, 15)\n",
    "dict_for_df = {'prediction': pred, 'actual': y_test}"
   ]
  },
  {
   "cell_type": "code",
   "execution_count": 17,
   "metadata": {},
   "outputs": [
    {
     "data": {
      "text/plain": [
       "array([[15,  0,  0],\n",
       "       [ 0, 15,  0],\n",
       "       [ 0,  2, 13]], dtype=int64)"
      ]
     },
     "execution_count": 17,
     "metadata": {},
     "output_type": "execute_result"
    }
   ],
   "source": [
    "c = confusion_matrix(y_test, pred, labels=['setosa', 'versicolor', 'virginica'])\n",
    "c"
   ]
  },
  {
   "cell_type": "code",
   "execution_count": 18,
   "metadata": {},
   "outputs": [
    {
     "name": "stdout",
     "output_type": "stream",
     "text": [
      "Sensitivity: 100.0\n",
      "Specificity: 100.0\n"
     ]
    }
   ],
   "source": [
    "# For setosa:\n",
    "TP = c[0,0].sum()\n",
    "FP = c[0, 1:].sum()\n",
    "TN = c[1:, 1:].sum()\n",
    "FN = c[1:,0].sum()\n",
    "# Sensitivity aka Recall (true positives / all actual positives) = TP / TP + FN\n",
    "# For a specefic category.\n",
    "sens_setosa = (TP / (TP + FN)) * 100\n",
    "# Specificity (true negatives / all actual negatives) = TN / TN + FP\n",
    "# For a specefic category\n",
    "spec_sentosa = (TN / (TN + FP)) * 100\n",
    "\n",
    "print('Sensitivity:',sens_setosa)\n",
    "print('Specificity:',spec_sentosa)"
   ]
  },
  {
   "cell_type": "code",
   "execution_count": 19,
   "metadata": {},
   "outputs": [
    {
     "name": "stdout",
     "output_type": "stream",
     "text": [
      "              precision    recall  f1-score   support\n",
      "\n",
      "      setosa       1.00      1.00      1.00        15\n",
      "  versicolor       0.88      1.00      0.94        15\n",
      "   virginica       1.00      0.87      0.93        15\n",
      "\n",
      "    accuracy                           0.96        45\n",
      "   macro avg       0.96      0.96      0.96        45\n",
      "weighted avg       0.96      0.96      0.96        45\n",
      "\n"
     ]
    }
   ],
   "source": [
    "from sklearn.metrics import classification_report\n",
    "print(classification_report(y_test, pred))"
   ]
  },
  {
   "cell_type": "markdown",
   "metadata": {},
   "source": [
    "# Session 2"
   ]
  },
  {
   "cell_type": "code",
   "execution_count": 59,
   "metadata": {},
   "outputs": [],
   "source": [
    "import time"
   ]
  },
  {
   "cell_type": "code",
   "execution_count": 66,
   "metadata": {},
   "outputs": [
    {
     "name": "stdout",
     "output_type": "stream",
     "text": [
      "Min Distance: 0.14142135623730995 \n",
      "Nearest Index 54 \n",
      "Nearest Classification: versicolor\n",
      "Time Taken: 23.15311598777771\n"
     ]
    }
   ],
   "source": [
    "time1 = time.time()\n",
    "for i in range(500):\n",
    "    dist = []\n",
    "    for i in range(X_train.shape[0]):\n",
    "        distance = calc_dist(X_test.iloc[10, ], X_train.iloc[i, ])\n",
    "        dist.append((distance, i))\n",
    "    dist.sort()\n",
    "    min_dist = dist[0][0]\n",
    "    nearest_index = dist[0][1]\n",
    "    nearest_obs = y_train.iloc[nearest_index, ]\n",
    "print('Min Distance:', min_dist, '\\nNearest Index', nearest_index, '\\nNearest Classification:', nearest_obs)\n",
    "print('Time Taken:', (time.time()-time1))"
   ]
  },
  {
   "cell_type": "code",
   "execution_count": 67,
   "metadata": {},
   "outputs": [
    {
     "name": "stdout",
     "output_type": "stream",
     "text": [
      "Min Distance: 0.14142135623730995 \n",
      "Nearest Index 54 \n",
      "Nearest Classification: versicolor\n",
      "Time Taken: 22.050590991973877\n"
     ]
    }
   ],
   "source": [
    "# Simpler way of calculating nearest neighour.\n",
    "time1 = time.time()\n",
    "for i in range(500):\n",
    "    min_dist = float('inf')\n",
    "    nearest_index = int()\n",
    "    for i in range(len(X_train)):\n",
    "        d = calc_dist(X_test.iloc[10, ], X_train.iloc[i, ])\n",
    "        if d < min_dist:\n",
    "            min_dist = d\n",
    "            nearest_index = i\n",
    "    nearest_obs = y_train.iloc[nearest_index, ]\n",
    "print('Min Distance:', min_dist, '\\nNearest Index', nearest_index, '\\nNearest Classification:', nearest_obs)\n",
    "print('Time Taken:', (time.time()-time1))"
   ]
  },
  {
   "cell_type": "code",
   "execution_count": 68,
   "metadata": {},
   "outputs": [
    {
     "name": "stdout",
     "output_type": "stream",
     "text": [
      "Min Distance: 0.14142135623730995 \n",
      "Nearest Index 54 \n",
      "Nearest Classification: versicolor\n",
      "Time Taken: 23.9383602142334\n"
     ]
    }
   ],
   "source": [
    "# Or \n",
    "time1 = time.time()\n",
    "for i in range(500):\n",
    "    dist1 = []\n",
    "    for i in range(len(X_train)):\n",
    "        dist = calc_dist(X_test.iloc[10, ], X_train.iloc[i, ])\n",
    "        dist1.append(dist)\n",
    "    min_dist = min(dist1)\n",
    "    nearest_index = dist1.index(min(dist1))\n",
    "    nearest_obs = y_train.iloc[nearest_index, ]\n",
    "print('Min Distance:', min_dist, '\\nNearest Index', nearest_index, '\\nNearest Classification:', nearest_obs)\n",
    "print('Time Taken:', (time.time()-time1))"
   ]
  },
  {
   "cell_type": "markdown",
   "metadata": {},
   "source": [
    "KNN is a lazy learner as it goes through the whole process again and again whenever we get a new data to classify."
   ]
  },
  {
   "cell_type": "code",
   "execution_count": 7,
   "metadata": {},
   "outputs": [],
   "source": [
    "# Function 1: Function to calculate distance\n",
    "def dist(vect1, vect2):\n",
    "    vect1 = np.array(vect1)\n",
    "    vect2 = np.array(vect2)\n",
    "    distance =  np.sqrt(np.matmul(np.transpose(vect1 - vect2), (vect1 - vect2)))\n",
    "    return distance"
   ]
  },
  {
   "cell_type": "code",
   "execution_count": 9,
   "metadata": {},
   "outputs": [
    {
     "name": "stdout",
     "output_type": "stream",
     "text": [
      "3.165438358268883\n"
     ]
    }
   ],
   "source": [
    "print(dist(X_test_iris.iloc[0, ], X_train_iris.iloc[1,]))"
   ]
  },
  {
   "cell_type": "code",
   "execution_count": 10,
   "metadata": {},
   "outputs": [],
   "source": [
    "# Function 2: Function to get the nearest neighour.\n",
    "def nearest_neighour(X_train, y_train, test_row):\n",
    "    min_dist = float('inf')\n",
    "    nearest_index = int()\n",
    "    for i in range(len(X_train)):\n",
    "        d = dist(test_row, X_train.iloc[i, ])\n",
    "        if d < min_dist:\n",
    "            min_dist = d\n",
    "            nearest_index = i\n",
    "    nearest_obs = y_train.iloc[nearest_index, ]\n",
    "    return nearest_obs"
   ]
  },
  {
   "cell_type": "code",
   "execution_count": 11,
   "metadata": {},
   "outputs": [
    {
     "name": "stdout",
     "output_type": "stream",
     "text": [
      "setosa\n"
     ]
    }
   ],
   "source": [
    "print(nearest_neighour(X_train_iris, y_train_iris, X_test_iris.iloc[0,]))"
   ]
  },
  {
   "cell_type": "code",
   "execution_count": 12,
   "metadata": {},
   "outputs": [],
   "source": [
    "def min_max_scaling(train, test, column_list = list()):\n",
    "    if len(column_list) == 0:\n",
    "        column_list = train.columns.tolist()\n",
    "    for each in column_list:\n",
    "        variable = train[each]\n",
    "        min_train = np.min(variable)\n",
    "        max_train = np.max(variable)\n",
    "        train[each] = ((train[each] - min_train) / (max_train - min_train))\n",
    "        test[each] = ((test[each] - min_train) / (max_train - min_train))\n",
    "    return train, test"
   ]
  },
  {
   "cell_type": "code",
   "execution_count": 13,
   "metadata": {},
   "outputs": [],
   "source": [
    "# Function 3: Function to get 1NN for X_test:\n",
    "def one_NN(X_train, X_test, y_train):\n",
    "    neighbour_list = list()\n",
    "    X_train, X_test = min_max_scaling(X_train, X_test)\n",
    "    for i in range(X_test.shape[0]):\n",
    "        neighbour = nearest_neighour(X_train, y_train, X_test.iloc[i, ])\n",
    "        neighbour_list.append(neighbour)\n",
    "    return neighbour_list"
   ]
  },
  {
   "cell_type": "markdown",
   "metadata": {},
   "source": [
    "## 1-NN for Iris"
   ]
  },
  {
   "cell_type": "code",
   "execution_count": 25,
   "metadata": {},
   "outputs": [
    {
     "data": {
      "text/html": [
       "<div>\n",
       "<style scoped>\n",
       "    .dataframe tbody tr th:only-of-type {\n",
       "        vertical-align: middle;\n",
       "    }\n",
       "\n",
       "    .dataframe tbody tr th {\n",
       "        vertical-align: top;\n",
       "    }\n",
       "\n",
       "    .dataframe thead th {\n",
       "        text-align: right;\n",
       "    }\n",
       "</style>\n",
       "<table border=\"1\" class=\"dataframe\">\n",
       "  <thead>\n",
       "    <tr style=\"text-align: right;\">\n",
       "      <th></th>\n",
       "      <th>prediction</th>\n",
       "      <th>actual</th>\n",
       "    </tr>\n",
       "  </thead>\n",
       "  <tbody>\n",
       "    <tr>\n",
       "      <th>34</th>\n",
       "      <td>setosa</td>\n",
       "      <td>setosa</td>\n",
       "    </tr>\n",
       "    <tr>\n",
       "      <th>89</th>\n",
       "      <td>versicolor</td>\n",
       "      <td>versicolor</td>\n",
       "    </tr>\n",
       "    <tr>\n",
       "      <th>121</th>\n",
       "      <td>virginica</td>\n",
       "      <td>virginica</td>\n",
       "    </tr>\n",
       "    <tr>\n",
       "      <th>94</th>\n",
       "      <td>versicolor</td>\n",
       "      <td>versicolor</td>\n",
       "    </tr>\n",
       "    <tr>\n",
       "      <th>104</th>\n",
       "      <td>virginica</td>\n",
       "      <td>virginica</td>\n",
       "    </tr>\n",
       "  </tbody>\n",
       "</table>\n",
       "</div>"
      ],
      "text/plain": [
       "     prediction      actual\n",
       "34       setosa      setosa\n",
       "89   versicolor  versicolor\n",
       "121   virginica   virginica\n",
       "94   versicolor  versicolor\n",
       "104   virginica   virginica"
      ]
     },
     "execution_count": 25,
     "metadata": {},
     "output_type": "execute_result"
    }
   ],
   "source": [
    "pred = one_NN(X_train_iris, X_test_iris, y_train_iris)\n",
    "dict_for_df = {'prediction': pred, 'actual': y_test_iris}\n",
    "pd.DataFrame(dict_for_df).head()"
   ]
  },
  {
   "cell_type": "code",
   "execution_count": 26,
   "metadata": {},
   "outputs": [
    {
     "data": {
      "text/plain": [
       "array([[15,  0,  0],\n",
       "       [ 0, 15,  0],\n",
       "       [ 0,  3, 12]], dtype=int64)"
      ]
     },
     "execution_count": 26,
     "metadata": {},
     "output_type": "execute_result"
    }
   ],
   "source": [
    "from sklearn.metrics import confusion_matrix\n",
    "c = confusion_matrix(y_test_iris, pred, labels=['setosa', 'versicolor', 'virginica'])\n",
    "c"
   ]
  },
  {
   "cell_type": "code",
   "execution_count": 27,
   "metadata": {},
   "outputs": [
    {
     "name": "stdout",
     "output_type": "stream",
     "text": [
      "              precision    recall  f1-score   support\n",
      "\n",
      "      setosa       1.00      1.00      1.00        15\n",
      "  versicolor       0.83      1.00      0.91        15\n",
      "   virginica       1.00      0.80      0.89        15\n",
      "\n",
      "    accuracy                           0.93        45\n",
      "   macro avg       0.94      0.93      0.93        45\n",
      "weighted avg       0.94      0.93      0.93        45\n",
      "\n"
     ]
    }
   ],
   "source": [
    "from sklearn.metrics import classification_report\n",
    "print(classification_report(y_test_iris, pred))"
   ]
  },
  {
   "cell_type": "markdown",
   "metadata": {},
   "source": [
    "## 1-NN for cars"
   ]
  },
  {
   "cell_type": "code",
   "execution_count": 28,
   "metadata": {},
   "outputs": [
    {
     "name": "stderr",
     "output_type": "stream",
     "text": [
      "C:\\ProgramData\\Anaconda3\\lib\\site-packages\\ipykernel_launcher.py:8: SettingWithCopyWarning: \n",
      "A value is trying to be set on a copy of a slice from a DataFrame.\n",
      "Try using .loc[row_indexer,col_indexer] = value instead\n",
      "\n",
      "See the caveats in the documentation: https://pandas.pydata.org/pandas-docs/stable/user_guide/indexing.html#returning-a-view-versus-a-copy\n",
      "  \n",
      "C:\\ProgramData\\Anaconda3\\lib\\site-packages\\ipykernel_launcher.py:9: SettingWithCopyWarning: \n",
      "A value is trying to be set on a copy of a slice from a DataFrame.\n",
      "Try using .loc[row_indexer,col_indexer] = value instead\n",
      "\n",
      "See the caveats in the documentation: https://pandas.pydata.org/pandas-docs/stable/user_guide/indexing.html#returning-a-view-versus-a-copy\n",
      "  if __name__ == '__main__':\n"
     ]
    },
    {
     "data": {
      "text/html": [
       "<div>\n",
       "<style scoped>\n",
       "    .dataframe tbody tr th:only-of-type {\n",
       "        vertical-align: middle;\n",
       "    }\n",
       "\n",
       "    .dataframe tbody tr th {\n",
       "        vertical-align: top;\n",
       "    }\n",
       "\n",
       "    .dataframe thead th {\n",
       "        text-align: right;\n",
       "    }\n",
       "</style>\n",
       "<table border=\"1\" class=\"dataframe\">\n",
       "  <thead>\n",
       "    <tr style=\"text-align: right;\">\n",
       "      <th></th>\n",
       "      <th>prediction</th>\n",
       "      <th>actual</th>\n",
       "    </tr>\n",
       "  </thead>\n",
       "  <tbody>\n",
       "    <tr>\n",
       "      <th>233</th>\n",
       "      <td>15.0</td>\n",
       "      <td>20.5</td>\n",
       "    </tr>\n",
       "    <tr>\n",
       "      <th>309</th>\n",
       "      <td>41.5</td>\n",
       "      <td>34.5</td>\n",
       "    </tr>\n",
       "    <tr>\n",
       "      <th>377</th>\n",
       "      <td>19.0</td>\n",
       "      <td>34.0</td>\n",
       "    </tr>\n",
       "    <tr>\n",
       "      <th>320</th>\n",
       "      <td>26.6</td>\n",
       "      <td>28.0</td>\n",
       "    </tr>\n",
       "    <tr>\n",
       "      <th>161</th>\n",
       "      <td>18.0</td>\n",
       "      <td>15.0</td>\n",
       "    </tr>\n",
       "  </tbody>\n",
       "</table>\n",
       "</div>"
      ],
      "text/plain": [
       "     prediction  actual\n",
       "233        15.0    20.5\n",
       "309        41.5    34.5\n",
       "377        19.0    34.0\n",
       "320        26.6    28.0\n",
       "161        18.0    15.0"
      ]
     },
     "execution_count": 28,
     "metadata": {},
     "output_type": "execute_result"
    }
   ],
   "source": [
    "pred = one_NN(X_train_cars, X_test_cars, y_train_cars)\n",
    "dict_for_df = {'prediction': pred, 'actual': y_test_cars}\n",
    "pd.DataFrame(dict_for_df).head()"
   ]
  },
  {
   "cell_type": "code",
   "execution_count": 29,
   "metadata": {},
   "outputs": [
    {
     "name": "stdout",
     "output_type": "stream",
     "text": [
      "RMSE: 5.894725344343526 \n",
      "R Square: 0.3605026624121883\n"
     ]
    }
   ],
   "source": [
    "from sklearn.metrics import mean_squared_error, r2_score\n",
    "\n",
    "RMSE = mean_squared_error(y_test_cars, pred)**0.5\n",
    "r_square = r2_score(y_test_cars, pred)\n",
    "print('RMSE:', RMSE, '\\nR Square:', r_square)"
   ]
  },
  {
   "cell_type": "code",
   "execution_count": 30,
   "metadata": {},
   "outputs": [
    {
     "data": {
      "text/plain": [
       "5.894725344343526"
      ]
     },
     "execution_count": 30,
     "metadata": {},
     "output_type": "execute_result"
    }
   ],
   "source": [
    "np.sqrt(np.mean(np.array(y_test_cars - np.array(pred)) ** 2)) #RMSE"
   ]
  },
  {
   "cell_type": "markdown",
   "metadata": {},
   "source": [
    "## Experimenting to check best performance"
   ]
  },
  {
   "cell_type": "code",
   "execution_count": 7,
   "metadata": {},
   "outputs": [],
   "source": [
    "import time"
   ]
  },
  {
   "cell_type": "code",
   "execution_count": 18,
   "metadata": {},
   "outputs": [
    {
     "name": "stdout",
     "output_type": "stream",
     "text": [
      "10.45564079284668\n"
     ]
    }
   ],
   "source": [
    "time1 = time.time()\n",
    "for i in range(10):\n",
    "    k_nearest_neighour_pred(X_train, X_test, y_train)\n",
    "print(time.time() - time1)"
   ]
  },
  {
   "cell_type": "code",
   "execution_count": 19,
   "metadata": {},
   "outputs": [
    {
     "name": "stdout",
     "output_type": "stream",
     "text": [
      "11.415364742279053\n"
     ]
    }
   ],
   "source": [
    "time1 = time.time()\n",
    "for i in range(10):\n",
    "    one_NN(X_train, X_test, y_train)\n",
    "print(time.time() - time1)"
   ]
  },
  {
   "cell_type": "code",
   "execution_count": 20,
   "metadata": {},
   "outputs": [
    {
     "name": "stdout",
     "output_type": "stream",
     "text": [
      "4.044697284698486\n"
     ]
    }
   ],
   "source": [
    "time1 = time.time()\n",
    "for i in range(10000):\n",
    "    calc_dist(X_train.iloc[0, ], X_test.iloc[0, ], 'Vector')\n",
    "print(time.time() - time1)"
   ]
  },
  {
   "cell_type": "code",
   "execution_count": 21,
   "metadata": {},
   "outputs": [
    {
     "name": "stdout",
     "output_type": "stream",
     "text": [
      "3.9117443561553955\n"
     ]
    }
   ],
   "source": [
    "time1 = time.time()\n",
    "for i in range(10000):\n",
    "    calc_dist(X_train.iloc[0, ], X_test.iloc[0, ], 'Normal')\n",
    "print(time.time() - time1)"
   ]
  },
  {
   "cell_type": "code",
   "execution_count": 22,
   "metadata": {},
   "outputs": [
    {
     "name": "stdout",
     "output_type": "stream",
     "text": [
      "3.8692781925201416\n"
     ]
    }
   ],
   "source": [
    "time1 = time.time()\n",
    "for i in range(10000):\n",
    "    calc_dist(X_train.iloc[0, ], X_test.iloc[0, ], 'Loop')\n",
    "print(time.time() - time1)"
   ]
  },
  {
   "cell_type": "code",
   "execution_count": 23,
   "metadata": {},
   "outputs": [
    {
     "name": "stdout",
     "output_type": "stream",
     "text": [
      "3.7677853107452393\n"
     ]
    }
   ],
   "source": [
    "time1 = time.time()\n",
    "for i in range(10000):\n",
    "    calc_dist(X_train.iloc[0, ], X_test.iloc[0, ], 'Numpy')\n",
    "print(time.time() - time1)"
   ]
  },
  {
   "cell_type": "markdown",
   "metadata": {},
   "source": [
    "# Session 3"
   ]
  },
  {
   "cell_type": "markdown",
   "metadata": {},
   "source": [
    "## K-NN Classification with Scaling"
   ]
  },
  {
   "cell_type": "code",
   "execution_count": 45,
   "metadata": {},
   "outputs": [],
   "source": [
    "# Function 1: Function to calculate distance\n",
    "def dist(vect1, vect2):\n",
    "    vect1 = np.array(vect1)\n",
    "    vect2 = np.array(vect2)\n",
    "    distance =  np.sqrt(np.matmul(np.transpose(vect1 - vect2), (vect1 - vect2)))\n",
    "    return distance"
   ]
  },
  {
   "cell_type": "code",
   "execution_count": 46,
   "metadata": {},
   "outputs": [],
   "source": [
    "# Function 2: Function to get the nearest neighour.\n",
    "def nearest_neighour(X_train, y_train, test_row, k):\n",
    "    distance_list = []\n",
    "    y_count = dict()\n",
    "    # Loop to calculate euclidean distance of current row from each value in X_train.\n",
    "    for j in range(X_train.shape[0]):\n",
    "        curr_dist = dist(test_row,X_train.iloc[j, ])\n",
    "        distance_list.append((curr_dist, j))\n",
    "\n",
    "    # Sorting in ascending order using the distances calculated from each row.\n",
    "    distance_list.sort()\n",
    "\n",
    "    # Creating a dictionary to count the number of instances a classification appears.\n",
    "    for rank in range(k):\n",
    "        pred = y_train.iloc[distance_list[rank][1], ]\n",
    "        y_count[pred] = y_count.get(pred, 0) + 1\n",
    "\n",
    "    # Selecting the classification with highest number of votes.\n",
    "    prediction = sorted(y_count, key=y_count.get, reverse=True)[0]\n",
    "    return prediction"
   ]
  },
  {
   "cell_type": "code",
   "execution_count": 47,
   "metadata": {},
   "outputs": [],
   "source": [
    "def min_max_scaling(train, test, column_list = list()):\n",
    "    if len(column_list) == 0:\n",
    "        column_list = train.columns.tolist()\n",
    "    for each in column_list:\n",
    "        variable = train[each]\n",
    "        min_train = np.min(variable)\n",
    "        max_train = np.max(variable)\n",
    "        train[each] = ((train[each] - min_train) / (max_train - min_train))\n",
    "        test[each] = ((test[each] - min_train) / (max_train - min_train))\n",
    "    return train, test"
   ]
  },
  {
   "cell_type": "code",
   "execution_count": 48,
   "metadata": {},
   "outputs": [],
   "source": [
    "def k_NN_Classification(X_train, X_test, y_train, k = 5):\n",
    "    pred_list = list()\n",
    "    # Handling the condition when the user tries to predict for just one entry and it is not in dataframe format\n",
    "    if X_test.shape == (X_train.shape[1],):\n",
    "        # Reshaping and converting to a dataframe.\n",
    "        X_test = pd.DataFrame(X_test.values.reshape((-1, X_train.shape[1])), columns=X_train.columns)\n",
    "    \n",
    "    #Scaling Data:\n",
    "    X_train, X_test = min_max_scaling(X_train, X_test)\n",
    "    \n",
    "    # Loop to predict for each row.\n",
    "    for i in range(X_test.shape[0]):\n",
    "        prediction = nearest_neighour(X_train, y_train, X_test.iloc[i, ], k)\n",
    "        pred_list.append(prediction)\n",
    "    return pred_list"
   ]
  },
  {
   "cell_type": "code",
   "execution_count": 49,
   "metadata": {},
   "outputs": [
    {
     "data": {
      "text/html": [
       "<div>\n",
       "<style scoped>\n",
       "    .dataframe tbody tr th:only-of-type {\n",
       "        vertical-align: middle;\n",
       "    }\n",
       "\n",
       "    .dataframe tbody tr th {\n",
       "        vertical-align: top;\n",
       "    }\n",
       "\n",
       "    .dataframe thead th {\n",
       "        text-align: right;\n",
       "    }\n",
       "</style>\n",
       "<table border=\"1\" class=\"dataframe\">\n",
       "  <thead>\n",
       "    <tr style=\"text-align: right;\">\n",
       "      <th></th>\n",
       "      <th>prediction</th>\n",
       "      <th>actual</th>\n",
       "    </tr>\n",
       "  </thead>\n",
       "  <tbody>\n",
       "    <tr>\n",
       "      <th>34</th>\n",
       "      <td>setosa</td>\n",
       "      <td>setosa</td>\n",
       "    </tr>\n",
       "    <tr>\n",
       "      <th>89</th>\n",
       "      <td>versicolor</td>\n",
       "      <td>versicolor</td>\n",
       "    </tr>\n",
       "    <tr>\n",
       "      <th>121</th>\n",
       "      <td>virginica</td>\n",
       "      <td>virginica</td>\n",
       "    </tr>\n",
       "    <tr>\n",
       "      <th>94</th>\n",
       "      <td>versicolor</td>\n",
       "      <td>versicolor</td>\n",
       "    </tr>\n",
       "    <tr>\n",
       "      <th>104</th>\n",
       "      <td>virginica</td>\n",
       "      <td>virginica</td>\n",
       "    </tr>\n",
       "  </tbody>\n",
       "</table>\n",
       "</div>"
      ],
      "text/plain": [
       "     prediction      actual\n",
       "34       setosa      setosa\n",
       "89   versicolor  versicolor\n",
       "121   virginica   virginica\n",
       "94   versicolor  versicolor\n",
       "104   virginica   virginica"
      ]
     },
     "execution_count": 49,
     "metadata": {},
     "output_type": "execute_result"
    }
   ],
   "source": [
    "pred = k_NN(X_train_iris, X_test_iris, y_train_iris, 15)\n",
    "dict_for_df = {'prediction': pred, 'actual': y_test_iris}\n",
    "pd.DataFrame(dict_for_df).head()"
   ]
  },
  {
   "cell_type": "code",
   "execution_count": 50,
   "metadata": {},
   "outputs": [
    {
     "data": {
      "text/plain": [
       "array([[15,  0,  0],\n",
       "       [ 0, 15,  0],\n",
       "       [ 0,  3, 12]], dtype=int64)"
      ]
     },
     "execution_count": 50,
     "metadata": {},
     "output_type": "execute_result"
    }
   ],
   "source": [
    "from sklearn.metrics import confusion_matrix\n",
    "c = confusion_matrix(y_test_iris, pred, labels=['setosa', 'versicolor', 'virginica'])\n",
    "c"
   ]
  },
  {
   "cell_type": "code",
   "execution_count": 51,
   "metadata": {},
   "outputs": [
    {
     "name": "stdout",
     "output_type": "stream",
     "text": [
      "              precision    recall  f1-score   support\n",
      "\n",
      "      setosa       1.00      1.00      1.00        15\n",
      "  versicolor       0.83      1.00      0.91        15\n",
      "   virginica       1.00      0.80      0.89        15\n",
      "\n",
      "    accuracy                           0.93        45\n",
      "   macro avg       0.94      0.93      0.93        45\n",
      "weighted avg       0.94      0.93      0.93        45\n",
      "\n"
     ]
    }
   ],
   "source": [
    "from sklearn.metrics import classification_report\n",
    "print(classification_report(y_test_iris, pred))"
   ]
  },
  {
   "cell_type": "markdown",
   "metadata": {},
   "source": [
    "## K-NN Regression with Scaling"
   ]
  },
  {
   "cell_type": "code",
   "execution_count": 7,
   "metadata": {},
   "outputs": [],
   "source": [
    "# Function 1: Function to calculate distance\n",
    "def dist(vect1, vect2):\n",
    "    vect1 = np.array(vect1)\n",
    "    vect2 = np.array(vect2)\n",
    "    distance =  np.sqrt(np.matmul(np.transpose(vect1 - vect2), (vect1 - vect2)))\n",
    "    return distance"
   ]
  },
  {
   "cell_type": "code",
   "execution_count": 8,
   "metadata": {},
   "outputs": [],
   "source": [
    "# Function 2: Function to get the nearest neighour.\n",
    "def nearest_neighour(X_train, y_train, test_row, k):\n",
    "    distance_list = []\n",
    "    # Loop to calculate euclidean distance of current row from each value in X_train.\n",
    "    for j in range(X_train.shape[0]):\n",
    "        curr_dist = dist(test_row,X_train.iloc[j, ])\n",
    "        distance_list.append((curr_dist, j))\n",
    "\n",
    "    # Sorting in ascending order using the distances calculated from each row.\n",
    "    distance_list.sort()\n",
    "\n",
    "    # Creating a list to get mean of\n",
    "    y_list = list()\n",
    "    for rank in range(k):\n",
    "        pred = y_train.iloc[distance_list[rank][1], ]\n",
    "        y_list.append(pred)\n",
    "\n",
    "    # Finding mean of every value to return.\n",
    "    prediction = np.mean(y_list)\n",
    "    return prediction"
   ]
  },
  {
   "cell_type": "code",
   "execution_count": 9,
   "metadata": {},
   "outputs": [],
   "source": [
    "def min_max_scaling(train, test, column_list = list()):\n",
    "    if len(column_list) == 0:\n",
    "        column_list = train.columns.tolist()\n",
    "    for each in column_list:\n",
    "        variable = train[each]\n",
    "        min_train = np.min(variable)\n",
    "        max_train = np.max(variable)\n",
    "        train[each] = ((train[each] - min_train) / (max_train - min_train))\n",
    "        test[each] = ((test[each] - min_train) / (max_train - min_train))\n",
    "    return train, test"
   ]
  },
  {
   "cell_type": "code",
   "execution_count": 10,
   "metadata": {},
   "outputs": [],
   "source": [
    "def k_NN_Regression(X_train, X_test, y_train, k = 5):\n",
    "    pred_list = list()\n",
    "    # Handling the condition when the user tries to predict for just one entry and it is not in dataframe format\n",
    "    if X_test.shape == (X_train.shape[1],):\n",
    "        # Reshaping and converting to a dataframe.\n",
    "        X_test = pd.DataFrame(X_test.values.reshape((-1, X_train.shape[1])), columns=X_train.columns)\n",
    "    #Scaling Data:\n",
    "    X_train, X_test = min_max_scaling(X_train, X_test)\n",
    "    # Loop to predict for each row.\n",
    "    for i in range(X_test.shape[0]):\n",
    "        prediction = nearest_neighour(X_train, y_train, X_test.iloc[i, ], k)\n",
    "        pred_list.append(prediction)\n",
    "    return pred_list"
   ]
  },
  {
   "cell_type": "code",
   "execution_count": 11,
   "metadata": {},
   "outputs": [
    {
     "name": "stderr",
     "output_type": "stream",
     "text": [
      "C:\\ProgramData\\Anaconda3\\lib\\site-packages\\ipykernel_launcher.py:8: SettingWithCopyWarning: \n",
      "A value is trying to be set on a copy of a slice from a DataFrame.\n",
      "Try using .loc[row_indexer,col_indexer] = value instead\n",
      "\n",
      "See the caveats in the documentation: https://pandas.pydata.org/pandas-docs/stable/user_guide/indexing.html#returning-a-view-versus-a-copy\n",
      "  \n",
      "C:\\ProgramData\\Anaconda3\\lib\\site-packages\\ipykernel_launcher.py:9: SettingWithCopyWarning: \n",
      "A value is trying to be set on a copy of a slice from a DataFrame.\n",
      "Try using .loc[row_indexer,col_indexer] = value instead\n",
      "\n",
      "See the caveats in the documentation: https://pandas.pydata.org/pandas-docs/stable/user_guide/indexing.html#returning-a-view-versus-a-copy\n",
      "  if __name__ == '__main__':\n"
     ]
    },
    {
     "data": {
      "text/html": [
       "<div>\n",
       "<style scoped>\n",
       "    .dataframe tbody tr th:only-of-type {\n",
       "        vertical-align: middle;\n",
       "    }\n",
       "\n",
       "    .dataframe tbody tr th {\n",
       "        vertical-align: top;\n",
       "    }\n",
       "\n",
       "    .dataframe thead th {\n",
       "        text-align: right;\n",
       "    }\n",
       "</style>\n",
       "<table border=\"1\" class=\"dataframe\">\n",
       "  <thead>\n",
       "    <tr style=\"text-align: right;\">\n",
       "      <th></th>\n",
       "      <th>prediction</th>\n",
       "      <th>actual</th>\n",
       "    </tr>\n",
       "  </thead>\n",
       "  <tbody>\n",
       "    <tr>\n",
       "      <th>233</th>\n",
       "      <td>18.38</td>\n",
       "      <td>20.5</td>\n",
       "    </tr>\n",
       "    <tr>\n",
       "      <th>309</th>\n",
       "      <td>36.08</td>\n",
       "      <td>34.5</td>\n",
       "    </tr>\n",
       "    <tr>\n",
       "      <th>377</th>\n",
       "      <td>23.60</td>\n",
       "      <td>34.0</td>\n",
       "    </tr>\n",
       "    <tr>\n",
       "      <th>320</th>\n",
       "      <td>26.10</td>\n",
       "      <td>28.0</td>\n",
       "    </tr>\n",
       "    <tr>\n",
       "      <th>161</th>\n",
       "      <td>18.06</td>\n",
       "      <td>15.0</td>\n",
       "    </tr>\n",
       "  </tbody>\n",
       "</table>\n",
       "</div>"
      ],
      "text/plain": [
       "     prediction  actual\n",
       "233       18.38    20.5\n",
       "309       36.08    34.5\n",
       "377       23.60    34.0\n",
       "320       26.10    28.0\n",
       "161       18.06    15.0"
      ]
     },
     "execution_count": 11,
     "metadata": {},
     "output_type": "execute_result"
    }
   ],
   "source": [
    "pred = k_NN_Regression(X_train_cars, X_test_cars, y_train_cars)\n",
    "dict_for_df = {'prediction': pred, 'actual': y_test_cars}\n",
    "pd.DataFrame(dict_for_df).head()"
   ]
  },
  {
   "cell_type": "code",
   "execution_count": 12,
   "metadata": {},
   "outputs": [
    {
     "name": "stdout",
     "output_type": "stream",
     "text": [
      "RMSE: 3.8024651193149106 \n",
      "R Square: 0.7339017188512167\n"
     ]
    }
   ],
   "source": [
    "from sklearn.metrics import mean_squared_error, r2_score\n",
    "\n",
    "RMSE = mean_squared_error(y_test_cars, pred)**0.5\n",
    "r_square = r2_score(y_test_cars, pred)\n",
    "print('RMSE:', RMSE, '\\nR Square:', r_square)"
   ]
  },
  {
   "cell_type": "code",
   "execution_count": 13,
   "metadata": {},
   "outputs": [
    {
     "data": {
      "text/plain": [
       "3.8024651193149106"
      ]
     },
     "execution_count": 13,
     "metadata": {},
     "output_type": "execute_result"
    }
   ],
   "source": [
    "np.sqrt(np.mean(np.array(y_test_cars - np.array(pred)) ** 2)) #RMSE"
   ]
  }
 ],
 "metadata": {
  "kernelspec": {
   "display_name": "Python 3",
   "language": "python",
   "name": "python3"
  },
  "language_info": {
   "codemirror_mode": {
    "name": "ipython",
    "version": 3
   },
   "file_extension": ".py",
   "mimetype": "text/x-python",
   "name": "python",
   "nbconvert_exporter": "python",
   "pygments_lexer": "ipython3",
   "version": "3.7.7"
  }
 },
 "nbformat": 4,
 "nbformat_minor": 4
}
