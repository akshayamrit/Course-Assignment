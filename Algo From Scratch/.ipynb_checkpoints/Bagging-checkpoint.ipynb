{
 "cells": [
  {
   "cell_type": "markdown",
   "metadata": {},
   "source": [
    "# Bagging for Classification"
   ]
  },
  {
   "cell_type": "code",
   "execution_count": 1,
   "metadata": {},
   "outputs": [],
   "source": [
    "import numpy as np\n",
    "import pandas as pd\n",
    "from sklearn.model_selection import train_test_split\n",
    "from sklearn.tree import DecisionTreeClassifier\n",
    "from sklearn.tree import DecisionTreeRegressor\n",
    "from sklearn.metrics import confusion_matrix\n",
    "from sklearn.metrics import classification_report\n",
    "import os"
   ]
  },
  {
   "cell_type": "code",
   "execution_count": 2,
   "metadata": {},
   "outputs": [],
   "source": [
    "iris = pd.read_csv(os.getcwd()+\"\\\\Data\\\\iris.csv\")"
   ]
  },
  {
   "cell_type": "code",
   "execution_count": 3,
   "metadata": {},
   "outputs": [],
   "source": [
    "iris = iris.drop('Unnamed: 0', axis=1)"
   ]
  },
  {
   "cell_type": "code",
   "execution_count": 4,
   "metadata": {},
   "outputs": [],
   "source": [
    "X = iris[iris.columns[0:4].tolist()]\n",
    "y = iris['Species']"
   ]
  },
  {
   "cell_type": "code",
   "execution_count": 5,
   "metadata": {},
   "outputs": [],
   "source": [
    "X_train, X_test, y_train, y_test = train_test_split(X, y, test_size = 0.3, random_state = 100, stratify=y)"
   ]
  },
  {
   "cell_type": "markdown",
   "metadata": {},
   "source": [
    "## Function to create samples"
   ]
  },
  {
   "cell_type": "code",
   "execution_count": 6,
   "metadata": {},
   "outputs": [],
   "source": [
    "def create_boot_samples(X_train, no_of_samples):\n",
    "    dict_for_not_selected = dict()\n",
    "    samples = list()\n",
    "    \n",
    "    # Loop to get the number of samples defined by the user.\n",
    "    for i in range(no_of_samples):\n",
    "        boot_sample = X_train.sample(frac=1, replace=True)\n",
    "        samples.append(boot_sample.index.tolist())\n",
    "        index_selected = np.unique(boot_sample.index.tolist())\n",
    "        not_selected_list = list()\n",
    "        \n",
    "        # Condition to mark the index True if that index is selected for the bootstrap sample.\n",
    "        for j in range(X_train.shape[0]):\n",
    "            if j not in index_selected:\n",
    "                not_selected_list.append(True)\n",
    "            else:\n",
    "                not_selected_list.append(False)\n",
    "                \n",
    "        # Naming and adding the sample to a dictionary.\n",
    "        key = 'Boot' + str(i+1)\n",
    "        dict_for_not_selected[key] = not_selected_list\n",
    "    return dict_for_not_selected, samples"
   ]
  },
  {
   "cell_type": "markdown",
   "metadata": {},
   "source": [
    "## Function to build models"
   ]
  },
  {
   "cell_type": "code",
   "execution_count": 7,
   "metadata": {},
   "outputs": [],
   "source": [
    "def build_models(X_train, y_train, samples):\n",
    "    model_list = list()\n",
    "    \n",
    "    # Looping till every sample is used.\n",
    "    for i in range(len(samples)):\n",
    "        train_predictor = X_train.loc[samples[i],]\n",
    "        train_response = y_train.loc[samples[i],]\n",
    "        \n",
    "        # Fitting decision tree using bootstrapped samples.\n",
    "        model = DecisionTreeClassifier(criterion = \"gini\", min_samples_leaf=5)\n",
    "        model.fit(train_predictor, train_response)\n",
    "        model_list.append(model)\n",
    "    return model_list"
   ]
  },
  {
   "cell_type": "markdown",
   "metadata": {},
   "source": [
    "## Function to cross validate using OOB"
   ]
  },
  {
   "cell_type": "code",
   "execution_count": 8,
   "metadata": {},
   "outputs": [],
   "source": [
    "def oob_stats(X_train, y_train, boot_unselected_list, samples, models):\n",
    "    key_list = list(boot_unselected_list.keys())\n",
    "    oob_pred_list = list()\n",
    "    \n",
    "    # Predicting for unselected values of sample using that particular model.\n",
    "    for i in range(len(key_list)):\n",
    "        test = X_train.loc[boot_unselected_list[key_list[i]],]\n",
    "        prediction = models[i].predict(test)\n",
    "        oob_pred_list.append(prediction)\n",
    "        \n",
    "    # Looping till every predicted value is assigned to their respective indexes.\n",
    "    each_model_predictions = dict()\n",
    "    for i in range(len(oob_pred_list)):\n",
    "        oob_pred = oob_pred_list[i]\n",
    "        current_sample = samples[i]\n",
    "        mod_prediction = list()\n",
    "        counter = 0\n",
    "        \n",
    "        # Adding value of prediction if available and marking it 'Unavailable' if prediction is missing.\n",
    "        for j in range(X_train.shape[0]):\n",
    "            if j not in current_sample:\n",
    "                mod_prediction.append(oob_pred[counter])\n",
    "                counter = counter + 1\n",
    "            else:\n",
    "                mod_prediction.append('Unidentified')\n",
    "        key = 'model'+str(i+1)\n",
    "        each_model_predictions[key] = mod_prediction\n",
    "        prediction_df = pd.DataFrame(each_model_predictions)\n",
    "        \n",
    "    # Counting votes for every predicted category.\n",
    "    final_prediction = list()\n",
    "    for i in range(prediction_df.shape[0]):\n",
    "        count_dictionary = dict()\n",
    "        for j in range(prediction_df.shape[1]):\n",
    "            pred = prediction_df.iloc[i,j]\n",
    "            count_dictionary[pred] = count_dictionary.get(pred, 0) + 1\n",
    "        pred_check = sorted(count_dictionary, key=count_dictionary.get, reverse=True)\n",
    "        \n",
    "        # If 'Unidentified' gets the most number of votes, we select the category with second highest votes.\n",
    "        if pred_check[0] == 'Unidentified':\n",
    "            final_prediction.append(pred_check[1])\n",
    "        else:\n",
    "            final_prediction.append(pred_check[0])\n",
    "            \n",
    "    # Printing the results of Out of Box validation.\n",
    "    print(confusion_matrix(y_train, final_prediction, labels = ['setosa', 'versicolor', 'virginica']))\n",
    "    print(classification_report(y_train, final_prediction))"
   ]
  },
  {
   "cell_type": "markdown",
   "metadata": {},
   "source": [
    "## Function to build bagging model"
   ]
  },
  {
   "cell_type": "code",
   "execution_count": 9,
   "metadata": {},
   "outputs": [],
   "source": [
    "def bagging_build(X_train, y_train, no_of_samples, OOB_test = False):\n",
    "    X_train = X_train.reset_index()\n",
    "    y_train = y_train.reset_index()\n",
    "    X_train = X_train.drop('index', axis = 1)\n",
    "    y_train = y_train.drop('index', axis = 1)\n",
    "    boot_selection_list, samples = create_boot_samples(X_train, no_of_samples)\n",
    "    models = build_models(X_train, y_train, samples)\n",
    "    if OOB_test:\n",
    "        oob_stats(X_train, y_train, boot_selection_list, samples, models)\n",
    "    return models"
   ]
  },
  {
   "cell_type": "code",
   "execution_count": 10,
   "metadata": {},
   "outputs": [
    {
     "name": "stdout",
     "output_type": "stream",
     "text": [
      "[[35  0  0]\n",
      " [ 0 33  2]\n",
      " [ 0  2 33]]\n",
      "              precision    recall  f1-score   support\n",
      "\n",
      "      setosa       1.00      1.00      1.00        35\n",
      "  versicolor       0.94      0.94      0.94        35\n",
      "   virginica       0.94      0.94      0.94        35\n",
      "\n",
      "    accuracy                           0.96       105\n",
      "   macro avg       0.96      0.96      0.96       105\n",
      "weighted avg       0.96      0.96      0.96       105\n",
      "\n"
     ]
    }
   ],
   "source": [
    "models = bagging_build(X_train, y_train, 100, True)"
   ]
  },
  {
   "cell_type": "markdown",
   "metadata": {},
   "source": [
    "## Function to predict using bagging model"
   ]
  },
  {
   "cell_type": "code",
   "execution_count": 11,
   "metadata": {},
   "outputs": [],
   "source": [
    "def bagging_predict(models, X_test):\n",
    "    prediction_list = dict()\n",
    "    for i in range(len(models)):\n",
    "        predictions = models[i].predict(X_test)\n",
    "        model_name = 'model_'+str(i+1)\n",
    "        prediction_list[model_name] = predictions\n",
    "        prediction_df = pd.DataFrame(prediction_list)\n",
    "\n",
    "    final_prediction = list()\n",
    "    for i in range(prediction_df.shape[0]):\n",
    "        count_dictionary = dict()\n",
    "        for j in range(prediction_df.shape[1]):\n",
    "            pred = prediction_df.iloc[i,j]\n",
    "            count_dictionary[pred] = count_dictionary.get(pred, 0) + 1\n",
    "        final_prediction.append(sorted(count_dictionary, key=count_dictionary.get, reverse=True)[0])\n",
    "    return final_prediction"
   ]
  },
  {
   "cell_type": "code",
   "execution_count": 12,
   "metadata": {},
   "outputs": [],
   "source": [
    "pred = bagging_predict(models, X_test)"
   ]
  },
  {
   "cell_type": "code",
   "execution_count": 13,
   "metadata": {},
   "outputs": [
    {
     "name": "stdout",
     "output_type": "stream",
     "text": [
      "[[15  0  0]\n",
      " [ 0 15  0]\n",
      " [ 0  3 12]]\n",
      "              precision    recall  f1-score   support\n",
      "\n",
      "      setosa       1.00      1.00      1.00        15\n",
      "  versicolor       0.83      1.00      0.91        15\n",
      "   virginica       1.00      0.80      0.89        15\n",
      "\n",
      "    accuracy                           0.93        45\n",
      "   macro avg       0.94      0.93      0.93        45\n",
      "weighted avg       0.94      0.93      0.93        45\n",
      "\n"
     ]
    }
   ],
   "source": [
    "print(confusion_matrix(y_test, pred))\n",
    "print(classification_report(y_test, pred))"
   ]
  }
 ],
 "metadata": {
  "kernelspec": {
   "display_name": "Python 3",
   "language": "python",
   "name": "python3"
  },
  "language_info": {
   "codemirror_mode": {
    "name": "ipython",
    "version": 3
   },
   "file_extension": ".py",
   "mimetype": "text/x-python",
   "name": "python",
   "nbconvert_exporter": "python",
   "pygments_lexer": "ipython3",
   "version": "3.7.7"
  }
 },
 "nbformat": 4,
 "nbformat_minor": 4
}
