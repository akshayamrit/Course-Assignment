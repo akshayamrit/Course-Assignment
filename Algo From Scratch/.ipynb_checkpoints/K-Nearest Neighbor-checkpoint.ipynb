{
 "cells": [
  {
   "cell_type": "markdown",
   "metadata": {},
   "source": [
    "### Group Details:\n",
    "|Roll Number|Name|\n",
    "| ----------- | ----------- |\n",
    "|E20004|Akshay Amrit|\n",
    "|E20032|Shivam Babbar|"
   ]
  },
  {
   "cell_type": "code",
   "execution_count": 1,
   "metadata": {},
   "outputs": [],
   "source": [
    "import numpy as np\n",
    "import pandas as pd\n",
    "import os\n",
    "from sklearn.model_selection import train_test_split\n",
    "from sklearn.metrics import mean_squared_error, r2_score\n",
    "from sklearn.metrics import confusion_matrix\n",
    "from sklearn.metrics import classification_report"
   ]
  },
  {
   "cell_type": "code",
   "execution_count": 2,
   "metadata": {},
   "outputs": [],
   "source": [
    "iris = pd.read_csv(r'C:\\Users\\aksha\\OneDrive\\Desktop\\Data Science Material\\ML + Python Notes\\Data\\iris.csv')\n",
    "cars = pd.read_csv(r'C:\\Users\\aksha\\OneDrive\\Desktop\\Data Science Material\\ML + Python Notes\\Data\\cars.csv')"
   ]
  },
  {
   "cell_type": "code",
   "execution_count": 3,
   "metadata": {},
   "outputs": [],
   "source": [
    "X = iris[['Sepal.Length', 'Sepal.Width', 'Petal.Length', 'Petal.Width']]\n",
    "Y = iris['Species']"
   ]
  },
  {
   "cell_type": "code",
   "execution_count": 4,
   "metadata": {},
   "outputs": [],
   "source": [
    "X_train_iris, X_test_iris, y_train_iris, y_test_iris = train_test_split(X, Y, test_size = 0.3, stratify = Y, random_state = 100)"
   ]
  },
  {
   "cell_type": "code",
   "execution_count": 5,
   "metadata": {},
   "outputs": [],
   "source": [
    "X = cars[['Cylinders', 'Displacement', 'Horsepower', 'Weight', 'Acceleration']]\n",
    "y = cars['MPG']"
   ]
  },
  {
   "cell_type": "code",
   "execution_count": 6,
   "metadata": {},
   "outputs": [],
   "source": [
    "X_train_cars, X_test_cars, y_train_cars, y_test_cars = train_test_split(X, y, test_size = 0.3, random_state = 100)"
   ]
  },
  {
   "cell_type": "markdown",
   "metadata": {},
   "source": [
    "## K-NN Classification with Scaling"
   ]
  },
  {
   "cell_type": "code",
   "execution_count": 7,
   "metadata": {},
   "outputs": [],
   "source": [
    "# Function 1: Function to calculate distance\n",
    "def dist(vect1, vect2):\n",
    "    vect1 = np.array(vect1)\n",
    "    vect2 = np.array(vect2)\n",
    "    distance =  np.sqrt(np.matmul(np.transpose(vect1 - vect2), (vect1 - vect2)))\n",
    "    return distance"
   ]
  },
  {
   "cell_type": "code",
   "execution_count": 8,
   "metadata": {},
   "outputs": [],
   "source": [
    "# Function 2: Function to get the nearest neighour.\n",
    "def nearest_neighour_classification(X_train, y_train, test_row, k):\n",
    "    distance_list = []\n",
    "    y_count = dict()\n",
    "    # Loop to calculate euclidean distance of current row from each value in X_train.\n",
    "    for j in range(X_train.shape[0]):\n",
    "        curr_dist = dist(test_row,X_train.iloc[j, ])\n",
    "        distance_list.append((curr_dist, j))\n",
    "\n",
    "    # Sorting in ascending order using the distances calculated from each row.\n",
    "    distance_list.sort()\n",
    "\n",
    "    # Creating a dictionary to count the number of instances a classification appears.\n",
    "    for rank in range(k):\n",
    "        pred = y_train.iloc[distance_list[rank][1], ]\n",
    "        y_count[pred] = y_count.get(pred, 0) + 1\n",
    "\n",
    "    # Selecting the classification with highest number of votes.\n",
    "    prediction = sorted(y_count, key=y_count.get, reverse=True)[0]\n",
    "    return prediction"
   ]
  },
  {
   "cell_type": "code",
   "execution_count": 9,
   "metadata": {},
   "outputs": [],
   "source": [
    "def min_max_scaling(train, test, column_list = list()):\n",
    "    if len(column_list) == 0:\n",
    "        column_list = train.columns.tolist()\n",
    "    for each in column_list:\n",
    "        variable = train[each]\n",
    "        min_train = np.min(variable)\n",
    "        max_train = np.max(variable)\n",
    "        train[each] = ((train[each] - min_train) / (max_train - min_train))\n",
    "        test[each] = ((test[each] - min_train) / (max_train - min_train))\n",
    "    return train, test"
   ]
  },
  {
   "cell_type": "code",
   "execution_count": 10,
   "metadata": {},
   "outputs": [],
   "source": [
    "def k_NN_Classification(X_train, X_test, y_train, k = 5):\n",
    "    pred_list = list()\n",
    "    # Handling the condition when the user tries to predict for just one entry and it is not in dataframe format\n",
    "    if X_test.shape == (X_train.shape[1],):\n",
    "        # Reshaping and converting to a dataframe.\n",
    "        X_test = pd.DataFrame(X_test.values.reshape((-1, X_train.shape[1])), columns=X_train.columns)\n",
    "    \n",
    "    #Scaling Data:\n",
    "    X_train, X_test = min_max_scaling(X_train, X_test)\n",
    "    \n",
    "    # Loop to predict for each row.\n",
    "    for i in range(X_test.shape[0]):\n",
    "        prediction = nearest_neighour_classification(X_train, y_train, X_test.iloc[i, ], k)\n",
    "        pred_list.append(prediction)\n",
    "    return pred_list"
   ]
  },
  {
   "cell_type": "code",
   "execution_count": 11,
   "metadata": {},
   "outputs": [
    {
     "data": {
      "text/html": [
       "<div>\n",
       "<style scoped>\n",
       "    .dataframe tbody tr th:only-of-type {\n",
       "        vertical-align: middle;\n",
       "    }\n",
       "\n",
       "    .dataframe tbody tr th {\n",
       "        vertical-align: top;\n",
       "    }\n",
       "\n",
       "    .dataframe thead th {\n",
       "        text-align: right;\n",
       "    }\n",
       "</style>\n",
       "<table border=\"1\" class=\"dataframe\">\n",
       "  <thead>\n",
       "    <tr style=\"text-align: right;\">\n",
       "      <th></th>\n",
       "      <th>prediction</th>\n",
       "      <th>actual</th>\n",
       "    </tr>\n",
       "  </thead>\n",
       "  <tbody>\n",
       "    <tr>\n",
       "      <th>34</th>\n",
       "      <td>setosa</td>\n",
       "      <td>setosa</td>\n",
       "    </tr>\n",
       "    <tr>\n",
       "      <th>89</th>\n",
       "      <td>versicolor</td>\n",
       "      <td>versicolor</td>\n",
       "    </tr>\n",
       "    <tr>\n",
       "      <th>121</th>\n",
       "      <td>virginica</td>\n",
       "      <td>virginica</td>\n",
       "    </tr>\n",
       "    <tr>\n",
       "      <th>94</th>\n",
       "      <td>versicolor</td>\n",
       "      <td>versicolor</td>\n",
       "    </tr>\n",
       "    <tr>\n",
       "      <th>104</th>\n",
       "      <td>virginica</td>\n",
       "      <td>virginica</td>\n",
       "    </tr>\n",
       "  </tbody>\n",
       "</table>\n",
       "</div>"
      ],
      "text/plain": [
       "     prediction      actual\n",
       "34       setosa      setosa\n",
       "89   versicolor  versicolor\n",
       "121   virginica   virginica\n",
       "94   versicolor  versicolor\n",
       "104   virginica   virginica"
      ]
     },
     "execution_count": 11,
     "metadata": {},
     "output_type": "execute_result"
    }
   ],
   "source": [
    "pred = k_NN_Classification(X_train_iris, X_test_iris, y_train_iris)\n",
    "dict_for_df = {'prediction': pred, 'actual': y_test_iris}\n",
    "pd.DataFrame(dict_for_df).head()"
   ]
  },
  {
   "cell_type": "code",
   "execution_count": 12,
   "metadata": {},
   "outputs": [
    {
     "data": {
      "text/plain": [
       "array([[15,  0,  0],\n",
       "       [ 0, 15,  0],\n",
       "       [ 0,  3, 12]], dtype=int64)"
      ]
     },
     "execution_count": 12,
     "metadata": {},
     "output_type": "execute_result"
    }
   ],
   "source": [
    "c = confusion_matrix(y_test_iris, pred, labels=['setosa', 'versicolor', 'virginica'])\n",
    "c"
   ]
  },
  {
   "cell_type": "code",
   "execution_count": 13,
   "metadata": {},
   "outputs": [
    {
     "name": "stdout",
     "output_type": "stream",
     "text": [
      "              precision    recall  f1-score   support\n",
      "\n",
      "      setosa       1.00      1.00      1.00        15\n",
      "  versicolor       0.83      1.00      0.91        15\n",
      "   virginica       1.00      0.80      0.89        15\n",
      "\n",
      "    accuracy                           0.93        45\n",
      "   macro avg       0.94      0.93      0.93        45\n",
      "weighted avg       0.94      0.93      0.93        45\n",
      "\n"
     ]
    }
   ],
   "source": [
    "print(classification_report(y_test_iris, pred))"
   ]
  },
  {
   "cell_type": "markdown",
   "metadata": {},
   "source": [
    "## K-NN Regression with Scaling"
   ]
  },
  {
   "cell_type": "code",
   "execution_count": 14,
   "metadata": {},
   "outputs": [],
   "source": [
    "# Function 2: Function to get the nearest neighour.\n",
    "def nearest_neighour_regression(X_train, y_train, test_row, k):\n",
    "    distance_list = []\n",
    "    # Loop to calculate euclidean distance of current row from each value in X_train.\n",
    "    for j in range(X_train.shape[0]):\n",
    "        curr_dist = dist(test_row,X_train.iloc[j, ])\n",
    "        distance_list.append((curr_dist, j))\n",
    "\n",
    "    # Sorting in ascending order using the distances calculated from each row.\n",
    "    distance_list.sort()\n",
    "\n",
    "    # Creating a list to get mean of\n",
    "    y_list = list()\n",
    "    for rank in range(k):\n",
    "        pred = y_train.iloc[distance_list[rank][1], ]\n",
    "        y_list.append(pred)\n",
    "\n",
    "    # Finding mean of every value to return.\n",
    "    prediction = np.mean(y_list)\n",
    "    return prediction"
   ]
  },
  {
   "cell_type": "code",
   "execution_count": 15,
   "metadata": {},
   "outputs": [],
   "source": [
    "def k_NN_Regression(X_train, X_test, y_train, k = 5):\n",
    "    pred_list = list()\n",
    "    # Handling the condition when the user tries to predict for just one entry and it is not in dataframe format\n",
    "    if X_test.shape == (X_train.shape[1],):\n",
    "        # Reshaping and converting to a dataframe.\n",
    "        X_test = pd.DataFrame(X_test.values.reshape((-1, X_train.shape[1])), columns=X_train.columns)\n",
    "    #Scaling Data:\n",
    "    X_train, X_test = min_max_scaling(X_train, X_test)\n",
    "    # Loop to predict for each row.\n",
    "    for i in range(X_test.shape[0]):\n",
    "        prediction = nearest_neighour_regression(X_train, y_train, X_test.iloc[i, ], k)\n",
    "        pred_list.append(prediction)\n",
    "    return pred_list"
   ]
  },
  {
   "cell_type": "code",
   "execution_count": 16,
   "metadata": {},
   "outputs": [
    {
     "name": "stderr",
     "output_type": "stream",
     "text": [
      "C:\\ProgramData\\Anaconda3\\lib\\site-packages\\ipykernel_launcher.py:8: SettingWithCopyWarning: \n",
      "A value is trying to be set on a copy of a slice from a DataFrame.\n",
      "Try using .loc[row_indexer,col_indexer] = value instead\n",
      "\n",
      "See the caveats in the documentation: https://pandas.pydata.org/pandas-docs/stable/user_guide/indexing.html#returning-a-view-versus-a-copy\n",
      "  \n",
      "C:\\ProgramData\\Anaconda3\\lib\\site-packages\\ipykernel_launcher.py:9: SettingWithCopyWarning: \n",
      "A value is trying to be set on a copy of a slice from a DataFrame.\n",
      "Try using .loc[row_indexer,col_indexer] = value instead\n",
      "\n",
      "See the caveats in the documentation: https://pandas.pydata.org/pandas-docs/stable/user_guide/indexing.html#returning-a-view-versus-a-copy\n",
      "  if __name__ == '__main__':\n"
     ]
    },
    {
     "data": {
      "text/html": [
       "<div>\n",
       "<style scoped>\n",
       "    .dataframe tbody tr th:only-of-type {\n",
       "        vertical-align: middle;\n",
       "    }\n",
       "\n",
       "    .dataframe tbody tr th {\n",
       "        vertical-align: top;\n",
       "    }\n",
       "\n",
       "    .dataframe thead th {\n",
       "        text-align: right;\n",
       "    }\n",
       "</style>\n",
       "<table border=\"1\" class=\"dataframe\">\n",
       "  <thead>\n",
       "    <tr style=\"text-align: right;\">\n",
       "      <th></th>\n",
       "      <th>prediction</th>\n",
       "      <th>actual</th>\n",
       "    </tr>\n",
       "  </thead>\n",
       "  <tbody>\n",
       "    <tr>\n",
       "      <th>233</th>\n",
       "      <td>18.38</td>\n",
       "      <td>20.5</td>\n",
       "    </tr>\n",
       "    <tr>\n",
       "      <th>309</th>\n",
       "      <td>36.08</td>\n",
       "      <td>34.5</td>\n",
       "    </tr>\n",
       "    <tr>\n",
       "      <th>377</th>\n",
       "      <td>23.60</td>\n",
       "      <td>34.0</td>\n",
       "    </tr>\n",
       "    <tr>\n",
       "      <th>320</th>\n",
       "      <td>26.10</td>\n",
       "      <td>28.0</td>\n",
       "    </tr>\n",
       "    <tr>\n",
       "      <th>161</th>\n",
       "      <td>18.06</td>\n",
       "      <td>15.0</td>\n",
       "    </tr>\n",
       "  </tbody>\n",
       "</table>\n",
       "</div>"
      ],
      "text/plain": [
       "     prediction  actual\n",
       "233       18.38    20.5\n",
       "309       36.08    34.5\n",
       "377       23.60    34.0\n",
       "320       26.10    28.0\n",
       "161       18.06    15.0"
      ]
     },
     "execution_count": 16,
     "metadata": {},
     "output_type": "execute_result"
    }
   ],
   "source": [
    "pred = k_NN_Regression(X_train_cars, X_test_cars, y_train_cars)\n",
    "dict_for_df = {'prediction': pred, 'actual': y_test_cars}\n",
    "pd.DataFrame(dict_for_df).head()"
   ]
  },
  {
   "cell_type": "code",
   "execution_count": 17,
   "metadata": {},
   "outputs": [
    {
     "name": "stdout",
     "output_type": "stream",
     "text": [
      "RMSE: 3.8024651193149106 \n",
      "R Square: 0.7339017188512167\n"
     ]
    }
   ],
   "source": [
    "RMSE = mean_squared_error(y_test_cars, pred)**0.5\n",
    "r_square = r2_score(y_test_cars, pred)\n",
    "print('RMSE:', RMSE, '\\nR Square:', r_square)"
   ]
  }
 ],
 "metadata": {
  "kernelspec": {
   "display_name": "Python 3",
   "language": "python",
   "name": "python3"
  },
  "language_info": {
   "codemirror_mode": {
    "name": "ipython",
    "version": 3
   },
   "file_extension": ".py",
   "mimetype": "text/x-python",
   "name": "python",
   "nbconvert_exporter": "python",
   "pygments_lexer": "ipython3",
   "version": "3.7.7"
  }
 },
 "nbformat": 4,
 "nbformat_minor": 4
}
