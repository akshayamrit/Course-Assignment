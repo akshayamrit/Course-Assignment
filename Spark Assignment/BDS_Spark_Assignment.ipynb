{
 "cells": [
  {
   "cell_type": "code",
   "execution_count": 1,
   "metadata": {
    "colab": {
     "base_uri": "https://localhost:8080/",
     "height": 255
    },
    "colab_type": "code",
    "id": "npcUX-7lf0Vo",
    "outputId": "98f5f88c-8556-42bc-dc0b-bcbe4cf373d6"
   },
   "outputs": [
    {
     "name": "stdout",
     "output_type": "stream",
     "text": [
      "Collecting pyspark\n",
      "\u001b[?25l  Downloading https://files.pythonhosted.org/packages/8e/b0/bf9020b56492281b9c9d8aae8f44ff51e1bc91b3ef5a884385cb4e389a40/pyspark-3.0.0.tar.gz (204.7MB)\n",
      "\u001b[K     |████████████████████████████████| 204.7MB 59kB/s \n",
      "\u001b[?25hCollecting py4j==0.10.9\n",
      "\u001b[?25l  Downloading https://files.pythonhosted.org/packages/9e/b6/6a4fb90cd235dc8e265a6a2067f2a2c99f0d91787f06aca4bcf7c23f3f80/py4j-0.10.9-py2.py3-none-any.whl (198kB)\n",
      "\u001b[K     |████████████████████████████████| 204kB 42.9MB/s \n",
      "\u001b[?25hBuilding wheels for collected packages: pyspark\n",
      "  Building wheel for pyspark (setup.py) ... \u001b[?25l\u001b[?25hdone\n",
      "  Created wheel for pyspark: filename=pyspark-3.0.0-py2.py3-none-any.whl size=205044182 sha256=67d7ec1443275a958585515da667ccff3bee719925834d34a2e3bcb6bf0e8c1e\n",
      "  Stored in directory: /root/.cache/pip/wheels/57/27/4d/ddacf7143f8d5b76c45c61ee2e43d9f8492fc5a8e78ebd7d37\n",
      "Successfully built pyspark\n",
      "Installing collected packages: py4j, pyspark\n",
      "Successfully installed py4j-0.10.9 pyspark-3.0.0\n"
     ]
    }
   ],
   "source": [
    "pip install pyspark"
   ]
  },
  {
   "cell_type": "code",
   "execution_count": 2,
   "metadata": {
    "colab": {},
    "colab_type": "code",
    "id": "fuheu_JXikDU"
   },
   "outputs": [],
   "source": [
    "from pyspark import SparkContext"
   ]
  },
  {
   "cell_type": "markdown",
   "metadata": {
    "colab_type": "text",
    "id": "Koubp-0OouQe"
   },
   "source": [
    "Create array of names and publish name and length of each name."
   ]
  },
  {
   "cell_type": "code",
   "execution_count": 3,
   "metadata": {
    "colab": {
     "base_uri": "https://localhost:8080/",
     "height": 168
    },
    "colab_type": "code",
    "id": "MzP7KatDilpv",
    "outputId": "6b016747-99f8-45f6-c89e-b33ea1da65f5"
   },
   "outputs": [
    {
     "data": {
      "text/plain": [
       "[('Mary', 4),\n",
       " ('had', 3),\n",
       " ('a', 1),\n",
       " ('little', 6),\n",
       " ('lamb', 4),\n",
       " ('whose', 5),\n",
       " ('fleece', 6),\n",
       " ('was', 3),\n",
       " ('white', 5)]"
      ]
     },
     "execution_count": 3,
     "metadata": {
      "tags": []
     },
     "output_type": "execute_result"
    }
   ],
   "source": [
    "tmp2 = ['Mary', 'had', 'a', 'little', 'lamb', 'whose', 'fleece', 'was', 'white']\n",
    "sc = SparkContext.getOrCreate()\n",
    "array = sc.parallelize(tmp2)\n",
    "array.map(lambda x: (x, len(x))).collect()"
   ]
  },
  {
   "cell_type": "markdown",
   "metadata": {
    "colab_type": "text",
    "id": "WnF0xlSaozNm"
   },
   "source": [
    "Create array of names and find max, min, standard deviation, variance of length of each element in array."
   ]
  },
  {
   "cell_type": "code",
   "execution_count": 4,
   "metadata": {
    "colab": {
     "base_uri": "https://localhost:8080/",
     "height": 34
    },
    "colab_type": "code",
    "id": "uLfP7V_4imAP",
    "outputId": "98456ab4-44c9-4381-9a1b-7ce5704ca020"
   },
   "outputs": [
    {
     "data": {
      "text/plain": [
       "(count: 9, mean: 4.111111111111111, stdev: 1.5234788000891208, max: 6.0, min: 1.0)"
      ]
     },
     "execution_count": 4,
     "metadata": {
      "tags": []
     },
     "output_type": "execute_result"
    }
   ],
   "source": [
    "tmp2 = ['Mary', 'had', 'a', 'little', 'lamb', 'whose', 'fleece', 'was', 'white']\n",
    "sc = SparkContext.getOrCreate()\n",
    "array = sc.parallelize(tmp2).map(lambda x: len(x))\n",
    "array.stats()"
   ]
  },
  {
   "cell_type": "markdown",
   "metadata": {
    "colab_type": "text",
    "id": "rcTtGX_wC0oI"
   },
   "source": [
    "Write a program to pull emp table data(name, age ,salary) from SQL server instance and find\n",
    "name, age of employees whose salary is greater than avg salary of employee having age &gt;60\n",
    "and then store it into spark dataframe"
   ]
  },
  {
   "cell_type": "code",
   "execution_count": null,
   "metadata": {
    "colab": {},
    "colab_type": "code",
    "id": "D8IudbB9JtS_"
   },
   "outputs": [],
   "source": [
    "import pyodbc\n",
    "\n",
    "conn = pyodbc.connect('Driver={SQL Server};'\n",
    "                      'Server=DESKTOP-AQC7I1Q;'\n",
    "                     'Database=Test;'\n",
    "                     'Trusted_Connection=yes;')\n",
    "\n"
   ]
  },
  {
   "cell_type": "code",
   "execution_count": null,
   "metadata": {
    "colab": {},
    "colab_type": "code",
    "id": "H8q8y8-aodie",
    "outputId": "08dab2c2-e60c-4b55-b731-de7ac41e4241"
   },
   "outputs": [
    {
     "name": "stdout",
     "output_type": "stream",
     "text": [
      "+-----+---+\n",
      "| name|age|\n",
      "+-----+---+\n",
      "|Radhe| 64|\n",
      "+-----+---+\n",
      "\n"
     ]
    }
   ],
   "source": [
    "import pandas as pd\n",
    "query='select name,age from [Test].[dbo].[emp] where salary > (select AVG(salary) from emp where age >60) and age>60;'\n",
    "pdf = pd.read_sql(query,conn)\n",
    "sparkDF = spark.createDataFrame(pdf)\n",
    "sparkDF.show()"
   ]
  },
  {
   "cell_type": "markdown",
   "metadata": {
    "colab_type": "text",
    "id": "_XM5R5TyKRNw"
   },
   "source": [
    "Use data set “ocp_data.tsv” attached in sheet (data is delimited with tab space)\n",
    "1. List no. of shows per year.\n",
    "2. List no. of shows per year for every occupation\n",
    "3. Find top occupation for every year.\n",
    "4. Which guest have attended maximum shows\n",
    "5. List occupation under each group\n",
    "6. How many show per group of year and occupation"
   ]
  },
  {
   "cell_type": "code",
   "execution_count": 5,
   "metadata": {
    "colab": {},
    "colab_type": "code",
    "id": "D59OQi5aillR"
   },
   "outputs": [],
   "source": [
    "# Create connection\n",
    "import pyspark\n",
    "from pyspark.sql  import SparkSession\n",
    "spark = SparkSession.builder.appName('OCP').getOrCreate()"
   ]
  },
  {
   "cell_type": "code",
   "execution_count": 6,
   "metadata": {
    "colab": {},
    "colab_type": "code",
    "id": "nr-80zz5HOIF"
   },
   "outputs": [],
   "source": [
    "dataframe = spark.read.csv('/OCP_data.tsv', sep='\\t', inferSchema=True, header=True)"
   ]
  },
  {
   "cell_type": "code",
   "execution_count": 7,
   "metadata": {
    "colab": {
     "base_uri": "https://localhost:8080/",
     "height": 134
    },
    "colab_type": "code",
    "id": "SR7Ekdx5Jc44",
    "outputId": "e17e26cb-d743-4559-a435-ca70ef1bd0dc"
   },
   "outputs": [
    {
     "name": "stdout",
     "output_type": "stream",
     "text": [
      "root\n",
      " |-- YEAR: integer (nullable = true)\n",
      " |-- GoogleKnowlege_Occupation: string (nullable = true)\n",
      " |-- Show: string (nullable = true)\n",
      " |-- Group: string (nullable = true)\n",
      " |-- Raw_Guest_List: string (nullable = true)\n",
      "\n"
     ]
    }
   ],
   "source": [
    "dataframe.printSchema()"
   ]
  },
  {
   "cell_type": "code",
   "execution_count": 8,
   "metadata": {
    "colab": {
     "base_uri": "https://localhost:8080/",
     "height": 454
    },
    "colab_type": "code",
    "id": "xhYuqB2UJB7J",
    "outputId": "7bc1069f-dc1e-4383-d919-90182247a295"
   },
   "outputs": [
    {
     "name": "stdout",
     "output_type": "stream",
     "text": [
      "+----+-------------------------+----------+--------+--------------------+\n",
      "|YEAR|GoogleKnowlege_Occupation|      Show|   Group|      Raw_Guest_List|\n",
      "+----+-------------------------+----------+--------+--------------------+\n",
      "|1999|                    actor|01-11-1999|  Acting|      Michael J. Fox|\n",
      "|1999|                 Comedian|01-12-1999|  Comedy|     Sandra Bernhard|\n",
      "|1999|       television actress|   1/13/99|  Acting|       Tracey Ullman|\n",
      "|1999|             film actress|   1/14/99|  Acting|    Gillian Anderson|\n",
      "|1999|                    actor|   1/18/99|  Acting|    David Alan Grier|\n",
      "|1999|                    actor|   1/19/99|  Acting|     William Baldwin|\n",
      "|1999|          Singer-lyricist|   1/20/99|Musician|       Michael Stipe|\n",
      "|1999|                    model|   1/21/99|   Media|      Carmen Electra|\n",
      "|1999|                    actor|   1/25/99|  Acting|     Matthew Lillard|\n",
      "|1999|        stand-up comedian|   1/26/99|  Comedy|         David Cross|\n",
      "|1999|                  actress|   1/27/99|  Acting|      Yasmine Bleeth|\n",
      "|1999|                    actor|   1/28/99|  Acting|       D. L. Hughley|\n",
      "|1999|       television actress|  10/18/99|  Acting|    Rebecca Gayheart|\n",
      "|1999|                 Comedian|  10/19/99|  Comedy|       Steven Wright|\n",
      "|1999|                  actress|  10/20/99|  Acting|       Amy Brenneman|\n",
      "|1999|                  actress|  10/21/99|  Acting|     Melissa Gilbert|\n",
      "|1999|                  actress|  10/25/99|  Acting|      Cathy Moriarty|\n",
      "|1999|                 comedian|  10/26/99|  Comedy|      Louie Anderson|\n",
      "|1999|                  actress|  10/27/99|  Acting|Sarah Michelle Ge...|\n",
      "|1999|        Singer-songwriter|  10/28/99|Musician|           Melanie C|\n",
      "+----+-------------------------+----------+--------+--------------------+\n",
      "only showing top 20 rows\n",
      "\n"
     ]
    }
   ],
   "source": [
    "dataframe.show()"
   ]
  },
  {
   "cell_type": "code",
   "execution_count": 9,
   "metadata": {
    "colab": {
     "base_uri": "https://localhost:8080/",
     "height": 386
    },
    "colab_type": "code",
    "id": "kWNWQacWJFE5",
    "outputId": "5ca8e2a7-e66b-49eb-de1c-13b21c1294ed"
   },
   "outputs": [
    {
     "name": "stdout",
     "output_type": "stream",
     "text": [
      "+----+-----+\n",
      "|Year|count|\n",
      "+----+-----+\n",
      "|2003|  166|\n",
      "|2007|  141|\n",
      "|2015|  100|\n",
      "|2006|  161|\n",
      "|2013|  166|\n",
      "|2014|  163|\n",
      "|2004|  164|\n",
      "|2012|  164|\n",
      "|2009|  163|\n",
      "|2001|  157|\n",
      "|2005|  162|\n",
      "|2000|  169|\n",
      "|2010|  165|\n",
      "|2011|  163|\n",
      "|2008|  164|\n",
      "|1999|  166|\n",
      "|2002|  159|\n",
      "+----+-----+\n",
      "\n"
     ]
    }
   ],
   "source": [
    "# List no. of shows per year.\n",
    "dataframe.groupBy('Year').count().show()"
   ]
  },
  {
   "cell_type": "code",
   "execution_count": 10,
   "metadata": {
    "colab": {
     "base_uri": "https://localhost:8080/",
     "height": 454
    },
    "colab_type": "code",
    "id": "uhLFDRzwOuEo",
    "outputId": "47b4106f-54fa-4686-e98d-356794749538"
   },
   "outputs": [
    {
     "name": "stdout",
     "output_type": "stream",
     "text": [
      "+----+-------------------------+-----+\n",
      "|Year|GoogleKnowlege_Occupation|count|\n",
      "+----+-------------------------+-----+\n",
      "|2001|             Screenwriter|    1|\n",
      "|2004|                scientist|    1|\n",
      "|2004|     television presenter|    1|\n",
      "|2005|     American football...|    1|\n",
      "|2006|     Former member of ...|    1|\n",
      "|2007|                Columnist|    2|\n",
      "|2011|     United States Sen...|    1|\n",
      "|2000|           game show host|    1|\n",
      "|2004|                   author|    6|\n",
      "|2008|                 reporter|    1|\n",
      "|2009|          television host|    4|\n",
      "|2010|        singer-songwriter|    1|\n",
      "|2011|         political figure|    2|\n",
      "|2001|     television person...|    1|\n",
      "|2001|        stand-up comedian|    1|\n",
      "|2002|                   Author|    1|\n",
      "|2004|     civil rights acti...|    1|\n",
      "|2007|               journalist|   10|\n",
      "|2009|     United States Amb...|    1|\n",
      "|2011|       political satirist|    1|\n",
      "+----+-------------------------+-----+\n",
      "only showing top 20 rows\n",
      "\n"
     ]
    }
   ],
   "source": [
    "# List no. of shows per year for every occupation\n",
    "dataframe.groupBy('Year', 'GoogleKnowlege_Occupation').count().show()"
   ]
  },
  {
   "cell_type": "code",
   "execution_count": 11,
   "metadata": {
    "colab": {
     "base_uri": "https://localhost:8080/",
     "height": 454
    },
    "colab_type": "code",
    "id": "NYfame6fPOKP",
    "outputId": "b8f2fb7b-08fe-440e-f9d5-40248472c9a0"
   },
   "outputs": [
    {
     "name": "stdout",
     "output_type": "stream",
     "text": [
      "+----+-------------------------+-----+\n",
      "|Year|GoogleKnowlege_Occupation|count|\n",
      "+----+-------------------------+-----+\n",
      "|2002|                    actor|   64|\n",
      "|2001|                    actor|   62|\n",
      "|2000|                    actor|   61|\n",
      "|1999|                    actor|   53|\n",
      "|2003|                    actor|   47|\n",
      "|1999|                  actress|   42|\n",
      "|2013|                    actor|   37|\n",
      "|2006|                    actor|   33|\n",
      "|2014|                    actor|   31|\n",
      "|2004|                    actor|   31|\n",
      "|2010|                    actor|   30|\n",
      "|2000|                  actress|   29|\n",
      "|2011|                    actor|   29|\n",
      "|2005|                    actor|   25|\n",
      "|2003|                  actress|   24|\n",
      "|2013|                  actress|   21|\n",
      "|2002|                  actress|   20|\n",
      "|2012|                    actor|   20|\n",
      "|2008|                    actor|   20|\n",
      "|2008|               journalist|   19|\n",
      "+----+-------------------------+-----+\n",
      "only showing top 20 rows\n",
      "\n"
     ]
    }
   ],
   "source": [
    "# Find top occupation for every year.\n",
    "df = dataframe.groupBy('Year', 'GoogleKnowlege_Occupation').count()\n",
    "df = df.sort(df['count'].desc())\n",
    "df.show()"
   ]
  },
  {
   "cell_type": "code",
   "execution_count": 12,
   "metadata": {
    "colab": {
     "base_uri": "https://localhost:8080/",
     "height": 386
    },
    "colab_type": "code",
    "id": "LI8kECIePndi",
    "outputId": "fc1dc912-272a-4122-f054-5994b9c012ec"
   },
   "outputs": [
    {
     "name": "stdout",
     "output_type": "stream",
     "text": [
      "+----+-------------------------+-----+\n",
      "|Year|GoogleKnowlege_Occupation|count|\n",
      "+----+-------------------------+-----+\n",
      "|2002|                    actor|   64|\n",
      "|2001|                    actor|   62|\n",
      "|2000|                    actor|   61|\n",
      "|1999|                    actor|   53|\n",
      "|2003|                    actor|   47|\n",
      "|2013|                    actor|   37|\n",
      "|2006|                    actor|   33|\n",
      "|2014|                    actor|   31|\n",
      "|2004|                    actor|   31|\n",
      "|2010|                    actor|   30|\n",
      "|2011|                    actor|   29|\n",
      "|2005|                    actor|   25|\n",
      "|2012|                    actor|   20|\n",
      "|2008|                    actor|   20|\n",
      "|2009|                    actor|   19|\n",
      "|2015|                    actor|   19|\n",
      "|2007|                    actor|   15|\n",
      "+----+-------------------------+-----+\n",
      "\n"
     ]
    }
   ],
   "source": [
    "df = df.dropDuplicates(['Year'])\n",
    "df.sort(df['count'].desc()).show()"
   ]
  },
  {
   "cell_type": "code",
   "execution_count": 13,
   "metadata": {
    "colab": {
     "base_uri": "https://localhost:8080/",
     "height": 454
    },
    "colab_type": "code",
    "id": "5EIVIKSHUgT_",
    "outputId": "3f6f2e5c-aee7-479a-afb5-a214c062b754"
   },
   "outputs": [
    {
     "name": "stdout",
     "output_type": "stream",
     "text": [
      "+-----------------+-----+\n",
      "|   Raw_Guest_List|count|\n",
      "+-----------------+-----+\n",
      "|   Fareed Zakaria|   19|\n",
      "|      Denis Leary|   17|\n",
      "|   Brian Williams|   16|\n",
      "|    Ricky Gervais|   13|\n",
      "|        Paul Rudd|   13|\n",
      "|       Tom Brokaw|   12|\n",
      "|    Bill O'Reilly|   10|\n",
      "|    Richard Lewis|   10|\n",
      "|     Will Ferrell|   10|\n",
      "|       Reza Aslan|   10|\n",
      "|     Sarah Vowell|    9|\n",
      "|Maggie Gyllenhaal|    8|\n",
      "|     Adam Sandler|    8|\n",
      "|    Mike Huckabee|    8|\n",
      "|      Ben Affleck|    8|\n",
      "|       Louis C.K.|    8|\n",
      "|     Bill Clinton|    7|\n",
      "|     Steve Carell|    7|\n",
      "|      Jeff Garlin|    7|\n",
      "|      Colin Firth|    7|\n",
      "+-----------------+-----+\n",
      "only showing top 20 rows\n",
      "\n"
     ]
    }
   ],
   "source": [
    "# Which guest have attended maximum shows\n",
    "df1 = dataframe.groupBy('Raw_Guest_List').count()\n",
    "df1.sort(df1['count'].desc()).show()"
   ]
  },
  {
   "cell_type": "code",
   "execution_count": 14,
   "metadata": {
    "colab": {
     "base_uri": "https://localhost:8080/",
     "height": 403
    },
    "colab_type": "code",
    "id": "MB7PVeg-VcwS",
    "outputId": "f10c170d-f65f-437d-e325-0addba67bd42"
   },
   "outputs": [
    {
     "name": "stdout",
     "output_type": "stream",
     "text": [
      "+--------------+---------------------------------------+\n",
      "|         Group|collect_list(GoogleKnowlege_Occupation)|\n",
      "+--------------+---------------------------------------+\n",
      "|       Science|                   [neurosurgeon, sc...|\n",
      "|      Musician|                   [Singer-lyricist,...|\n",
      "|            NA|                   [NA, NA, NA, NA, ...|\n",
      "|Political Aide|                   [former press sec...|\n",
      "|    Government|                   [Diplomat, Former...|\n",
      "|      Military|                   [military officer...|\n",
      "|    Consultant|                   [political psycho...|\n",
      "|     Athletics|                   [football player,...|\n",
      "|        Clergy|                   [minister, pastor...|\n",
      "|      Academic|                   [professor, Profe...|\n",
      "|         Media|                   [model, televisio...|\n",
      "|         media|                   [news anchor, new...|\n",
      "|          Misc|                   [chef, Lawyer, la...|\n",
      "|      Business|                   [businesswoman, B...|\n",
      "|        Acting|                   [actor, televisio...|\n",
      "|    Politician|                   [us senator, us s...|\n",
      "|      Advocacy|                   [activist, activi...|\n",
      "|        Comedy|                   [Comedian, stand-...|\n",
      "+--------------+---------------------------------------+\n",
      "\n"
     ]
    }
   ],
   "source": [
    "# List occupation under each group\n",
    "from pyspark.sql import functions as F\n",
    "dataframe.groupBy('Group').agg(F.collect_list('GoogleKnowlege_Occupation')).show()"
   ]
  },
  {
   "cell_type": "code",
   "execution_count": 15,
   "metadata": {
    "colab": {
     "base_uri": "https://localhost:8080/",
     "height": 454
    },
    "colab_type": "code",
    "id": "CWB5u8MsV52h",
    "outputId": "98c0a463-4ffd-4c28-d439-1956d9a1c8c9"
   },
   "outputs": [
    {
     "name": "stdout",
     "output_type": "stream",
     "text": [
      "+----+-------------------------+-----+\n",
      "|Year|GoogleKnowlege_Occupation|count|\n",
      "+----+-------------------------+-----+\n",
      "|2001|             Screenwriter|    1|\n",
      "|2004|                scientist|    1|\n",
      "|2004|     television presenter|    1|\n",
      "|2005|     American football...|    1|\n",
      "|2006|     Former member of ...|    1|\n",
      "|2007|                Columnist|    2|\n",
      "|2011|     United States Sen...|    1|\n",
      "|2000|           game show host|    1|\n",
      "|2004|                   author|    6|\n",
      "|2008|                 reporter|    1|\n",
      "|2009|          television host|    4|\n",
      "|2010|        singer-songwriter|    1|\n",
      "|2011|         political figure|    2|\n",
      "|2001|     television person...|    1|\n",
      "|2001|        stand-up comedian|    1|\n",
      "|2002|                   Author|    1|\n",
      "|2004|     civil rights acti...|    1|\n",
      "|2007|               journalist|   10|\n",
      "|2009|     United States Amb...|    1|\n",
      "|2011|       political satirist|    1|\n",
      "+----+-------------------------+-----+\n",
      "only showing top 20 rows\n",
      "\n"
     ]
    }
   ],
   "source": [
    "# How many show per group of year and occupation\n",
    "dataframe.groupBy('Year', 'GoogleKnowlege_Occupation').count().show()"
   ]
  }
 ],
 "metadata": {
  "colab": {
   "name": "BDS Spark Assignment.ipynb",
   "provenance": []
  },
  "kernelspec": {
   "display_name": "Python 3",
   "language": "python",
   "name": "python3"
  },
  "language_info": {
   "codemirror_mode": {
    "name": "ipython",
    "version": 3
   },
   "file_extension": ".py",
   "mimetype": "text/x-python",
   "name": "python",
   "nbconvert_exporter": "python",
   "pygments_lexer": "ipython3",
   "version": "3.7.7"
  }
 },
 "nbformat": 4,
 "nbformat_minor": 4
}
