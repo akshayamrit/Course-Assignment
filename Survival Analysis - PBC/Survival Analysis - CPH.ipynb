{
 "cells": [
  {
   "cell_type": "code",
   "execution_count": 1,
   "metadata": {},
   "outputs": [],
   "source": [
    "import pandas as pd\n",
    "import numpy as np\n",
    "import matplotlib.pyplot as plt\n",
    "import seaborn as sn\n",
    "import os"
   ]
  },
  {
   "cell_type": "code",
   "execution_count": 2,
   "metadata": {},
   "outputs": [],
   "source": [
    "from lifelines import CoxPHFitter"
   ]
  },
  {
   "cell_type": "markdown",
   "metadata": {},
   "source": [
    "### Primary Biliary Cirrhosis \n",
    "  \n",
    "The data set found in appendix D of Fleming and Harrington, Counting \n",
    "Processes and Survival Analysis, Wiley, 1991. The only differences are: \n",
    "\n",
    "- age is in days \n",
    "- status is coded as 0=censored, 2=death \n",
    "  \n",
    "Quoting from F&H. \"The following pages contain the data from the Mayo Clinic \n",
    "trial in primary biliary cirrhosis (PBC) of the liver conducted between 1974 \n",
    "and 1984 **(10 Years)**. A description of the clinical background for the trial and the \n",
    "covariates recorded here is in Chapter 0, especially Section 0.2. A more \n",
    "extended discussion can be found in Dickson, et al., Hepatology 10:1-7 (1989) \n",
    "and in Markus, et al., N Eng J of Med 320:1709-13 (1989). \n",
    "\n",
    "\"A total of 424 PBC patients, referred to Mayo Clinic during that ten-year \n",
    "interval, met eligibility criteria for the randomized placebo controlled \n",
    "trial of the drug D-penicillamine. The first 293 cases in the data set \n",
    "participated in the randomized trial and contain largely complete data.\" \n",
    "Missing data items are denoted by \".\" \n",
    "  \n",
    "- Variables: \n",
    "    - case number \n",
    "    - number of days between registration and the earlier of death, transplantation, or study analysis time in July, 1986 \n",
    "    - status \n",
    "    - drug: 1= D-penicillamine, 2=placebo \n",
    "    - age in days \n",
    "    - sex: 0=male, 1=female \n",
    "    - presence of ascites: 0=no 1=yes \n",
    "    - presence of hepatomegaly 0=no 1=yes \n",
    "    - presence of spiders 0=no 1=yes \n",
    "    - presence of edema 0=no edema and no diuretic therapy for edema; \n",
    "           - .5 = edema present without diuretics, or edema resolved by diuretics; \n",
    "           - 1 = edema despite diuretic therapy \n",
    "    - serum bilirubin in mg/dl \n",
    "    - serum cholesterol in mg/dl \n",
    "    - albumin in gm/dl \n",
    "    - urine copper in ug/day \n",
    "    - alkaline phosphatase in U/liter \n",
    "    - SGOT in U/ml \n",
    "    - triglicerides in mg/dl \n",
    "    - platelets per cubic ml / 1000 \n",
    "    - prothrombin time in seconds \n",
    "    - histologic stage of disease "
   ]
  },
  {
   "cell_type": "code",
   "execution_count": 3,
   "metadata": {},
   "outputs": [],
   "source": [
    "dataset = pd.read_csv(os.getcwd() + '/Data/PBC_data.csv')"
   ]
  },
  {
   "cell_type": "code",
   "execution_count": 4,
   "metadata": {},
   "outputs": [
    {
     "data": {
      "text/plain": [
       "(293, 20)"
      ]
     },
     "execution_count": 4,
     "metadata": {},
     "output_type": "execute_result"
    }
   ],
   "source": [
    "dataset.shape"
   ]
  },
  {
   "cell_type": "code",
   "execution_count": 5,
   "metadata": {},
   "outputs": [
    {
     "data": {
      "text/html": [
       "<div>\n",
       "<style scoped>\n",
       "    .dataframe tbody tr th:only-of-type {\n",
       "        vertical-align: middle;\n",
       "    }\n",
       "\n",
       "    .dataframe tbody tr th {\n",
       "        vertical-align: top;\n",
       "    }\n",
       "\n",
       "    .dataframe thead th {\n",
       "        text-align: right;\n",
       "    }\n",
       "</style>\n",
       "<table border=\"1\" class=\"dataframe\">\n",
       "  <thead>\n",
       "    <tr style=\"text-align: right;\">\n",
       "      <th></th>\n",
       "      <th>case number</th>\n",
       "      <th>tenure</th>\n",
       "      <th>event</th>\n",
       "      <th>drug</th>\n",
       "      <th>age in days</th>\n",
       "      <th>sex</th>\n",
       "      <th>presence of ascites</th>\n",
       "      <th>presence of hepatomegaly</th>\n",
       "      <th>presence of spiders</th>\n",
       "      <th>presence of edema</th>\n",
       "      <th>serum bilirubin in mg/dl</th>\n",
       "      <th>serum cholesterol in mg/dl</th>\n",
       "      <th>albumin in gm/dl</th>\n",
       "      <th>urine copper in ug/day</th>\n",
       "      <th>alkaline phosphatase in U/liter</th>\n",
       "      <th>SGOT in U/ml</th>\n",
       "      <th>triglicerides in mg/dl</th>\n",
       "      <th>platelets per cubic ml / 1000</th>\n",
       "      <th>prothrombin time in seconds</th>\n",
       "      <th>histologic stage of disease</th>\n",
       "    </tr>\n",
       "  </thead>\n",
       "  <tbody>\n",
       "    <tr>\n",
       "      <th>0</th>\n",
       "      <td>1</td>\n",
       "      <td>400</td>\n",
       "      <td>2</td>\n",
       "      <td>1</td>\n",
       "      <td>21464</td>\n",
       "      <td>1</td>\n",
       "      <td>1</td>\n",
       "      <td>1</td>\n",
       "      <td>1</td>\n",
       "      <td>1.0</td>\n",
       "      <td>14.5</td>\n",
       "      <td>261</td>\n",
       "      <td>2.60</td>\n",
       "      <td>156</td>\n",
       "      <td>1718.0</td>\n",
       "      <td>137.95</td>\n",
       "      <td>172</td>\n",
       "      <td>190</td>\n",
       "      <td>12.2</td>\n",
       "      <td>4</td>\n",
       "    </tr>\n",
       "    <tr>\n",
       "      <th>1</th>\n",
       "      <td>2</td>\n",
       "      <td>4500</td>\n",
       "      <td>0</td>\n",
       "      <td>1</td>\n",
       "      <td>20617</td>\n",
       "      <td>1</td>\n",
       "      <td>0</td>\n",
       "      <td>1</td>\n",
       "      <td>1</td>\n",
       "      <td>0.0</td>\n",
       "      <td>1.1</td>\n",
       "      <td>302</td>\n",
       "      <td>4.14</td>\n",
       "      <td>54</td>\n",
       "      <td>7394.8</td>\n",
       "      <td>113.52</td>\n",
       "      <td>88</td>\n",
       "      <td>221</td>\n",
       "      <td>10.6</td>\n",
       "      <td>3</td>\n",
       "    </tr>\n",
       "    <tr>\n",
       "      <th>2</th>\n",
       "      <td>3</td>\n",
       "      <td>1012</td>\n",
       "      <td>2</td>\n",
       "      <td>1</td>\n",
       "      <td>25594</td>\n",
       "      <td>0</td>\n",
       "      <td>0</td>\n",
       "      <td>0</td>\n",
       "      <td>0</td>\n",
       "      <td>0.5</td>\n",
       "      <td>1.4</td>\n",
       "      <td>176</td>\n",
       "      <td>3.48</td>\n",
       "      <td>210</td>\n",
       "      <td>516.0</td>\n",
       "      <td>96.10</td>\n",
       "      <td>55</td>\n",
       "      <td>151</td>\n",
       "      <td>12.0</td>\n",
       "      <td>4</td>\n",
       "    </tr>\n",
       "    <tr>\n",
       "      <th>3</th>\n",
       "      <td>4</td>\n",
       "      <td>1925</td>\n",
       "      <td>2</td>\n",
       "      <td>1</td>\n",
       "      <td>19994</td>\n",
       "      <td>1</td>\n",
       "      <td>0</td>\n",
       "      <td>1</td>\n",
       "      <td>1</td>\n",
       "      <td>0.5</td>\n",
       "      <td>1.8</td>\n",
       "      <td>244</td>\n",
       "      <td>2.54</td>\n",
       "      <td>64</td>\n",
       "      <td>6121.8</td>\n",
       "      <td>60.63</td>\n",
       "      <td>92</td>\n",
       "      <td>183</td>\n",
       "      <td>10.3</td>\n",
       "      <td>4</td>\n",
       "    </tr>\n",
       "    <tr>\n",
       "      <th>4</th>\n",
       "      <td>6</td>\n",
       "      <td>2503</td>\n",
       "      <td>2</td>\n",
       "      <td>2</td>\n",
       "      <td>24201</td>\n",
       "      <td>1</td>\n",
       "      <td>0</td>\n",
       "      <td>1</td>\n",
       "      <td>0</td>\n",
       "      <td>0.0</td>\n",
       "      <td>0.8</td>\n",
       "      <td>248</td>\n",
       "      <td>3.98</td>\n",
       "      <td>50</td>\n",
       "      <td>944.0</td>\n",
       "      <td>93.00</td>\n",
       "      <td>63</td>\n",
       "      <td>.</td>\n",
       "      <td>11.0</td>\n",
       "      <td>3</td>\n",
       "    </tr>\n",
       "    <tr>\n",
       "      <th>5</th>\n",
       "      <td>7</td>\n",
       "      <td>1832</td>\n",
       "      <td>0</td>\n",
       "      <td>2</td>\n",
       "      <td>20284</td>\n",
       "      <td>1</td>\n",
       "      <td>0</td>\n",
       "      <td>1</td>\n",
       "      <td>0</td>\n",
       "      <td>0.0</td>\n",
       "      <td>1.0</td>\n",
       "      <td>322</td>\n",
       "      <td>4.09</td>\n",
       "      <td>52</td>\n",
       "      <td>824.0</td>\n",
       "      <td>60.45</td>\n",
       "      <td>213</td>\n",
       "      <td>204</td>\n",
       "      <td>9.7</td>\n",
       "      <td>3</td>\n",
       "    </tr>\n",
       "    <tr>\n",
       "      <th>6</th>\n",
       "      <td>8</td>\n",
       "      <td>2466</td>\n",
       "      <td>2</td>\n",
       "      <td>2</td>\n",
       "      <td>19379</td>\n",
       "      <td>1</td>\n",
       "      <td>0</td>\n",
       "      <td>0</td>\n",
       "      <td>0</td>\n",
       "      <td>0.0</td>\n",
       "      <td>0.3</td>\n",
       "      <td>280</td>\n",
       "      <td>4.00</td>\n",
       "      <td>52</td>\n",
       "      <td>4651.2</td>\n",
       "      <td>28.38</td>\n",
       "      <td>189</td>\n",
       "      <td>373</td>\n",
       "      <td>11.0</td>\n",
       "      <td>3</td>\n",
       "    </tr>\n",
       "    <tr>\n",
       "      <th>7</th>\n",
       "      <td>9</td>\n",
       "      <td>2400</td>\n",
       "      <td>2</td>\n",
       "      <td>1</td>\n",
       "      <td>15526</td>\n",
       "      <td>1</td>\n",
       "      <td>0</td>\n",
       "      <td>0</td>\n",
       "      <td>1</td>\n",
       "      <td>0.0</td>\n",
       "      <td>3.2</td>\n",
       "      <td>562</td>\n",
       "      <td>3.08</td>\n",
       "      <td>79</td>\n",
       "      <td>2276.0</td>\n",
       "      <td>144.15</td>\n",
       "      <td>88</td>\n",
       "      <td>251</td>\n",
       "      <td>11.0</td>\n",
       "      <td>2</td>\n",
       "    </tr>\n",
       "    <tr>\n",
       "      <th>8</th>\n",
       "      <td>10</td>\n",
       "      <td>51</td>\n",
       "      <td>2</td>\n",
       "      <td>2</td>\n",
       "      <td>25772</td>\n",
       "      <td>1</td>\n",
       "      <td>1</td>\n",
       "      <td>0</td>\n",
       "      <td>1</td>\n",
       "      <td>1.0</td>\n",
       "      <td>12.6</td>\n",
       "      <td>200</td>\n",
       "      <td>2.74</td>\n",
       "      <td>140</td>\n",
       "      <td>918.0</td>\n",
       "      <td>147.25</td>\n",
       "      <td>143</td>\n",
       "      <td>302</td>\n",
       "      <td>11.5</td>\n",
       "      <td>4</td>\n",
       "    </tr>\n",
       "    <tr>\n",
       "      <th>9</th>\n",
       "      <td>11</td>\n",
       "      <td>3762</td>\n",
       "      <td>2</td>\n",
       "      <td>2</td>\n",
       "      <td>19619</td>\n",
       "      <td>1</td>\n",
       "      <td>0</td>\n",
       "      <td>1</td>\n",
       "      <td>1</td>\n",
       "      <td>0.0</td>\n",
       "      <td>1.4</td>\n",
       "      <td>259</td>\n",
       "      <td>4.16</td>\n",
       "      <td>46</td>\n",
       "      <td>1104.0</td>\n",
       "      <td>79.05</td>\n",
       "      <td>79</td>\n",
       "      <td>258</td>\n",
       "      <td>12.0</td>\n",
       "      <td>4</td>\n",
       "    </tr>\n",
       "  </tbody>\n",
       "</table>\n",
       "</div>"
      ],
      "text/plain": [
       "   case number   tenure  event  drug  age in days   sex  presence of ascites  \\\n",
       "0             1     400      2     1         21464    1                    1   \n",
       "1             2    4500      0     1         20617    1                    0   \n",
       "2             3    1012      2     1         25594    0                    0   \n",
       "3             4    1925      2     1         19994    1                    0   \n",
       "4             6    2503      2     2         24201    1                    0   \n",
       "5             7    1832      0     2         20284    1                    0   \n",
       "6             8    2466      2     2         19379    1                    0   \n",
       "7             9    2400      2     1         15526    1                    0   \n",
       "8            10      51      2     2         25772    1                    1   \n",
       "9            11    3762      2     2         19619    1                    0   \n",
       "\n",
       "   presence of hepatomegaly  presence of spiders  presence of edema   \\\n",
       "0                         1                    1                 1.0   \n",
       "1                         1                    1                 0.0   \n",
       "2                         0                    0                 0.5   \n",
       "3                         1                    1                 0.5   \n",
       "4                         1                    0                 0.0   \n",
       "5                         1                    0                 0.0   \n",
       "6                         0                    0                 0.0   \n",
       "7                         0                    1                 0.0   \n",
       "8                         0                    1                 1.0   \n",
       "9                         1                    1                 0.0   \n",
       "\n",
       "   serum bilirubin in mg/dl  serum cholesterol in mg/dl   albumin in gm/dl   \\\n",
       "0                       14.5                         261               2.60   \n",
       "1                        1.1                         302               4.14   \n",
       "2                        1.4                         176               3.48   \n",
       "3                        1.8                         244               2.54   \n",
       "4                        0.8                         248               3.98   \n",
       "5                        1.0                         322               4.09   \n",
       "6                        0.3                         280               4.00   \n",
       "7                        3.2                         562               3.08   \n",
       "8                       12.6                         200               2.74   \n",
       "9                        1.4                         259               4.16   \n",
       "\n",
       "  urine copper in ug/day   alkaline phosphatase in U/liter   SGOT in U/ml   \\\n",
       "0                     156                            1718.0         137.95   \n",
       "1                      54                            7394.8         113.52   \n",
       "2                     210                             516.0          96.10   \n",
       "3                      64                            6121.8          60.63   \n",
       "4                      50                             944.0          93.00   \n",
       "5                      52                             824.0          60.45   \n",
       "6                      52                            4651.2          28.38   \n",
       "7                      79                            2276.0         144.15   \n",
       "8                     140                             918.0         147.25   \n",
       "9                      46                            1104.0          79.05   \n",
       "\n",
       "  triglicerides in mg/dl  platelets per cubic ml / 1000   \\\n",
       "0                     172                            190   \n",
       "1                      88                            221   \n",
       "2                      55                            151   \n",
       "3                      92                            183   \n",
       "4                      63                              .   \n",
       "5                     213                            204   \n",
       "6                     189                            373   \n",
       "7                      88                            251   \n",
       "8                     143                            302   \n",
       "9                      79                            258   \n",
       "\n",
       "   prothrombin time in seconds   histologic stage of disease   \n",
       "0                          12.2                             4  \n",
       "1                          10.6                             3  \n",
       "2                          12.0                             4  \n",
       "3                          10.3                             4  \n",
       "4                          11.0                             3  \n",
       "5                           9.7                             3  \n",
       "6                          11.0                             3  \n",
       "7                          11.0                             2  \n",
       "8                          11.5                             4  \n",
       "9                          12.0                             4  "
      ]
     },
     "execution_count": 5,
     "metadata": {},
     "output_type": "execute_result"
    }
   ],
   "source": [
    "dataset.head(10)"
   ]
  },
  {
   "cell_type": "code",
   "execution_count": 6,
   "metadata": {},
   "outputs": [
    {
     "data": {
      "text/html": [
       "<div>\n",
       "<style scoped>\n",
       "    .dataframe tbody tr th:only-of-type {\n",
       "        vertical-align: middle;\n",
       "    }\n",
       "\n",
       "    .dataframe tbody tr th {\n",
       "        vertical-align: top;\n",
       "    }\n",
       "\n",
       "    .dataframe thead th {\n",
       "        text-align: right;\n",
       "    }\n",
       "</style>\n",
       "<table border=\"1\" class=\"dataframe\">\n",
       "  <thead>\n",
       "    <tr style=\"text-align: right;\">\n",
       "      <th></th>\n",
       "      <th>case number</th>\n",
       "      <th>tenure</th>\n",
       "      <th>event</th>\n",
       "      <th>drug</th>\n",
       "      <th>age in days</th>\n",
       "      <th>sex</th>\n",
       "      <th>presence of ascites</th>\n",
       "      <th>presence of hepatomegaly</th>\n",
       "      <th>presence of spiders</th>\n",
       "      <th>presence of edema</th>\n",
       "      <th>serum bilirubin in mg/dl</th>\n",
       "      <th>albumin in gm/dl</th>\n",
       "      <th>alkaline phosphatase in U/liter</th>\n",
       "      <th>SGOT in U/ml</th>\n",
       "      <th>prothrombin time in seconds</th>\n",
       "      <th>histologic stage of disease</th>\n",
       "    </tr>\n",
       "  </thead>\n",
       "  <tbody>\n",
       "    <tr>\n",
       "      <th>count</th>\n",
       "      <td>293.000000</td>\n",
       "      <td>293.000000</td>\n",
       "      <td>293.000000</td>\n",
       "      <td>293.000000</td>\n",
       "      <td>293.000000</td>\n",
       "      <td>293.000000</td>\n",
       "      <td>293.000000</td>\n",
       "      <td>293.000000</td>\n",
       "      <td>293.000000</td>\n",
       "      <td>293.000000</td>\n",
       "      <td>293.000000</td>\n",
       "      <td>293.000000</td>\n",
       "      <td>293.00000</td>\n",
       "      <td>293.000000</td>\n",
       "      <td>293.000000</td>\n",
       "      <td>293.000000</td>\n",
       "    </tr>\n",
       "    <tr>\n",
       "      <th>mean</th>\n",
       "      <td>152.887372</td>\n",
       "      <td>2038.665529</td>\n",
       "      <td>0.853242</td>\n",
       "      <td>1.494881</td>\n",
       "      <td>18478.897611</td>\n",
       "      <td>0.887372</td>\n",
       "      <td>0.081911</td>\n",
       "      <td>0.505119</td>\n",
       "      <td>0.290102</td>\n",
       "      <td>0.114334</td>\n",
       "      <td>3.264164</td>\n",
       "      <td>3.516997</td>\n",
       "      <td>2011.67099</td>\n",
       "      <td>122.066143</td>\n",
       "      <td>10.748805</td>\n",
       "      <td>3.017065</td>\n",
       "    </tr>\n",
       "    <tr>\n",
       "      <th>std</th>\n",
       "      <td>89.533825</td>\n",
       "      <td>1137.329811</td>\n",
       "      <td>0.990865</td>\n",
       "      <td>0.500829</td>\n",
       "      <td>3857.981917</td>\n",
       "      <td>0.316678</td>\n",
       "      <td>0.274699</td>\n",
       "      <td>0.500829</td>\n",
       "      <td>0.454586</td>\n",
       "      <td>0.280165</td>\n",
       "      <td>4.648182</td>\n",
       "      <td>0.422920</td>\n",
       "      <td>2195.95659</td>\n",
       "      <td>57.757400</td>\n",
       "      <td>1.021904</td>\n",
       "      <td>0.885412</td>\n",
       "    </tr>\n",
       "    <tr>\n",
       "      <th>min</th>\n",
       "      <td>1.000000</td>\n",
       "      <td>41.000000</td>\n",
       "      <td>0.000000</td>\n",
       "      <td>1.000000</td>\n",
       "      <td>9598.000000</td>\n",
       "      <td>0.000000</td>\n",
       "      <td>0.000000</td>\n",
       "      <td>0.000000</td>\n",
       "      <td>0.000000</td>\n",
       "      <td>0.000000</td>\n",
       "      <td>0.300000</td>\n",
       "      <td>1.960000</td>\n",
       "      <td>289.00000</td>\n",
       "      <td>26.350000</td>\n",
       "      <td>9.000000</td>\n",
       "      <td>1.000000</td>\n",
       "    </tr>\n",
       "    <tr>\n",
       "      <th>25%</th>\n",
       "      <td>75.000000</td>\n",
       "      <td>1216.000000</td>\n",
       "      <td>0.000000</td>\n",
       "      <td>1.000000</td>\n",
       "      <td>15694.000000</td>\n",
       "      <td>1.000000</td>\n",
       "      <td>0.000000</td>\n",
       "      <td>0.000000</td>\n",
       "      <td>0.000000</td>\n",
       "      <td>0.000000</td>\n",
       "      <td>0.800000</td>\n",
       "      <td>3.310000</td>\n",
       "      <td>858.00000</td>\n",
       "      <td>79.050000</td>\n",
       "      <td>10.000000</td>\n",
       "      <td>2.000000</td>\n",
       "    </tr>\n",
       "    <tr>\n",
       "      <th>50%</th>\n",
       "      <td>152.000000</td>\n",
       "      <td>1882.000000</td>\n",
       "      <td>0.000000</td>\n",
       "      <td>1.000000</td>\n",
       "      <td>18460.000000</td>\n",
       "      <td>1.000000</td>\n",
       "      <td>0.000000</td>\n",
       "      <td>1.000000</td>\n",
       "      <td>0.000000</td>\n",
       "      <td>0.000000</td>\n",
       "      <td>1.300000</td>\n",
       "      <td>3.550000</td>\n",
       "      <td>1258.00000</td>\n",
       "      <td>111.000000</td>\n",
       "      <td>10.600000</td>\n",
       "      <td>3.000000</td>\n",
       "    </tr>\n",
       "    <tr>\n",
       "      <th>75%</th>\n",
       "      <td>227.000000</td>\n",
       "      <td>2772.000000</td>\n",
       "      <td>2.000000</td>\n",
       "      <td>2.000000</td>\n",
       "      <td>20891.000000</td>\n",
       "      <td>1.000000</td>\n",
       "      <td>0.000000</td>\n",
       "      <td>1.000000</td>\n",
       "      <td>1.000000</td>\n",
       "      <td>0.000000</td>\n",
       "      <td>3.400000</td>\n",
       "      <td>3.800000</td>\n",
       "      <td>2009.00000</td>\n",
       "      <td>151.900000</td>\n",
       "      <td>11.100000</td>\n",
       "      <td>4.000000</td>\n",
       "    </tr>\n",
       "    <tr>\n",
       "      <th>max</th>\n",
       "      <td>312.000000</td>\n",
       "      <td>4556.000000</td>\n",
       "      <td>2.000000</td>\n",
       "      <td>2.000000</td>\n",
       "      <td>28650.000000</td>\n",
       "      <td>1.000000</td>\n",
       "      <td>1.000000</td>\n",
       "      <td>1.000000</td>\n",
       "      <td>1.000000</td>\n",
       "      <td>1.000000</td>\n",
       "      <td>28.000000</td>\n",
       "      <td>4.640000</td>\n",
       "      <td>13862.40000</td>\n",
       "      <td>457.250000</td>\n",
       "      <td>17.100000</td>\n",
       "      <td>4.000000</td>\n",
       "    </tr>\n",
       "  </tbody>\n",
       "</table>\n",
       "</div>"
      ],
      "text/plain": [
       "       case number        tenure       event        drug  age in days   \\\n",
       "count    293.000000   293.000000  293.000000  293.000000    293.000000   \n",
       "mean     152.887372  2038.665529    0.853242    1.494881  18478.897611   \n",
       "std       89.533825  1137.329811    0.990865    0.500829   3857.981917   \n",
       "min        1.000000    41.000000    0.000000    1.000000   9598.000000   \n",
       "25%       75.000000  1216.000000    0.000000    1.000000  15694.000000   \n",
       "50%      152.000000  1882.000000    0.000000    1.000000  18460.000000   \n",
       "75%      227.000000  2772.000000    2.000000    2.000000  20891.000000   \n",
       "max      312.000000  4556.000000    2.000000    2.000000  28650.000000   \n",
       "\n",
       "              sex  presence of ascites  presence of hepatomegaly  \\\n",
       "count  293.000000           293.000000                293.000000   \n",
       "mean     0.887372             0.081911                  0.505119   \n",
       "std      0.316678             0.274699                  0.500829   \n",
       "min      0.000000             0.000000                  0.000000   \n",
       "25%      1.000000             0.000000                  0.000000   \n",
       "50%      1.000000             0.000000                  1.000000   \n",
       "75%      1.000000             0.000000                  1.000000   \n",
       "max      1.000000             1.000000                  1.000000   \n",
       "\n",
       "       presence of spiders  presence of edema   serum bilirubin in mg/dl   \\\n",
       "count           293.000000          293.000000                 293.000000   \n",
       "mean              0.290102            0.114334                   3.264164   \n",
       "std               0.454586            0.280165                   4.648182   \n",
       "min               0.000000            0.000000                   0.300000   \n",
       "25%               0.000000            0.000000                   0.800000   \n",
       "50%               0.000000            0.000000                   1.300000   \n",
       "75%               1.000000            0.000000                   3.400000   \n",
       "max               1.000000            1.000000                  28.000000   \n",
       "\n",
       "       albumin in gm/dl   alkaline phosphatase in U/liter   SGOT in U/ml   \\\n",
       "count         293.000000                         293.00000     293.000000   \n",
       "mean            3.516997                        2011.67099     122.066143   \n",
       "std             0.422920                        2195.95659      57.757400   \n",
       "min             1.960000                         289.00000      26.350000   \n",
       "25%             3.310000                         858.00000      79.050000   \n",
       "50%             3.550000                        1258.00000     111.000000   \n",
       "75%             3.800000                        2009.00000     151.900000   \n",
       "max             4.640000                       13862.40000     457.250000   \n",
       "\n",
       "       prothrombin time in seconds   histologic stage of disease   \n",
       "count                    293.000000                    293.000000  \n",
       "mean                      10.748805                      3.017065  \n",
       "std                        1.021904                      0.885412  \n",
       "min                        9.000000                      1.000000  \n",
       "25%                       10.000000                      2.000000  \n",
       "50%                       10.600000                      3.000000  \n",
       "75%                       11.100000                      4.000000  \n",
       "max                       17.100000                      4.000000  "
      ]
     },
     "execution_count": 6,
     "metadata": {},
     "output_type": "execute_result"
    }
   ],
   "source": [
    "dataset.describe()"
   ]
  },
  {
   "cell_type": "code",
   "execution_count": 7,
   "metadata": {},
   "outputs": [
    {
     "data": {
      "text/plain": [
       "Index(['case number ', 'tenure', 'event', 'drug', 'age in days ', 'sex',\n",
       "       'presence of ascites', 'presence of hepatomegaly',\n",
       "       'presence of spiders', 'presence of edema ',\n",
       "       'serum bilirubin in mg/dl ', 'serum cholesterol in mg/dl ',\n",
       "       'albumin in gm/dl ', 'urine copper in ug/day ',\n",
       "       'alkaline phosphatase in U/liter ', 'SGOT in U/ml ',\n",
       "       'triglicerides in mg/dl ', 'platelets per cubic ml / 1000 ',\n",
       "       'prothrombin time in seconds ', 'histologic stage of disease '],\n",
       "      dtype='object')"
      ]
     },
     "execution_count": 7,
     "metadata": {},
     "output_type": "execute_result"
    }
   ],
   "source": [
    "dataset.columns"
   ]
  },
  {
   "cell_type": "code",
   "execution_count": 8,
   "metadata": {},
   "outputs": [],
   "source": [
    "dataset.drop(['case number '], axis=1, inplace=True)"
   ]
  },
  {
   "cell_type": "code",
   "execution_count": 9,
   "metadata": {},
   "outputs": [],
   "source": [
    "dataset.replace(to_replace='.', value=float('NaN'), inplace=True)"
   ]
  },
  {
   "cell_type": "code",
   "execution_count": 10,
   "metadata": {},
   "outputs": [
    {
     "name": "stdout",
     "output_type": "stream",
     "text": [
      "tenure 0.0\n",
      "event 0.0\n",
      "drug 0.0\n",
      "age in days  0.0\n",
      "sex 0.0\n",
      "presence of ascites 0.0\n",
      "presence of hepatomegaly 0.0\n",
      "presence of spiders 0.0\n",
      "presence of edema  0.0\n",
      "serum bilirubin in mg/dl  0.0\n",
      "serum cholesterol in mg/dl  9.215017064846416\n",
      "albumin in gm/dl  0.0\n",
      "urine copper in ug/day  0.6825938566552902\n",
      "alkaline phosphatase in U/liter  0.0\n",
      "SGOT in U/ml  0.0\n",
      "triglicerides in mg/dl  9.897610921501707\n",
      "platelets per cubic ml / 1000  1.3651877133105803\n",
      "prothrombin time in seconds  0.0\n",
      "histologic stage of disease  0.0\n"
     ]
    }
   ],
   "source": [
    "for i in range(dataset.shape[1]):\n",
    "    print(dataset.columns[i]+' '+str((dataset.iloc[:, i].isna().sum()/dataset.shape[0]) * 100) )"
   ]
  },
  {
   "cell_type": "code",
   "execution_count": 11,
   "metadata": {},
   "outputs": [
    {
     "name": "stdout",
     "output_type": "stream",
     "text": [
      "<class 'pandas.core.frame.DataFrame'>\n",
      "RangeIndex: 293 entries, 0 to 292\n",
      "Data columns (total 19 columns):\n",
      " #   Column                            Non-Null Count  Dtype  \n",
      "---  ------                            --------------  -----  \n",
      " 0   tenure                            293 non-null    int64  \n",
      " 1   event                             293 non-null    int64  \n",
      " 2   drug                              293 non-null    int64  \n",
      " 3   age in days                       293 non-null    int64  \n",
      " 4   sex                               293 non-null    int64  \n",
      " 5   presence of ascites               293 non-null    int64  \n",
      " 6   presence of hepatomegaly          293 non-null    int64  \n",
      " 7   presence of spiders               293 non-null    int64  \n",
      " 8   presence of edema                 293 non-null    float64\n",
      " 9   serum bilirubin in mg/dl          293 non-null    float64\n",
      " 10  serum cholesterol in mg/dl        266 non-null    object \n",
      " 11  albumin in gm/dl                  293 non-null    float64\n",
      " 12  urine copper in ug/day            291 non-null    object \n",
      " 13  alkaline phosphatase in U/liter   293 non-null    float64\n",
      " 14  SGOT in U/ml                      293 non-null    float64\n",
      " 15  triglicerides in mg/dl            264 non-null    object \n",
      " 16  platelets per cubic ml / 1000     289 non-null    object \n",
      " 17  prothrombin time in seconds       293 non-null    float64\n",
      " 18  histologic stage of disease       293 non-null    int64  \n",
      "dtypes: float64(6), int64(9), object(4)\n",
      "memory usage: 43.6+ KB\n"
     ]
    }
   ],
   "source": [
    "dataset.info()"
   ]
  },
  {
   "cell_type": "code",
   "execution_count": 12,
   "metadata": {},
   "outputs": [],
   "source": [
    "dataset['serum cholesterol in mg/dl '] = dataset['serum cholesterol in mg/dl '].astype('float')\n",
    "dataset['urine copper in ug/day '] = dataset['urine copper in ug/day '].astype('float')\n",
    "dataset['triglicerides in mg/dl '] = dataset['triglicerides in mg/dl '].astype('float')\n",
    "dataset['platelets per cubic ml / 1000 '] = dataset['platelets per cubic ml / 1000 '].astype('float')"
   ]
  },
  {
   "cell_type": "code",
   "execution_count": 13,
   "metadata": {},
   "outputs": [
    {
     "data": {
      "image/png": "[encoded data removed]",
      "text/plain": [
       "<Figure size 432x288 with 1 Axes>"
      ]
     },
     "metadata": {
      "needs_background": "light"
     },
     "output_type": "display_data"
    }
   ],
   "source": [
    "dataset.boxplot(column='serum cholesterol in mg/dl ')\n",
    "plt.show()"
   ]
  },
  {
   "cell_type": "code",
   "execution_count": 14,
   "metadata": {},
   "outputs": [
    {
     "name": "stderr",
     "output_type": "stream",
     "text": [
      "C:\\ProgramData\\Anaconda3\\lib\\site-packages\\ipykernel_launcher.py:1: SettingWithCopyWarning: \n",
      "A value is trying to be set on a copy of a slice from a DataFrame\n",
      "\n",
      "See the caveats in the documentation: https://pandas.pydata.org/pandas-docs/stable/user_guide/indexing.html#returning-a-view-versus-a-copy\n",
      "  \"\"\"Entry point for launching an IPython kernel.\n"
     ]
    }
   ],
   "source": [
    "dataset['serum cholesterol in mg/dl '][dataset['serum cholesterol in mg/dl '].isna()] = dataset['serum cholesterol in mg/dl '].median()"
   ]
  },
  {
   "cell_type": "code",
   "execution_count": 15,
   "metadata": {},
   "outputs": [
    {
     "data": {
      "image/png": "[encoded data removed]",
      "text/plain": [
       "<Figure size 432x288 with 1 Axes>"
      ]
     },
     "metadata": {
      "needs_background": "light"
     },
     "output_type": "display_data"
    }
   ],
   "source": [
    "dataset.boxplot(column='urine copper in ug/day ')\n",
    "plt.show()"
   ]
  },
  {
   "cell_type": "code",
   "execution_count": 16,
   "metadata": {},
   "outputs": [
    {
     "name": "stderr",
     "output_type": "stream",
     "text": [
      "C:\\ProgramData\\Anaconda3\\lib\\site-packages\\ipykernel_launcher.py:1: SettingWithCopyWarning: \n",
      "A value is trying to be set on a copy of a slice from a DataFrame\n",
      "\n",
      "See the caveats in the documentation: https://pandas.pydata.org/pandas-docs/stable/user_guide/indexing.html#returning-a-view-versus-a-copy\n",
      "  \"\"\"Entry point for launching an IPython kernel.\n"
     ]
    }
   ],
   "source": [
    "dataset['urine copper in ug/day '][dataset['urine copper in ug/day '].isna()] = dataset['urine copper in ug/day '].median()"
   ]
  },
  {
   "cell_type": "code",
   "execution_count": 17,
   "metadata": {},
   "outputs": [
    {
     "data": {
      "image/png": "[encoded data removed]",
      "text/plain": [
       "<Figure size 432x288 with 1 Axes>"
      ]
     },
     "metadata": {
      "needs_background": "light"
     },
     "output_type": "display_data"
    }
   ],
   "source": [
    "dataset.boxplot(column='triglicerides in mg/dl ')\n",
    "plt.show()"
   ]
  },
  {
   "cell_type": "code",
   "execution_count": 18,
   "metadata": {},
   "outputs": [
    {
     "name": "stderr",
     "output_type": "stream",
     "text": [
      "C:\\ProgramData\\Anaconda3\\lib\\site-packages\\ipykernel_launcher.py:1: SettingWithCopyWarning: \n",
      "A value is trying to be set on a copy of a slice from a DataFrame\n",
      "\n",
      "See the caveats in the documentation: https://pandas.pydata.org/pandas-docs/stable/user_guide/indexing.html#returning-a-view-versus-a-copy\n",
      "  \"\"\"Entry point for launching an IPython kernel.\n"
     ]
    }
   ],
   "source": [
    "dataset['triglicerides in mg/dl '][dataset['triglicerides in mg/dl '].isna()] = dataset['triglicerides in mg/dl '].median()"
   ]
  },
  {
   "cell_type": "code",
   "execution_count": 19,
   "metadata": {},
   "outputs": [
    {
     "data": {
      "image/png": "[encoded data removed]",
      "text/plain": [
       "<Figure size 432x288 with 1 Axes>"
      ]
     },
     "metadata": {
      "needs_background": "light"
     },
     "output_type": "display_data"
    }
   ],
   "source": [
    "dataset.boxplot(column='platelets per cubic ml / 1000 ')\n",
    "plt.show()"
   ]
  },
  {
   "cell_type": "code",
   "execution_count": 20,
   "metadata": {},
   "outputs": [
    {
     "name": "stderr",
     "output_type": "stream",
     "text": [
      "C:\\ProgramData\\Anaconda3\\lib\\site-packages\\ipykernel_launcher.py:1: SettingWithCopyWarning: \n",
      "A value is trying to be set on a copy of a slice from a DataFrame\n",
      "\n",
      "See the caveats in the documentation: https://pandas.pydata.org/pandas-docs/stable/user_guide/indexing.html#returning-a-view-versus-a-copy\n",
      "  \"\"\"Entry point for launching an IPython kernel.\n"
     ]
    }
   ],
   "source": [
    "dataset['platelets per cubic ml / 1000 '][dataset['platelets per cubic ml / 1000 '].isna()] = dataset['platelets per cubic ml / 1000 '].median()"
   ]
  },
  {
   "cell_type": "code",
   "execution_count": 21,
   "metadata": {},
   "outputs": [
    {
     "name": "stdout",
     "output_type": "stream",
     "text": [
      "tenure 282\n",
      "event 2\n",
      "drug 2\n",
      "age in days  290\n",
      "sex 2\n",
      "presence of ascites 2\n",
      "presence of hepatomegaly 2\n",
      "presence of spiders 2\n",
      "presence of edema  3\n",
      "serum bilirubin in mg/dl  81\n",
      "serum cholesterol in mg/dl  189\n",
      "albumin in gm/dl  131\n",
      "urine copper in ug/day  152\n",
      "alkaline phosphatase in U/liter  277\n",
      "SGOT in U/ml  173\n",
      "triglicerides in mg/dl  143\n",
      "platelets per cubic ml / 1000  200\n",
      "prothrombin time in seconds  44\n",
      "histologic stage of disease  4\n"
     ]
    }
   ],
   "source": [
    "for i in range(dataset.shape[1]):\n",
    "    print(dataset.columns[i]+' '+str(len(dataset.iloc[:, i].unique())))"
   ]
  },
  {
   "cell_type": "code",
   "execution_count": 22,
   "metadata": {},
   "outputs": [
    {
     "data": {
      "text/plain": [
       "array([21464, 20617, 25594, 19994, 24201, 20284, 19379, 15526, 25772,\n",
       "       19619, 21600, 16688, 20535, 23612, 14772, 19060, 19698, 18102,\n",
       "       21898, 23445, 20555, 20442, 16261, 16463, 19002, 19884, 16417,\n",
       "       23331, 15116, 15177, 19722, 18731, 19015, 17758, 20604, 22546,\n",
       "       13378, 20232, 17046, 12285, 12307, 17850, 13727, 15265, 16728,\n",
       "       17323, 17947, 22336, 19544, 19025, 18460, 24621, 14317, 24020,\n",
       "       12279, 19567, 16279, 14754, 21324, 16034, 22173, 17031, 22977,\n",
       "       14684, 16967, 18733, 11912, 18021, 20600, 17841, 11868, 14060,\n",
       "       18964, 15895, 18972, 18199, 17512, 16990, 24622, 23107, 24585,\n",
       "       20459, 20392, 17246, 19270, 13616, 15119, 19155, 12227, 16658,\n",
       "       28018, 13344, 19693, 16944, 26259, 10550, 17703, 18799, 16418,\n",
       "       20662, 17884, 15712, 25023, 22836, 18393, 16094, 14212, 20256,\n",
       "       18713, 19295, 15574, 22306, 18137, 17844, 19817, 24803, 20248,\n",
       "       16736, 19318, 19577, 16109, 15322, 23235, 16154, 22646, 14812,\n",
       "       22881, 15463, 15694, 20440, 22960, 18719, 17080, 19751, 17180,\n",
       "       20354, 16839, 19098, 18701, 12369, 27398, 11273, 22574, 12779,\n",
       "       20104, 25546, 18118, 25340, 15909, 21699, 17809, 16714, 20955,\n",
       "       15612, 21483, 19540, 15857, 19470, 15105, 22265, 17442, 12963,\n",
       "       17774, 19237, 18215, 11058, 20296, 19049, 15198, 20254, 25569,\n",
       "       16050, 15548, 20799, 13736, 17664, 25873, 13073, 22873, 18499,\n",
       "       19916, 19246, 19256, 20736, 16216, 10795, 20834, 16300, 13075,\n",
       "       14872, 11773, 15009, 22514, 13535, 22857, 17889, 22642, 26580,\n",
       "       22388, 19221, 18176, 19327, 17263, 18337, 25329, 15037, 21610,\n",
       "       13178, 12636, 15601, 23241, 20684, 16898, 22369, 14106, 14161,\n",
       "       20708, 21532, 13486, 22797, 12641, 21307, 18329, 15591, 12557,\n",
       "       12120, 14019, 21828, 24257, 17090, 20483, 23585, 24650, 16374,\n",
       "       16718, 20241, 17525, 14899, 20810, 25006, 28650, 12897, 11485,\n",
       "       21281, 18806, 21904, 27220, 19126, 15628, 20567, 25899, 20233,\n",
       "       16467,  9598, 18435, 14025, 17320, 13995, 18302, 12816, 11872,\n",
       "       20510, 16858, 24064, 12398, 17738, 16929, 14191, 21421, 24681,\n",
       "       24101, 18352, 20891, 22111, 11462, 19258, 13913, 21247, 16513,\n",
       "       13806, 22156, 12979, 15730, 20597, 11167, 22347, 21294, 22767,\n",
       "       13879, 12109], dtype=int64)"
      ]
     },
     "execution_count": 22,
     "metadata": {},
     "output_type": "execute_result"
    }
   ],
   "source": [
    "dataset['age in days '].unique()"
   ]
  },
  {
   "cell_type": "code",
   "execution_count": 23,
   "metadata": {},
   "outputs": [
    {
     "name": "stdout",
     "output_type": "stream",
     "text": [
      "==========================================\n",
      "Loc:1\n",
      "0    168\n",
      "2    125\n",
      "Name: event, dtype: int64\n",
      "\n",
      "==========================================\n",
      "Loc:2\n",
      "1    148\n",
      "2    145\n",
      "Name: drug, dtype: int64\n",
      "\n",
      "==========================================\n",
      "Loc:4\n",
      "1    260\n",
      "0     33\n",
      "Name: sex, dtype: int64\n",
      "\n",
      "==========================================\n",
      "Loc:5\n",
      "0    269\n",
      "1     24\n",
      "Name: presence of ascites, dtype: int64\n",
      "\n",
      "==========================================\n",
      "Loc:6\n",
      "1    148\n",
      "0    145\n",
      "Name: presence of hepatomegaly, dtype: int64\n",
      "\n",
      "==========================================\n",
      "Loc:7\n",
      "0    208\n",
      "1     85\n",
      "Name: presence of spiders, dtype: int64\n",
      "\n",
      "==========================================\n",
      "Loc:8\n",
      "0.0    246\n",
      "0.5     27\n",
      "1.0     20\n",
      "Name: presence of edema , dtype: int64\n",
      "\n",
      "==========================================\n",
      "Loc:18\n",
      "3    112\n",
      "4    101\n",
      "2     64\n",
      "1     16\n",
      "Name: histologic stage of disease , dtype: int64\n",
      "\n"
     ]
    }
   ],
   "source": [
    "for i in range(dataset.shape[1]):\n",
    "    column_name = dataset.columns[i]\n",
    "    unique_len = len(dataset.iloc[:, i].unique())\n",
    "    if unique_len < 5:\n",
    "        print('==========================================')\n",
    "        print('Loc:'+str(i))\n",
    "        print(dataset.iloc[:, i].value_counts())\n",
    "        print('')"
   ]
  },
  {
   "cell_type": "code",
   "execution_count": 24,
   "metadata": {},
   "outputs": [],
   "source": [
    "dataset.to_csv(os.getcwd()+'/Data/Clean_PBC.csv')"
   ]
  },
  {
   "cell_type": "code",
   "execution_count": 25,
   "metadata": {},
   "outputs": [],
   "source": [
    "dataset.event = dataset.event.apply(lambda x: 1 if x == 2 else 0)"
   ]
  },
  {
   "cell_type": "code",
   "execution_count": 26,
   "metadata": {},
   "outputs": [],
   "source": [
    "dataset.rename(columns={'drug': 'D_penicillamine'}, inplace=True)"
   ]
  },
  {
   "cell_type": "code",
   "execution_count": 27,
   "metadata": {},
   "outputs": [],
   "source": [
    "dataset.D_penicillamine = dataset.D_penicillamine.apply(lambda x: 0 if x == 2 else 1)"
   ]
  },
  {
   "cell_type": "code",
   "execution_count": 28,
   "metadata": {},
   "outputs": [],
   "source": [
    "dataset.rename(columns={'sex': 'female'}, inplace=True)"
   ]
  },
  {
   "cell_type": "code",
   "execution_count": 29,
   "metadata": {},
   "outputs": [],
   "source": [
    "edema_dummy = pd.get_dummies(dataset['presence of edema '], prefix='edema')"
   ]
  },
  {
   "cell_type": "code",
   "execution_count": 30,
   "metadata": {},
   "outputs": [],
   "source": [
    "dataset = pd.concat([dataset, edema_dummy.iloc[:, :edema_dummy.shape[1]-1]], axis=1)\n",
    "dataset.drop('presence of edema ', axis=1, inplace = True)"
   ]
  },
  {
   "cell_type": "code",
   "execution_count": 31,
   "metadata": {},
   "outputs": [],
   "source": [
    "hist_stage_dummy = pd.get_dummies(dataset['histologic stage of disease '], prefix='hist_stage', drop_first=True)"
   ]
  },
  {
   "cell_type": "code",
   "execution_count": 32,
   "metadata": {},
   "outputs": [],
   "source": [
    "dataset = pd.concat([dataset, hist_stage_dummy], axis=1)\n",
    "dataset.drop('histologic stage of disease ', axis=1, inplace = True)"
   ]
  },
  {
   "cell_type": "code",
   "execution_count": 33,
   "metadata": {},
   "outputs": [
    {
     "name": "stdout",
     "output_type": "stream",
     "text": [
      "==========================================\n",
      "Loc:1\n",
      "0    168\n",
      "1    125\n",
      "Name: event, dtype: int64\n",
      "\n",
      "==========================================\n",
      "Loc:2\n",
      "1    148\n",
      "0    145\n",
      "Name: D_penicillamine, dtype: int64\n",
      "\n",
      "==========================================\n",
      "Loc:4\n",
      "1    260\n",
      "0     33\n",
      "Name: female, dtype: int64\n",
      "\n",
      "==========================================\n",
      "Loc:5\n",
      "0    269\n",
      "1     24\n",
      "Name: presence of ascites, dtype: int64\n",
      "\n",
      "==========================================\n",
      "Loc:6\n",
      "1    148\n",
      "0    145\n",
      "Name: presence of hepatomegaly, dtype: int64\n",
      "\n",
      "==========================================\n",
      "Loc:7\n",
      "0    208\n",
      "1     85\n",
      "Name: presence of spiders, dtype: int64\n",
      "\n",
      "==========================================\n",
      "Loc:17\n",
      "1    246\n",
      "0     47\n",
      "Name: edema_0.0, dtype: int64\n",
      "\n",
      "==========================================\n",
      "Loc:18\n",
      "0    266\n",
      "1     27\n",
      "Name: edema_0.5, dtype: int64\n",
      "\n",
      "==========================================\n",
      "Loc:19\n",
      "0    229\n",
      "1     64\n",
      "Name: hist_stage_2, dtype: int64\n",
      "\n",
      "==========================================\n",
      "Loc:20\n",
      "0    181\n",
      "1    112\n",
      "Name: hist_stage_3, dtype: int64\n",
      "\n",
      "==========================================\n",
      "Loc:21\n",
      "0    192\n",
      "1    101\n",
      "Name: hist_stage_4, dtype: int64\n",
      "\n"
     ]
    }
   ],
   "source": [
    "for i in range(dataset.shape[1]):\n",
    "    column_name = dataset.columns[i]\n",
    "    unique_len = len(dataset.iloc[:, i].unique())\n",
    "    if unique_len < 5:\n",
    "        print('==========================================')\n",
    "        print('Loc:'+str(i))\n",
    "        print(dataset.iloc[:, i].value_counts())\n",
    "        print('')"
   ]
  },
  {
   "cell_type": "code",
   "execution_count": 34,
   "metadata": {},
   "outputs": [
    {
     "data": {
      "text/plain": [
       "Index(['tenure', 'event', 'D_penicillamine', 'age in days ', 'female',\n",
       "       'presence of ascites', 'presence of hepatomegaly',\n",
       "       'presence of spiders', 'serum bilirubin in mg/dl ',\n",
       "       'serum cholesterol in mg/dl ', 'albumin in gm/dl ',\n",
       "       'urine copper in ug/day ', 'alkaline phosphatase in U/liter ',\n",
       "       'SGOT in U/ml ', 'triglicerides in mg/dl ',\n",
       "       'platelets per cubic ml / 1000 ', 'prothrombin time in seconds ',\n",
       "       'edema_0.0', 'edema_0.5', 'hist_stage_2', 'hist_stage_3',\n",
       "       'hist_stage_4'],\n",
       "      dtype='object')"
      ]
     },
     "execution_count": 34,
     "metadata": {},
     "output_type": "execute_result"
    }
   ],
   "source": [
    "dataset.columns"
   ]
  },
  {
   "cell_type": "code",
   "execution_count": 35,
   "metadata": {},
   "outputs": [],
   "source": [
    "cph_cat = CoxPHFitter()"
   ]
  },
  {
   "cell_type": "code",
   "execution_count": 45,
   "metadata": {},
   "outputs": [],
   "source": [
    "cols_to_include = ['tenure', 'event', 'female',\n",
    "       'presence of ascites', 'presence of hepatomegaly',\n",
    "       'presence of spiders',\n",
    "       'edema_0.0', 'hist_stage_2', 'hist_stage_3']"
   ]
  },
  {
   "cell_type": "code",
   "execution_count": 46,
   "metadata": {},
   "outputs": [
    {
     "data": {
      "text/plain": [
       "<lifelines.CoxPHFitter: fitted with 293 total observations, 168 right-censored observations>"
      ]
     },
     "execution_count": 46,
     "metadata": {},
     "output_type": "execute_result"
    }
   ],
   "source": [
    "cph_cat.fit(dataset[cols_to_include], 'tenure', event_col='event')"
   ]
  },
  {
   "cell_type": "code",
   "execution_count": 47,
   "metadata": {},
   "outputs": [],
   "source": [
    "import seaborn as sns"
   ]
  },
  {
   "cell_type": "code",
   "execution_count": 48,
   "metadata": {},
   "outputs": [
    {
     "name": "stdout",
     "output_type": "stream",
     "text": [
      "Populating the interactive namespace from numpy and matplotlib\n"
     ]
    },
    {
     "data": {
      "image/png": "[encoded data removed]",
      "text/plain": [
       "<Figure size 1080x432 with 2 Axes>"
      ]
     },
     "metadata": {
      "needs_background": "light"
     },
     "output_type": "display_data"
    }
   ],
   "source": [
    "%pylab inline\n",
    "pylab.rcParams['figure.figsize'] = (15, 6)\n",
    "corr_matrix = dataset[cols_to_include].corr()\n",
    "sns.heatmap(data=corr_matrix, annot=True)\n",
    "plt.show()\n",
    "pylab.rcParams['figure.figsize'] = (10, 6)"
   ]
  },
  {
   "cell_type": "code",
   "execution_count": 49,
   "metadata": {},
   "outputs": [
    {
     "data": {
      "text/html": [
       "<div>\n",
       "<style scoped>\n",
       "    .dataframe tbody tr th:only-of-type {\n",
       "        vertical-align: middle;\n",
       "    }\n",
       "\n",
       "    .dataframe tbody tr th {\n",
       "        vertical-align: top;\n",
       "    }\n",
       "\n",
       "    .dataframe thead th {\n",
       "        text-align: right;\n",
       "    }\n",
       "</style>\n",
       "<table border=\"1\" class=\"dataframe\">\n",
       "  <tbody>\n",
       "    <tr>\n",
       "      <th>model</th>\n",
       "      <td>lifelines.CoxPHFitter</td>\n",
       "    </tr>\n",
       "    <tr>\n",
       "      <th>duration col</th>\n",
       "      <td>'tenure'</td>\n",
       "    </tr>\n",
       "    <tr>\n",
       "      <th>event col</th>\n",
       "      <td>'event'</td>\n",
       "    </tr>\n",
       "    <tr>\n",
       "      <th>baseline estimation</th>\n",
       "      <td>breslow</td>\n",
       "    </tr>\n",
       "    <tr>\n",
       "      <th>number of observations</th>\n",
       "      <td>293</td>\n",
       "    </tr>\n",
       "    <tr>\n",
       "      <th>number of events observed</th>\n",
       "      <td>125</td>\n",
       "    </tr>\n",
       "    <tr>\n",
       "      <th>partial log-likelihood</th>\n",
       "      <td>-581.64</td>\n",
       "    </tr>\n",
       "    <tr>\n",
       "      <th>time fit was run</th>\n",
       "      <td>2020-08-14 12:01:11 UTC</td>\n",
       "    </tr>\n",
       "  </tbody>\n",
       "</table>\n",
       "</div><table border=\"1\" class=\"dataframe\">\n",
       "  <thead>\n",
       "    <tr style=\"text-align: right;\">\n",
       "      <th></th>\n",
       "      <th>coef</th>\n",
       "      <th>exp(coef)</th>\n",
       "      <th>se(coef)</th>\n",
       "      <th>coef lower 95%</th>\n",
       "      <th>coef upper 95%</th>\n",
       "      <th>exp(coef) lower 95%</th>\n",
       "      <th>exp(coef) upper 95%</th>\n",
       "      <th>z</th>\n",
       "      <th>p</th>\n",
       "      <th>-log2(p)</th>\n",
       "    </tr>\n",
       "    <tr>\n",
       "      <th>covariate</th>\n",
       "      <th></th>\n",
       "      <th></th>\n",
       "      <th></th>\n",
       "      <th></th>\n",
       "      <th></th>\n",
       "      <th></th>\n",
       "      <th></th>\n",
       "      <th></th>\n",
       "      <th></th>\n",
       "      <th></th>\n",
       "    </tr>\n",
       "  </thead>\n",
       "  <tbody>\n",
       "    <tr>\n",
       "      <th>female</th>\n",
       "      <td>-0.45</td>\n",
       "      <td>0.64</td>\n",
       "      <td>0.25</td>\n",
       "      <td>-0.93</td>\n",
       "      <td>0.03</td>\n",
       "      <td>0.39</td>\n",
       "      <td>1.03</td>\n",
       "      <td>-1.84</td>\n",
       "      <td>0.07</td>\n",
       "      <td>3.92</td>\n",
       "    </tr>\n",
       "    <tr>\n",
       "      <th>presence of ascites</th>\n",
       "      <td>1.33</td>\n",
       "      <td>3.78</td>\n",
       "      <td>0.28</td>\n",
       "      <td>0.78</td>\n",
       "      <td>1.88</td>\n",
       "      <td>2.18</td>\n",
       "      <td>6.54</td>\n",
       "      <td>4.75</td>\n",
       "      <td>&lt;0.005</td>\n",
       "      <td>18.90</td>\n",
       "    </tr>\n",
       "    <tr>\n",
       "      <th>presence of hepatomegaly</th>\n",
       "      <td>0.74</td>\n",
       "      <td>2.10</td>\n",
       "      <td>0.22</td>\n",
       "      <td>0.31</td>\n",
       "      <td>1.17</td>\n",
       "      <td>1.37</td>\n",
       "      <td>3.23</td>\n",
       "      <td>3.39</td>\n",
       "      <td>&lt;0.005</td>\n",
       "      <td>10.50</td>\n",
       "    </tr>\n",
       "    <tr>\n",
       "      <th>presence of spiders</th>\n",
       "      <td>0.49</td>\n",
       "      <td>1.64</td>\n",
       "      <td>0.20</td>\n",
       "      <td>0.10</td>\n",
       "      <td>0.89</td>\n",
       "      <td>1.10</td>\n",
       "      <td>2.43</td>\n",
       "      <td>2.44</td>\n",
       "      <td>0.01</td>\n",
       "      <td>6.11</td>\n",
       "    </tr>\n",
       "    <tr>\n",
       "      <th>edema_0.0</th>\n",
       "      <td>-0.79</td>\n",
       "      <td>0.45</td>\n",
       "      <td>0.23</td>\n",
       "      <td>-1.23</td>\n",
       "      <td>-0.35</td>\n",
       "      <td>0.29</td>\n",
       "      <td>0.71</td>\n",
       "      <td>-3.49</td>\n",
       "      <td>&lt;0.005</td>\n",
       "      <td>10.99</td>\n",
       "    </tr>\n",
       "    <tr>\n",
       "      <th>hist_stage_2</th>\n",
       "      <td>-0.48</td>\n",
       "      <td>0.62</td>\n",
       "      <td>0.30</td>\n",
       "      <td>-1.07</td>\n",
       "      <td>0.11</td>\n",
       "      <td>0.34</td>\n",
       "      <td>1.11</td>\n",
       "      <td>-1.60</td>\n",
       "      <td>0.11</td>\n",
       "      <td>3.20</td>\n",
       "    </tr>\n",
       "    <tr>\n",
       "      <th>hist_stage_3</th>\n",
       "      <td>-0.12</td>\n",
       "      <td>0.89</td>\n",
       "      <td>0.22</td>\n",
       "      <td>-0.54</td>\n",
       "      <td>0.31</td>\n",
       "      <td>0.58</td>\n",
       "      <td>1.36</td>\n",
       "      <td>-0.53</td>\n",
       "      <td>0.60</td>\n",
       "      <td>0.75</td>\n",
       "    </tr>\n",
       "  </tbody>\n",
       "</table><div>\n",
       "<style scoped>\n",
       "    .dataframe tbody tr th:only-of-type {\n",
       "        vertical-align: middle;\n",
       "    }\n",
       "\n",
       "    .dataframe tbody tr th {\n",
       "        vertical-align: top;\n",
       "    }\n",
       "\n",
       "    .dataframe thead th {\n",
       "        text-align: right;\n",
       "    }\n",
       "</style>\n",
       "<table border=\"1\" class=\"dataframe\">\n",
       "  <tbody>\n",
       "    <tr>\n",
       "      <th>Concordance</th>\n",
       "      <td>0.78</td>\n",
       "    </tr>\n",
       "    <tr>\n",
       "      <th>Partial AIC</th>\n",
       "      <td>1177.28</td>\n",
       "    </tr>\n",
       "    <tr>\n",
       "      <th>log-likelihood ratio test</th>\n",
       "      <td>105.80 on 7 df</td>\n",
       "    </tr>\n",
       "    <tr>\n",
       "      <th>-log2(p) of ll-ratio test</th>\n",
       "      <td>63.67</td>\n",
       "    </tr>\n",
       "  </tbody>\n",
       "</table>\n",
       "</div>"
      ],
      "text/latex": [
       "\\begin{tabular}{lrrrrrrrrrr}\n",
       "\\toprule\n",
       "{} &  coef &  exp(coef) &  se(coef) &  coef lower 95\\% &  coef upper 95\\% &  exp(coef) lower 95\\% &  exp(coef) upper 95\\% &     z &    p &  -log2(p) \\\\\n",
       "covariate                &       &            &           &                 &                 &                      &                      &       &      &           \\\\\n",
       "\\midrule\n",
       "female                   & -0.45 &       0.64 &      0.25 &           -0.93 &            0.03 &                 0.39 &                 1.03 & -1.84 & 0.07 &      3.92 \\\\\n",
       "presence of ascites      &  1.33 &       3.78 &      0.28 &            0.78 &            1.88 &                 2.18 &                 6.54 &  4.75 & 0.00 &     18.90 \\\\\n",
       "presence of hepatomegaly &  0.74 &       2.10 &      0.22 &            0.31 &            1.17 &                 1.37 &                 3.23 &  3.39 & 0.00 &     10.50 \\\\\n",
       "presence of spiders      &  0.49 &       1.64 &      0.20 &            0.10 &            0.89 &                 1.10 &                 2.43 &  2.44 & 0.01 &      6.11 \\\\\n",
       "edema\\_0.0                & -0.79 &       0.45 &      0.23 &           -1.23 &           -0.35 &                 0.29 &                 0.71 & -3.49 & 0.00 &     10.99 \\\\\n",
       "hist\\_stage\\_2             & -0.48 &       0.62 &      0.30 &           -1.07 &            0.11 &                 0.34 &                 1.11 & -1.60 & 0.11 &      3.20 \\\\\n",
       "hist\\_stage\\_3             & -0.12 &       0.89 &      0.22 &           -0.54 &            0.31 &                 0.58 &                 1.36 & -0.53 & 0.60 &      0.75 \\\\\n",
       "\\bottomrule\n",
       "\\end{tabular}\n"
      ],
      "text/plain": [
       "<lifelines.CoxPHFitter: fitted with 293 total observations, 168 right-censored observations>\n",
       "             duration col = 'tenure'\n",
       "                event col = 'event'\n",
       "      baseline estimation = breslow\n",
       "   number of observations = 293\n",
       "number of events observed = 125\n",
       "   partial log-likelihood = -581.64\n",
       "         time fit was run = 2020-08-14 12:01:11 UTC\n",
       "\n",
       "---\n",
       "                           coef  exp(coef)   se(coef)   coef lower 95%   coef upper 95%  exp(coef) lower 95%  exp(coef) upper 95%\n",
       "covariate                                                                                                                        \n",
       "female                    -0.45       0.64       0.25            -0.93             0.03                 0.39                 1.03\n",
       "presence of ascites        1.33       3.78       0.28             0.78             1.88                 2.18                 6.54\n",
       "presence of hepatomegaly   0.74       2.10       0.22             0.31             1.17                 1.37                 3.23\n",
       "presence of spiders        0.49       1.64       0.20             0.10             0.89                 1.10                 2.43\n",
       "edema_0.0                 -0.79       0.45       0.23            -1.23            -0.35                 0.29                 0.71\n",
       "hist_stage_2              -0.48       0.62       0.30            -1.07             0.11                 0.34                 1.11\n",
       "hist_stage_3              -0.12       0.89       0.22            -0.54             0.31                 0.58                 1.36\n",
       "                             z      p   -log2(p)\n",
       "covariate                                       \n",
       "female                   -1.84   0.07       3.92\n",
       "presence of ascites       4.75 <0.005      18.90\n",
       "presence of hepatomegaly  3.39 <0.005      10.50\n",
       "presence of spiders       2.44   0.01       6.11\n",
       "edema_0.0                -3.49 <0.005      10.99\n",
       "hist_stage_2             -1.60   0.11       3.20\n",
       "hist_stage_3             -0.53   0.60       0.75\n",
       "---\n",
       "Concordance = 0.78\n",
       "Partial AIC = 1177.28\n",
       "log-likelihood ratio test = 105.80 on 7 df\n",
       "-log2(p) of ll-ratio test = 63.67"
      ]
     },
     "metadata": {},
     "output_type": "display_data"
    }
   ],
   "source": [
    "cph_cat.print_summary()"
   ]
  },
  {
   "cell_type": "code",
   "execution_count": 50,
   "metadata": {},
   "outputs": [],
   "source": [
    "tr_rows = dataset[cols_to_include].iloc[5:10]"
   ]
  },
  {
   "cell_type": "code",
   "execution_count": 51,
   "metadata": {},
   "outputs": [
    {
     "data": {
      "text/html": [
       "<div>\n",
       "<style scoped>\n",
       "    .dataframe tbody tr th:only-of-type {\n",
       "        vertical-align: middle;\n",
       "    }\n",
       "\n",
       "    .dataframe tbody tr th {\n",
       "        vertical-align: top;\n",
       "    }\n",
       "\n",
       "    .dataframe thead th {\n",
       "        text-align: right;\n",
       "    }\n",
       "</style>\n",
       "<table border=\"1\" class=\"dataframe\">\n",
       "  <thead>\n",
       "    <tr style=\"text-align: right;\">\n",
       "      <th></th>\n",
       "      <th>tenure</th>\n",
       "      <th>event</th>\n",
       "      <th>female</th>\n",
       "      <th>presence of ascites</th>\n",
       "      <th>presence of hepatomegaly</th>\n",
       "      <th>presence of spiders</th>\n",
       "      <th>edema_0.0</th>\n",
       "      <th>hist_stage_2</th>\n",
       "      <th>hist_stage_3</th>\n",
       "    </tr>\n",
       "  </thead>\n",
       "  <tbody>\n",
       "    <tr>\n",
       "      <th>5</th>\n",
       "      <td>1832</td>\n",
       "      <td>0</td>\n",
       "      <td>1</td>\n",
       "      <td>0</td>\n",
       "      <td>1</td>\n",
       "      <td>0</td>\n",
       "      <td>1</td>\n",
       "      <td>0</td>\n",
       "      <td>1</td>\n",
       "    </tr>\n",
       "    <tr>\n",
       "      <th>6</th>\n",
       "      <td>2466</td>\n",
       "      <td>1</td>\n",
       "      <td>1</td>\n",
       "      <td>0</td>\n",
       "      <td>0</td>\n",
       "      <td>0</td>\n",
       "      <td>1</td>\n",
       "      <td>0</td>\n",
       "      <td>1</td>\n",
       "    </tr>\n",
       "    <tr>\n",
       "      <th>7</th>\n",
       "      <td>2400</td>\n",
       "      <td>1</td>\n",
       "      <td>1</td>\n",
       "      <td>0</td>\n",
       "      <td>0</td>\n",
       "      <td>1</td>\n",
       "      <td>1</td>\n",
       "      <td>1</td>\n",
       "      <td>0</td>\n",
       "    </tr>\n",
       "    <tr>\n",
       "      <th>8</th>\n",
       "      <td>51</td>\n",
       "      <td>1</td>\n",
       "      <td>1</td>\n",
       "      <td>1</td>\n",
       "      <td>0</td>\n",
       "      <td>1</td>\n",
       "      <td>0</td>\n",
       "      <td>0</td>\n",
       "      <td>0</td>\n",
       "    </tr>\n",
       "    <tr>\n",
       "      <th>9</th>\n",
       "      <td>3762</td>\n",
       "      <td>1</td>\n",
       "      <td>1</td>\n",
       "      <td>0</td>\n",
       "      <td>1</td>\n",
       "      <td>1</td>\n",
       "      <td>1</td>\n",
       "      <td>0</td>\n",
       "      <td>0</td>\n",
       "    </tr>\n",
       "  </tbody>\n",
       "</table>\n",
       "</div>"
      ],
      "text/plain": [
       "   tenure  event  female  presence of ascites  presence of hepatomegaly  \\\n",
       "5    1832      0       1                    0                         1   \n",
       "6    2466      1       1                    0                         0   \n",
       "7    2400      1       1                    0                         0   \n",
       "8      51      1       1                    1                         0   \n",
       "9    3762      1       1                    0                         1   \n",
       "\n",
       "   presence of spiders  edema_0.0  hist_stage_2  hist_stage_3  \n",
       "5                    0          1             0             1  \n",
       "6                    0          1             0             1  \n",
       "7                    1          1             1             0  \n",
       "8                    1          0             0             0  \n",
       "9                    1          1             0             0  "
      ]
     },
     "execution_count": 51,
     "metadata": {},
     "output_type": "execute_result"
    }
   ],
   "source": [
    "tr_rows"
   ]
  },
  {
   "cell_type": "code",
   "execution_count": 52,
   "metadata": {},
   "outputs": [
    {
     "data": {
      "image/png": "[encoded data removed]",
      "text/plain": [
       "<Figure size 720x432 with 1 Axes>"
      ]
     },
     "metadata": {
      "needs_background": "light"
     },
     "output_type": "display_data"
    }
   ],
   "source": [
    "cph_cat.predict_survival_function(tr_rows).plot()\n",
    "plt.show()"
   ]
  },
  {
   "cell_type": "code",
   "execution_count": null,
   "metadata": {},
   "outputs": [],
   "source": [
    "# ========================================================================================================= #"
   ]
  },
  {
   "cell_type": "code",
   "execution_count": null,
   "metadata": {},
   "outputs": [],
   "source": [
    "# ========================================================================================================= #"
   ]
  },
  {
   "cell_type": "code",
   "execution_count": null,
   "metadata": {},
   "outputs": [],
   "source": [
    "# ========================================================================================================= #"
   ]
  }
 ],
 "metadata": {
  "kernelspec": {
   "display_name": "Python 3",
   "language": "python",
   "name": "python3"
  },
  "language_info": {
   "codemirror_mode": {
    "name": "ipython",
    "version": 3
   },
   "file_extension": ".py",
   "mimetype": "text/x-python",
   "name": "python",
   "nbconvert_exporter": "python",
   "pygments_lexer": "ipython3",
   "version": "3.7.7"
  }
 },
 "nbformat": 4,
 "nbformat_minor": 4
}
