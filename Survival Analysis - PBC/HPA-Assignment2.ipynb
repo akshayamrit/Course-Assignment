{
 "cells": [
  {
   "cell_type": "code",
   "execution_count": 6,
   "metadata": {},
   "outputs": [],
   "source": [
    "import pandas as pd\n",
    "import numpy as np\n",
    "import matplotlib.pyplot as plt\n",
    "import seaborn as sn\n",
    "import os"
   ]
  },
  {
   "cell_type": "code",
   "execution_count": 7,
   "metadata": {},
   "outputs": [],
   "source": [
    "from lifelines import CoxPHFitter\n",
    "from lifelines import KaplanMeierFitter\n",
    "from lifelines.statistics import logrank_test\n",
    "from lifelines.statistics import multivariate_logrank_test\n"
   ]
  },
  {
   "cell_type": "markdown",
   "metadata": {},
   "source": [
    "Variables: \n",
    "\n",
    "case number \n",
    "\n",
    "number of days between registration and the earlier of death, transplantation, or study analysis time in July, 1986 \n",
    "\n",
    "status \n",
    "\n",
    "drug: 1= D-penicillamine, 2=placebo \n",
    "\n",
    "age in days \n",
    "\n",
    "sex: 0=male, 1=female \n",
    "\n",
    "presence of ascites: 0=no 1=yes \n",
    "\n",
    "presence of hepatomegaly 0=no 1=yes \n",
    "\n",
    "presence of spiders 0=no 1=yes \n",
    "\n",
    "presence of edema 0=no edema and no diuretic therapy for edema; \n",
    "\n",
    ".5 = edema present without diuretics, or edema resolved by diuretics; \n",
    "\n",
    "1 = edema despite diuretic therapy \n",
    "\n",
    "serum bilirubin in mg/dl \n",
    "\n",
    "serum cholesterol in mg/dl \n",
    "\n",
    "albumin in gm/dl \n",
    "\n",
    "urine copper in ug/day \n",
    "\n",
    "alkaline phosphatase in U/liter \n",
    "\n",
    "SGOT in U/ml \n",
    "\n",
    "triglicerides in mg/dl \n",
    "\n",
    "platelets per cubic ml / 1000 \n",
    "\n",
    "prothrombin time in seconds \n",
    "\n",
    "histologic stage of disease \n",
    "\n",
    "\n"
   ]
  },
  {
   "cell_type": "code",
   "execution_count": null,
   "metadata": {},
   "outputs": [],
   "source": []
  },
  {
   "cell_type": "code",
   "execution_count": 8,
   "metadata": {},
   "outputs": [],
   "source": [
    "pbc_df = pd.read_csv(os.getcwd()+'/Data/pbc_data_removed.csv')"
   ]
  },
  {
   "cell_type": "code",
   "execution_count": null,
   "metadata": {},
   "outputs": [],
   "source": []
  },
  {
   "cell_type": "code",
   "execution_count": 9,
   "metadata": {},
   "outputs": [
    {
     "data": {
      "text/plain": [
       "(293, 20)"
      ]
     },
     "execution_count": 9,
     "metadata": {},
     "output_type": "execute_result"
    }
   ],
   "source": [
    "pbc_df.shape"
   ]
  },
  {
   "cell_type": "code",
   "execution_count": null,
   "metadata": {},
   "outputs": [],
   "source": []
  },
  {
   "cell_type": "code",
   "execution_count": 10,
   "metadata": {},
   "outputs": [
    {
     "data": {
      "text/html": [
       "<div>\n",
       "<style scoped>\n",
       "    .dataframe tbody tr th:only-of-type {\n",
       "        vertical-align: middle;\n",
       "    }\n",
       "\n",
       "    .dataframe tbody tr th {\n",
       "        vertical-align: top;\n",
       "    }\n",
       "\n",
       "    .dataframe thead th {\n",
       "        text-align: right;\n",
       "    }\n",
       "</style>\n",
       "<table border=\"1\" class=\"dataframe\">\n",
       "  <thead>\n",
       "    <tr style=\"text-align: right;\">\n",
       "      <th></th>\n",
       "      <th>case number</th>\n",
       "      <th>tenure</th>\n",
       "      <th>event</th>\n",
       "      <th>drug</th>\n",
       "      <th>age in days</th>\n",
       "      <th>sex</th>\n",
       "      <th>presence of ascites</th>\n",
       "      <th>presence of hepatomegaly</th>\n",
       "      <th>presence of spiders</th>\n",
       "      <th>presence of edema</th>\n",
       "      <th>serum bilirubin in mg/dl</th>\n",
       "      <th>serum cholesterol in mg/dl</th>\n",
       "      <th>albumin in gm/dl</th>\n",
       "      <th>urine copper in ug/day</th>\n",
       "      <th>alkaline phosphatase in U/liter</th>\n",
       "      <th>SGOT in U/ml</th>\n",
       "      <th>triglicerides in mg/dl</th>\n",
       "      <th>platelets per cubic ml / 1000</th>\n",
       "      <th>prothrombin time in seconds</th>\n",
       "      <th>histologic stage of disease</th>\n",
       "    </tr>\n",
       "  </thead>\n",
       "  <tbody>\n",
       "    <tr>\n",
       "      <th>0</th>\n",
       "      <td>1</td>\n",
       "      <td>400</td>\n",
       "      <td>2</td>\n",
       "      <td>1</td>\n",
       "      <td>21464</td>\n",
       "      <td>1</td>\n",
       "      <td>1</td>\n",
       "      <td>1</td>\n",
       "      <td>1</td>\n",
       "      <td>1.0</td>\n",
       "      <td>14.5</td>\n",
       "      <td>261</td>\n",
       "      <td>2.60</td>\n",
       "      <td>156</td>\n",
       "      <td>1718.0</td>\n",
       "      <td>137.95</td>\n",
       "      <td>172</td>\n",
       "      <td>190</td>\n",
       "      <td>12.2</td>\n",
       "      <td>4</td>\n",
       "    </tr>\n",
       "    <tr>\n",
       "      <th>1</th>\n",
       "      <td>2</td>\n",
       "      <td>4500</td>\n",
       "      <td>0</td>\n",
       "      <td>1</td>\n",
       "      <td>20617</td>\n",
       "      <td>1</td>\n",
       "      <td>0</td>\n",
       "      <td>1</td>\n",
       "      <td>1</td>\n",
       "      <td>0.0</td>\n",
       "      <td>1.1</td>\n",
       "      <td>302</td>\n",
       "      <td>4.14</td>\n",
       "      <td>54</td>\n",
       "      <td>7394.8</td>\n",
       "      <td>113.52</td>\n",
       "      <td>88</td>\n",
       "      <td>221</td>\n",
       "      <td>10.6</td>\n",
       "      <td>3</td>\n",
       "    </tr>\n",
       "    <tr>\n",
       "      <th>2</th>\n",
       "      <td>3</td>\n",
       "      <td>1012</td>\n",
       "      <td>2</td>\n",
       "      <td>1</td>\n",
       "      <td>25594</td>\n",
       "      <td>0</td>\n",
       "      <td>0</td>\n",
       "      <td>0</td>\n",
       "      <td>0</td>\n",
       "      <td>0.5</td>\n",
       "      <td>1.4</td>\n",
       "      <td>176</td>\n",
       "      <td>3.48</td>\n",
       "      <td>210</td>\n",
       "      <td>516.0</td>\n",
       "      <td>96.10</td>\n",
       "      <td>55</td>\n",
       "      <td>151</td>\n",
       "      <td>12.0</td>\n",
       "      <td>4</td>\n",
       "    </tr>\n",
       "    <tr>\n",
       "      <th>3</th>\n",
       "      <td>4</td>\n",
       "      <td>1925</td>\n",
       "      <td>2</td>\n",
       "      <td>1</td>\n",
       "      <td>19994</td>\n",
       "      <td>1</td>\n",
       "      <td>0</td>\n",
       "      <td>1</td>\n",
       "      <td>1</td>\n",
       "      <td>0.5</td>\n",
       "      <td>1.8</td>\n",
       "      <td>244</td>\n",
       "      <td>2.54</td>\n",
       "      <td>64</td>\n",
       "      <td>6121.8</td>\n",
       "      <td>60.63</td>\n",
       "      <td>92</td>\n",
       "      <td>183</td>\n",
       "      <td>10.3</td>\n",
       "      <td>4</td>\n",
       "    </tr>\n",
       "    <tr>\n",
       "      <th>4</th>\n",
       "      <td>5</td>\n",
       "      <td>2503</td>\n",
       "      <td>2</td>\n",
       "      <td>2</td>\n",
       "      <td>24201</td>\n",
       "      <td>1</td>\n",
       "      <td>0</td>\n",
       "      <td>1</td>\n",
       "      <td>0</td>\n",
       "      <td>0.0</td>\n",
       "      <td>0.8</td>\n",
       "      <td>248</td>\n",
       "      <td>3.98</td>\n",
       "      <td>50</td>\n",
       "      <td>944.0</td>\n",
       "      <td>93.00</td>\n",
       "      <td>63</td>\n",
       "      <td>.</td>\n",
       "      <td>11.0</td>\n",
       "      <td>3</td>\n",
       "    </tr>\n",
       "  </tbody>\n",
       "</table>\n",
       "</div>"
      ],
      "text/plain": [
       "   case number   tenure  event  drug  age in days   sex  presence of ascites  \\\n",
       "0             1     400      2     1         21464    1                    1   \n",
       "1             2    4500      0     1         20617    1                    0   \n",
       "2             3    1012      2     1         25594    0                    0   \n",
       "3             4    1925      2     1         19994    1                    0   \n",
       "4             5    2503      2     2         24201    1                    0   \n",
       "\n",
       "   presence of hepatomegaly  presence of spiders  presence of edema   \\\n",
       "0                         1                    1                 1.0   \n",
       "1                         1                    1                 0.0   \n",
       "2                         0                    0                 0.5   \n",
       "3                         1                    1                 0.5   \n",
       "4                         1                    0                 0.0   \n",
       "\n",
       "   serum bilirubin in mg/dl  serum cholesterol in mg/dl   albumin in gm/dl   \\\n",
       "0                       14.5                         261               2.60   \n",
       "1                        1.1                         302               4.14   \n",
       "2                        1.4                         176               3.48   \n",
       "3                        1.8                         244               2.54   \n",
       "4                        0.8                         248               3.98   \n",
       "\n",
       "  urine copper in ug/day   alkaline phosphatase in U/liter   SGOT in U/ml   \\\n",
       "0                     156                            1718.0         137.95   \n",
       "1                      54                            7394.8         113.52   \n",
       "2                     210                             516.0          96.10   \n",
       "3                      64                            6121.8          60.63   \n",
       "4                      50                             944.0          93.00   \n",
       "\n",
       "  triglicerides in mg/dl  platelets per cubic ml / 1000   \\\n",
       "0                     172                            190   \n",
       "1                      88                            221   \n",
       "2                      55                            151   \n",
       "3                      92                            183   \n",
       "4                      63                              .   \n",
       "\n",
       "   prothrombin time in seconds   histologic stage of disease   \n",
       "0                          12.2                             4  \n",
       "1                          10.6                             3  \n",
       "2                          12.0                             4  \n",
       "3                          10.3                             4  \n",
       "4                          11.0                             3  "
      ]
     },
     "execution_count": 10,
     "metadata": {},
     "output_type": "execute_result"
    }
   ],
   "source": [
    "pbc_df.head()"
   ]
  },
  {
   "cell_type": "code",
   "execution_count": 11,
   "metadata": {},
   "outputs": [],
   "source": [
    "durations=pbc_df[\"tenure\"]"
   ]
  },
  {
   "cell_type": "code",
   "execution_count": 12,
   "metadata": {},
   "outputs": [],
   "source": [
    "event_observed = pbc_df[\"event\"]"
   ]
  },
  {
   "cell_type": "code",
   "execution_count": 13,
   "metadata": {},
   "outputs": [],
   "source": [
    "kmf = KaplanMeierFitter()"
   ]
  },
  {
   "cell_type": "code",
   "execution_count": 20,
   "metadata": {},
   "outputs": [
    {
     "data": {
      "text/plain": [
       "<lifelines.KaplanMeierFitter:\"Kaplan Meier Estimate\", fitted with 293 total observations, 168 right-censored observations>"
      ]
     },
     "execution_count": 20,
     "metadata": {},
     "output_type": "execute_result"
    }
   ],
   "source": [
    "kmf.fit(durations,event_observed,label='Kaplan Meier Estimate')"
   ]
  },
  {
   "cell_type": "code",
   "execution_count": 12,
   "metadata": {},
   "outputs": [
    {
     "data": {
      "text/plain": [
       "<matplotlib.axes._subplots.AxesSubplot at 0x1dd57581288>"
      ]
     },
     "execution_count": 12,
     "metadata": {},
     "output_type": "execute_result"
    },
    {
     "data": {
      "image/png": "[encoded data removed]",
      "text/plain": [
       "<Figure size 432x288 with 1 Axes>"
      ]
     },
     "metadata": {
      "needs_background": "light"
     },
     "output_type": "display_data"
    }
   ],
   "source": [
    "kmf.plot() #probability of  with time"
   ]
  },
  {
   "cell_type": "code",
   "execution_count": 22,
   "metadata": {},
   "outputs": [],
   "source": [
    "#KM Curve \n",
    "#Show us the survival analysis after using the Medication[Liver Tx],\n",
    "#The problem depicts the relation of the patient with respect to the time\n",
    "#the Death rate of how many patient died \n",
    "#The Kaplan-Meier estimator is used to estimate the survival function. \n",
    "#The visual representation of this function is usually called the Kaplan-Meier curve, \n",
    "#and it shows what the probability of an event (for example, survival) is at a certain time interval."
   ]
  },
  {
   "cell_type": "code",
   "execution_count": 23,
   "metadata": {},
   "outputs": [
    {
     "data": {
      "text/plain": [
       "Index(['case number ', 'tenure', 'event', 'drug', 'age in days ', 'sex',\n",
       "       'presence of ascites', 'presence of hepatomegaly',\n",
       "       'presence of spiders', 'presence of edema ',\n",
       "       'serum bilirubin in mg/dl ', 'serum cholesterol in mg/dl ',\n",
       "       'albumin in gm/dl ', 'urine copper in ug/day ',\n",
       "       'alkaline phosphatase in U/liter ', 'SGOT in U/ml ',\n",
       "       'triglicerides in mg/dl ', 'platelets per cubic ml / 1000 ',\n",
       "       'prothrombin time in seconds ', 'histologic stage of disease '],\n",
       "      dtype='object')"
      ]
     },
     "execution_count": 23,
     "metadata": {},
     "output_type": "execute_result"
    }
   ],
   "source": [
    "pbc_df.columns"
   ]
  },
  {
   "cell_type": "markdown",
   "metadata": {},
   "source": [
    "drug: 1= D-penicillamine, 2=placebo\n",
    "\n",
    "age in days\n",
    "\n",
    "sex: 0=male, 1=female\n",
    "\n",
    "presence of ascites: 0=no 1=yes\n",
    "\n",
    "presence of hepatomegaly 0=no 1=yes\n",
    "\n",
    "presence of spiders 0=no 1=yes\n",
    "\n",
    "presence of edema 0=no edema and no diuretic therapy for edema; "
   ]
  },
  {
   "cell_type": "code",
   "execution_count": 14,
   "metadata": {},
   "outputs": [],
   "source": [
    "T = pbc_df['tenure']\n",
    "E = pbc_df['event']"
   ]
  },
  {
   "cell_type": "code",
   "execution_count": 21,
   "metadata": {},
   "outputs": [
    {
     "data": {
      "text/plain": [
       "<matplotlib.axes._subplots.AxesSubplot at 0x1dd583219c8>"
      ]
     },
     "execution_count": 21,
     "metadata": {},
     "output_type": "execute_result"
    },
    {
     "data": {
      "image/png": "[encoded data removed]",
      "text/plain": [
       "<Figure size 432x288 with 1 Axes>"
      ]
     },
     "metadata": {
      "needs_background": "light"
     },
     "output_type": "display_data"
    }
   ],
   "source": [
    "#drug: 1= D-penicillamine, 2=placebo\n",
    "\n",
    "kmf1 = KaplanMeierFitter()\n",
    "groups = pbc_df[\"drug\"]\n",
    "i1 = (groups == 2)\n",
    "i2 = (groups == 1)\n",
    "kmf1.fit(T[i1],E[i1],label=\"Under Placebo\")\n",
    "a1 = kmf1.plot()\n",
    "kmf1.fit(T[i2],E[i2],label = 'Taking Drug D-penicillamine')\n",
    "kmf1.plot(ax=a1)\n",
    "#With the severity of adverse effects and continued progression of  disease, \n",
    "#D-peniCillamine is not a clinically useful therapy in primary biliary cirrhosis. \n",
    "#ref link : https://aasldpubs.onlinelibrary.wiley.com/doi/pdf/10.1002/hep.1840050613\n",
    "# We expected these curves to be different as this is a clinical trial to check the efficiency of the drug but it is not. \n",
    "# Supported by KM and link. Log rank test also shows that it is not significant."
   ]
  },
  {
   "cell_type": "code",
   "execution_count": null,
   "metadata": {},
   "outputs": [],
   "source": []
  },
  {
   "cell_type": "code",
   "execution_count": 22,
   "metadata": {},
   "outputs": [
    {
     "data": {
      "text/plain": [
       "<matplotlib.axes._subplots.AxesSubplot at 0x1dd5837ad88>"
      ]
     },
     "execution_count": 22,
     "metadata": {},
     "output_type": "execute_result"
    },
    {
     "data": {
      "image/png": "[encoded data removed]",
      "text/plain": [
       "<Figure size 432x288 with 1 Axes>"
      ]
     },
     "metadata": {
      "needs_background": "light"
     },
     "output_type": "display_data"
    }
   ],
   "source": [
    "#sex: 0=male, 1=female\n",
    "\n",
    "kmf1 = KaplanMeierFitter()\n",
    "groups = pbc_df[\"sex\"]\n",
    "i1 = (groups == 0)\n",
    "i2 = (groups == 1)\n",
    "kmf1.fit(T[i1],E[i1],label=\"0-Male who survived\")\n",
    "a1 = kmf1.plot()\n",
    "kmf1.fit(T[i2],E[i2],label = '1-Female who survived')\n",
    "kmf1.plot(ax=a1)\n",
    "# Data is skewed , 260 females and 33 males which makes sense as this disease is more likely to occur in case of females."
   ]
  },
  {
   "cell_type": "code",
   "execution_count": 23,
   "metadata": {},
   "outputs": [
    {
     "data": {
      "text/plain": [
       "<matplotlib.axes._subplots.AxesSubplot at 0x1dd583faf88>"
      ]
     },
     "execution_count": 23,
     "metadata": {},
     "output_type": "execute_result"
    },
    {
     "data": {
      "image/png": "[encoded data removed]",
      "text/plain": [
       "<Figure size 432x288 with 1 Axes>"
      ]
     },
     "metadata": {
      "needs_background": "light"
     },
     "output_type": "display_data"
    }
   ],
   "source": [
    "#presence of ascites: 0=no 1=yes\n",
    "kmf1 = KaplanMeierFitter()\n",
    "groups = pbc_df[\"presence of ascites\"]\n",
    "i1 = (groups == 0)\n",
    "i2 = (groups == 1)\n",
    "kmf1.fit(T[i1],E[i1],label=\"No-presence of ascites:\")\n",
    "a1 = kmf1.plot()\n",
    "kmf1.fit(T[i2],E[i2],label = 'Yes-presence of ascites:')\n",
    "kmf1.plot(ax=a1)\n",
    "\n",
    "#Ascites is the main complication of cirrhosis,3 and the mean time period to its development\n",
    "#is approximately 10 years. Ascites is a landmark in the progression into the decompensated \n",
    "#phase of cirrhosis and is associated with a poor prognosis and quality of life; mortality \n",
    "#is estimated to be 50% in 2 years."
   ]
  },
  {
   "cell_type": "code",
   "execution_count": 24,
   "metadata": {},
   "outputs": [
    {
     "data": {
      "text/plain": [
       "<matplotlib.axes._subplots.AxesSubplot at 0x1dd5844d288>"
      ]
     },
     "execution_count": 24,
     "metadata": {},
     "output_type": "execute_result"
    },
    {
     "data": {
      "image/png": "[encoded data removed]",
      "text/plain": [
       "<Figure size 432x288 with 1 Axes>"
      ]
     },
     "metadata": {
      "needs_background": "light"
     },
     "output_type": "display_data"
    }
   ],
   "source": [
    "#presence of hepatomegaly 0=no 1=yes\n",
    "kmf1 = KaplanMeierFitter()\n",
    "groups = pbc_df[\"presence of hepatomegaly\"]\n",
    "i1 = (groups == 0)\n",
    "i2 = (groups == 1)\n",
    "kmf1.fit(T[i1],E[i1],label=\"No-presence of hepatomegaly\")\n",
    "a1 = kmf1.plot()\n",
    "kmf1.fit(T[i2],E[i2],label = 'Yes-presence of hepatomegaly')\n",
    "kmf1.plot(ax=a1)\n",
    "#Signs and symptoms of alcohol-related liver disease. \n",
    "#Most patients with alcohol-induced cirrhosis have hepatomegaly and/or splenomegaly. \n",
    "#Clinical presentation is similar to other forms of end-stage liver disease but may \n",
    "#be accompanied by concurrent alcoholic hepatitis."
   ]
  },
  {
   "cell_type": "code",
   "execution_count": 25,
   "metadata": {},
   "outputs": [
    {
     "data": {
      "text/plain": [
       "<matplotlib.axes._subplots.AxesSubplot at 0x1dd584f67c8>"
      ]
     },
     "execution_count": 25,
     "metadata": {},
     "output_type": "execute_result"
    },
    {
     "data": {
      "image/png": "[encoded data removed]",
      "text/plain": [
       "<Figure size 432x288 with 1 Axes>"
      ]
     },
     "metadata": {
      "needs_background": "light"
     },
     "output_type": "display_data"
    }
   ],
   "source": [
    "#presence of spiders 0=no 1=yes\n",
    "kmf1 = KaplanMeierFitter()\n",
    "groups = pbc_df[\"presence of spiders\"]\n",
    "i1 = (groups == 0)\n",
    "i2 = (groups == 1)\n",
    "kmf1.fit(T[i1],E[i1],label=\"No-presence of spiders\")\n",
    "a1 = kmf1.plot()\n",
    "kmf1.fit(T[i2],E[i2],label = 'Yes-presence of spiders')\n",
    "kmf1.plot(ax=a1)\n",
    "#Spider angioma is a common presentation of liver cirrhosis[1,2]. \n",
    "#It appears frequently in alcoholic cirrhotics or when liver function deteriorates[2-4] \n",
    "#and may be associated with esophageal variceal bleeding[5].\n",
    "#However, the exact pathogenesis has been unclear.\n"
   ]
  },
  {
   "cell_type": "code",
   "execution_count": 26,
   "metadata": {
    "scrolled": true
   },
   "outputs": [
    {
     "data": {
      "image/png": "[encoded data removed]",
      "text/plain": [
       "<Figure size 432x288 with 1 Axes>"
      ]
     },
     "metadata": {
      "needs_background": "light"
     },
     "output_type": "display_data"
    }
   ],
   "source": [
    "#presence of edema 0=no edema and no diuretic therapy for edema;\n",
    "#.5 = edema present without diuretics, or edema resolved by diuretics;\n",
    "#1 = edema despite diuretic therapy \n",
    "#Month-to-month One year  Two year\n",
    "groups2 = pbc_df['presence of edema ']\n",
    "j1 = (groups2 == 0)\n",
    "j2 = (groups2 == 0.5)\n",
    "j3 = (groups2 == 1)\n",
    "kmf1.fit(T[j1],E[j1],label=\"0=no edema and no diuretic therapy for edema\")\n",
    "b1 = kmf1.plot()\n",
    "kmf1.fit(T[j2],E[j2],label=\"edema present without diuretics, or edema resolved by diuretics\")\n",
    "b2=kmf1.plot(ax=b1)\n",
    "kmf1.fit(T[j3],E[j3],label=\"edema despite diuretic therapy \")\n",
    "b3=kmf1.plot(ax=b2)    \n",
    "\n",
    "\n",
    "\n"
   ]
  },
  {
   "cell_type": "code",
   "execution_count": 27,
   "metadata": {},
   "outputs": [
    {
     "data": {
      "image/png": "[encoded data removed]",
      "text/plain": [
       "<Figure size 432x288 with 1 Axes>"
      ]
     },
     "metadata": {
      "needs_background": "light"
     },
     "output_type": "display_data"
    }
   ],
   "source": [
    "#histologic stage of disease \n",
    "groups2 = pbc_df['histologic stage of disease ']\n",
    "j1 = (groups2 == 1)\n",
    "j2 = (groups2 == 2)\n",
    "j3 = (groups2 == 3)\n",
    "j4 = (groups2 == 4)\n",
    " \n",
    "kmf1.fit(T[j1],E[j1],label=\"1-histologic stage of disease \")\n",
    "b1 = kmf1.plot()\n",
    "kmf1.fit(T[j2],E[j2],label=\"2-histologic stage of disease \")\n",
    "b2=kmf1.plot(ax=b1)\n",
    "kmf1.fit(T[j3],E[j3],label=\"3-histologic stage of disease \")\n",
    "b3=kmf1.plot(ax=b2) \n",
    "kmf1.fit(T[j4],E[j4],label=\"4-histologic stage of disease \")\n",
    "b4=kmf1.plot(ax=b3)    \n",
    "\n",
    "\n",
    "\n",
    "\n"
   ]
  },
  {
   "cell_type": "markdown",
   "metadata": {},
   "source": [
    "We describe here the logrank test, the most popular method of comparing the survival of groups, which takes the whole follow up period into account. It has the considerable advantage that it does not require us to know anything about the shape of the survival curve or the distribution of survival times.\n",
    "\n",
    "The logrank test is used to test the null hypothesis that there is no difference between the populations in the probability of an event (here a death) at any time point. The analysis is based on the times of events (here deaths). For each such time we calculate the observed number of deaths in each group and the number expected if there were in reality no difference between the groups."
   ]
  },
  {
   "cell_type": "code",
   "execution_count": 28,
   "metadata": {},
   "outputs": [
    {
     "data": {
      "text/html": [
       "<div>\n",
       "<style scoped>\n",
       "    .dataframe tbody tr th:only-of-type {\n",
       "        vertical-align: middle;\n",
       "    }\n",
       "\n",
       "    .dataframe tbody tr th {\n",
       "        vertical-align: top;\n",
       "    }\n",
       "\n",
       "    .dataframe thead th {\n",
       "        text-align: right;\n",
       "    }\n",
       "</style>\n",
       "<table border=\"1\" class=\"dataframe\">\n",
       "  <tbody>\n",
       "    <tr>\n",
       "      <th>t_0</th>\n",
       "      <td>-1</td>\n",
       "    </tr>\n",
       "    <tr>\n",
       "      <th>null_distribution</th>\n",
       "      <td>chi squared</td>\n",
       "    </tr>\n",
       "    <tr>\n",
       "      <th>degrees_of_freedom</th>\n",
       "      <td>1</td>\n",
       "    </tr>\n",
       "    <tr>\n",
       "      <th>test_name</th>\n",
       "      <td>logrank_test</td>\n",
       "    </tr>\n",
       "  </tbody>\n",
       "</table>\n",
       "</div><table border=\"1\" class=\"dataframe\">\n",
       "  <thead>\n",
       "    <tr style=\"text-align: right;\">\n",
       "      <th></th>\n",
       "      <th>test_statistic</th>\n",
       "      <th>p</th>\n",
       "    </tr>\n",
       "  </thead>\n",
       "  <tbody>\n",
       "    <tr>\n",
       "      <th>0</th>\n",
       "      <td>0.07</td>\n",
       "      <td>0.79</td>\n",
       "    </tr>\n",
       "  </tbody>\n",
       "</table>"
      ],
      "text/plain": [
       "<IPython.core.display.HTML object>"
      ]
     },
     "metadata": {},
     "output_type": "display_data"
    }
   ],
   "source": [
    "#logrank test:\n",
    "#drug: 1= D-penicillamine, 2=placebo\n",
    "\n",
    "\n",
    "groups = pbc_df[\"drug\"]\n",
    "i1 = (groups == 2)\n",
    "i2 = (groups == 1)\n",
    "\n",
    "#logrank_test(T1, T2, event_observed_A=E1, event_observed_B=E2)\n",
    "results = logrank_test(T[i1],T[i2],event_observed_A=E[i1],event_observed_B =E[i2])\n",
    "results.print_summary()"
   ]
  },
  {
   "cell_type": "code",
   "execution_count": 27,
   "metadata": {},
   "outputs": [
    {
     "data": {
      "text/html": [
       "<div>\n",
       "<style scoped>\n",
       "    .dataframe tbody tr th:only-of-type {\n",
       "        vertical-align: middle;\n",
       "    }\n",
       "\n",
       "    .dataframe tbody tr th {\n",
       "        vertical-align: top;\n",
       "    }\n",
       "\n",
       "    .dataframe thead th {\n",
       "        text-align: right;\n",
       "    }\n",
       "</style>\n",
       "<table border=\"1\" class=\"dataframe\">\n",
       "  <tbody>\n",
       "    <tr>\n",
       "      <th>t_0</th>\n",
       "      <td>-1</td>\n",
       "    </tr>\n",
       "    <tr>\n",
       "      <th>null_distribution</th>\n",
       "      <td>chi squared</td>\n",
       "    </tr>\n",
       "    <tr>\n",
       "      <th>degrees_of_freedom</th>\n",
       "      <td>1</td>\n",
       "    </tr>\n",
       "    <tr>\n",
       "      <th>test_name</th>\n",
       "      <td>logrank_test</td>\n",
       "    </tr>\n",
       "  </tbody>\n",
       "</table>\n",
       "</div><table border=\"1\" class=\"dataframe\">\n",
       "  <thead>\n",
       "    <tr style=\"text-align: right;\">\n",
       "      <th></th>\n",
       "      <th>test_statistic</th>\n",
       "      <th>p</th>\n",
       "    </tr>\n",
       "  </thead>\n",
       "  <tbody>\n",
       "    <tr>\n",
       "      <th>0</th>\n",
       "      <td>17.45</td>\n",
       "      <td>&lt;0.005</td>\n",
       "    </tr>\n",
       "  </tbody>\n",
       "</table>"
      ],
      "text/plain": [
       "<IPython.core.display.HTML object>"
      ]
     },
     "metadata": {},
     "output_type": "display_data"
    }
   ],
   "source": [
    "#sex: 0=male, 1=female\n",
    "\n",
    "\n",
    "groups = pbc_df[\"sex\"]\n",
    "i1 = (groups == 0)\n",
    "\n",
    "#logrank_test(T1, T2, event_observed_A=E1, event_observed_B=E2)\n",
    "results = logrank_test(T[i1],T[i2],event_observed_A=E[i1],event_observed_B =E[i2])\n",
    "results.print_summary()\n"
   ]
  },
  {
   "cell_type": "code",
   "execution_count": 26,
   "metadata": {},
   "outputs": [
    {
     "data": {
      "text/html": [
       "<div>\n",
       "<style scoped>\n",
       "    .dataframe tbody tr th:only-of-type {\n",
       "        vertical-align: middle;\n",
       "    }\n",
       "\n",
       "    .dataframe tbody tr th {\n",
       "        vertical-align: top;\n",
       "    }\n",
       "\n",
       "    .dataframe thead th {\n",
       "        text-align: right;\n",
       "    }\n",
       "</style>\n",
       "<table border=\"1\" class=\"dataframe\">\n",
       "  <tbody>\n",
       "    <tr>\n",
       "      <th>t_0</th>\n",
       "      <td>-1</td>\n",
       "    </tr>\n",
       "    <tr>\n",
       "      <th>null_distribution</th>\n",
       "      <td>chi squared</td>\n",
       "    </tr>\n",
       "    <tr>\n",
       "      <th>degrees_of_freedom</th>\n",
       "      <td>1</td>\n",
       "    </tr>\n",
       "    <tr>\n",
       "      <th>test_name</th>\n",
       "      <td>logrank_test</td>\n",
       "    </tr>\n",
       "  </tbody>\n",
       "</table>\n",
       "</div><table border=\"1\" class=\"dataframe\">\n",
       "  <thead>\n",
       "    <tr style=\"text-align: right;\">\n",
       "      <th></th>\n",
       "      <th>test_statistic</th>\n",
       "      <th>p</th>\n",
       "    </tr>\n",
       "  </thead>\n",
       "  <tbody>\n",
       "    <tr>\n",
       "      <th>0</th>\n",
       "      <td>96.83</td>\n",
       "      <td>&lt;0.005</td>\n",
       "    </tr>\n",
       "  </tbody>\n",
       "</table>"
      ],
      "text/plain": [
       "<IPython.core.display.HTML object>"
      ]
     },
     "metadata": {},
     "output_type": "display_data"
    }
   ],
   "source": [
    "#presence of ascites: 0=no 1=yes\n",
    "\n",
    "groups = pbc_df[\"presence of ascites\"]\n",
    "i1 = (groups == 0)\n",
    "i2 = (groups == 1)\n",
    "\n",
    "\n",
    "#logrank_test(T1, T2, event_observed_A=E1, event_observed_B=E2)\n",
    "results = logrank_test(T[i1],T[i2],event_observed_A=E[i1],event_observed_B =E[i2])\n",
    "results.print_summary()\n",
    "#Ascites is the main complication of cirrhosis,3 and the mean time period to its development\n",
    "#is approximately 10 years. Ascites is a landmark in the progression into the decompensated \n",
    "#phase of cirrhosis and is associated with a poor prognosis and quality of life; mortality \n",
    "#is estimated to be 50% in 2 years."
   ]
  },
  {
   "cell_type": "code",
   "execution_count": 25,
   "metadata": {},
   "outputs": [
    {
     "data": {
      "text/html": [
       "<div>\n",
       "<style scoped>\n",
       "    .dataframe tbody tr th:only-of-type {\n",
       "        vertical-align: middle;\n",
       "    }\n",
       "\n",
       "    .dataframe tbody tr th {\n",
       "        vertical-align: top;\n",
       "    }\n",
       "\n",
       "    .dataframe thead th {\n",
       "        text-align: right;\n",
       "    }\n",
       "</style>\n",
       "<table border=\"1\" class=\"dataframe\">\n",
       "  <tbody>\n",
       "    <tr>\n",
       "      <th>t_0</th>\n",
       "      <td>-1</td>\n",
       "    </tr>\n",
       "    <tr>\n",
       "      <th>null_distribution</th>\n",
       "      <td>chi squared</td>\n",
       "    </tr>\n",
       "    <tr>\n",
       "      <th>degrees_of_freedom</th>\n",
       "      <td>1</td>\n",
       "    </tr>\n",
       "    <tr>\n",
       "      <th>test_name</th>\n",
       "      <td>logrank_test</td>\n",
       "    </tr>\n",
       "  </tbody>\n",
       "</table>\n",
       "</div><table border=\"1\" class=\"dataframe\">\n",
       "  <thead>\n",
       "    <tr style=\"text-align: right;\">\n",
       "      <th></th>\n",
       "      <th>test_statistic</th>\n",
       "      <th>p</th>\n",
       "    </tr>\n",
       "  </thead>\n",
       "  <tbody>\n",
       "    <tr>\n",
       "      <th>0</th>\n",
       "      <td>41.85</td>\n",
       "      <td>&lt;0.005</td>\n",
       "    </tr>\n",
       "  </tbody>\n",
       "</table>"
      ],
      "text/plain": [
       "<IPython.core.display.HTML object>"
      ]
     },
     "metadata": {},
     "output_type": "display_data"
    }
   ],
   "source": [
    "#presence of hepatomegaly 0=no 1=yes\n",
    "\n",
    "groups = pbc_df[\"presence of hepatomegaly\"]\n",
    "i1 = (groups == 0)\n",
    "i2 = (groups == 1)\n",
    "\n",
    "#logrank_test(T1, T2, event_observed_A=E1, event_observed_B=E2)\n",
    "results = logrank_test(T[i1],T[i2],event_observed_A=E[i1],event_observed_B =E[i2])\n",
    "results.print_summary()\n",
    "\n",
    "#Signs and symptoms of alcohol-related liver disease. \n",
    "#Most patients with alcohol-induced cirrhosis have hepatomegaly and/or splenomegaly. \n",
    "#Clinical presentation is similar to other forms of end-stage liver disease but may \n",
    "#be accompanied by concurrent alcoholic hepatitis."
   ]
  },
  {
   "cell_type": "code",
   "execution_count": 29,
   "metadata": {},
   "outputs": [
    {
     "data": {
      "text/html": [
       "<div>\n",
       "<style scoped>\n",
       "    .dataframe tbody tr th:only-of-type {\n",
       "        vertical-align: middle;\n",
       "    }\n",
       "\n",
       "    .dataframe tbody tr th {\n",
       "        vertical-align: top;\n",
       "    }\n",
       "\n",
       "    .dataframe thead th {\n",
       "        text-align: right;\n",
       "    }\n",
       "</style>\n",
       "<table border=\"1\" class=\"dataframe\">\n",
       "  <tbody>\n",
       "    <tr>\n",
       "      <th>t_0</th>\n",
       "      <td>-1</td>\n",
       "    </tr>\n",
       "    <tr>\n",
       "      <th>null_distribution</th>\n",
       "      <td>chi squared</td>\n",
       "    </tr>\n",
       "    <tr>\n",
       "      <th>degrees_of_freedom</th>\n",
       "      <td>1</td>\n",
       "    </tr>\n",
       "    <tr>\n",
       "      <th>test_name</th>\n",
       "      <td>logrank_test</td>\n",
       "    </tr>\n",
       "  </tbody>\n",
       "</table>\n",
       "</div><table border=\"1\" class=\"dataframe\">\n",
       "  <thead>\n",
       "    <tr style=\"text-align: right;\">\n",
       "      <th></th>\n",
       "      <th>test_statistic</th>\n",
       "      <th>p</th>\n",
       "    </tr>\n",
       "  </thead>\n",
       "  <tbody>\n",
       "    <tr>\n",
       "      <th>0</th>\n",
       "      <td>29.80</td>\n",
       "      <td>&lt;0.005</td>\n",
       "    </tr>\n",
       "  </tbody>\n",
       "</table>"
      ],
      "text/plain": [
       "<IPython.core.display.HTML object>"
      ]
     },
     "metadata": {},
     "output_type": "display_data"
    }
   ],
   "source": [
    "#presence of spiders 0=no 1=yes\n",
    "\n",
    "groups = pbc_df[\"presence of spiders\"]\n",
    "i1 = (groups == 0)\n",
    "i2 = (groups == 1)\n",
    "\n",
    "\n",
    "\n",
    "#logrank_test(T1, T2, event_observed_A=E1, event_observed_B=E2)\n",
    "results = logrank_test(T[i1],T[i2],event_observed_A=E[i1],event_observed_B =E[i2])\n",
    "results.print_summary()\n",
    "\n",
    "#It appears frequently in alcoholic cirrhotics or when liver function deteriorates[2-4] \n",
    "#and may be associated with esophageal variceal bleeding[5].\n",
    "#However, the exact pathogenesis has been unclear.\n"
   ]
  },
  {
   "cell_type": "code",
   "execution_count": 15,
   "metadata": {},
   "outputs": [],
   "source": []
  },
  {
   "cell_type": "code",
   "execution_count": 30,
   "metadata": {},
   "outputs": [
    {
     "data": {
      "text/html": [
       "<div>\n",
       "<style scoped>\n",
       "    .dataframe tbody tr th:only-of-type {\n",
       "        vertical-align: middle;\n",
       "    }\n",
       "\n",
       "    .dataframe tbody tr th {\n",
       "        vertical-align: top;\n",
       "    }\n",
       "\n",
       "    .dataframe thead th {\n",
       "        text-align: right;\n",
       "    }\n",
       "</style>\n",
       "<table border=\"1\" class=\"dataframe\">\n",
       "  <tbody>\n",
       "    <tr>\n",
       "      <th>t_0</th>\n",
       "      <td>-1</td>\n",
       "    </tr>\n",
       "    <tr>\n",
       "      <th>null_distribution</th>\n",
       "      <td>chi squared</td>\n",
       "    </tr>\n",
       "    <tr>\n",
       "      <th>degrees_of_freedom</th>\n",
       "      <td>2</td>\n",
       "    </tr>\n",
       "    <tr>\n",
       "      <th>test_name</th>\n",
       "      <td>multivariate_logrank_test</td>\n",
       "    </tr>\n",
       "  </tbody>\n",
       "</table>\n",
       "</div><table border=\"1\" class=\"dataframe\">\n",
       "  <thead>\n",
       "    <tr style=\"text-align: right;\">\n",
       "      <th></th>\n",
       "      <th>test_statistic</th>\n",
       "      <th>p</th>\n",
       "    </tr>\n",
       "  </thead>\n",
       "  <tbody>\n",
       "    <tr>\n",
       "      <th>0</th>\n",
       "      <td>119.38</td>\n",
       "      <td>&lt;0.005</td>\n",
       "    </tr>\n",
       "  </tbody>\n",
       "</table>"
      ],
      "text/plain": [
       "<IPython.core.display.HTML object>"
      ]
     },
     "metadata": {},
     "output_type": "display_data"
    }
   ],
   "source": [
    "\n",
    "groups2 = pbc_df['presence of edema ']\n",
    "j1 = (groups2 == 0)\n",
    "j2 = (groups2 == 0.5)\n",
    "j3 = (groups2 == 1)\n",
    "\n",
    "resultm = multivariate_logrank_test(durations, groups2,event_observed )\n",
    "resultm.test_statistic\n",
    "resultm.p_value\n",
    "resultm.print_summary()\n"
   ]
  },
  {
   "cell_type": "code",
   "execution_count": 31,
   "metadata": {},
   "outputs": [
    {
     "data": {
      "text/html": [
       "<div>\n",
       "<style scoped>\n",
       "    .dataframe tbody tr th:only-of-type {\n",
       "        vertical-align: middle;\n",
       "    }\n",
       "\n",
       "    .dataframe tbody tr th {\n",
       "        vertical-align: top;\n",
       "    }\n",
       "\n",
       "    .dataframe thead th {\n",
       "        text-align: right;\n",
       "    }\n",
       "</style>\n",
       "<table border=\"1\" class=\"dataframe\">\n",
       "  <tbody>\n",
       "    <tr>\n",
       "      <th>t_0</th>\n",
       "      <td>-1</td>\n",
       "    </tr>\n",
       "    <tr>\n",
       "      <th>null_distribution</th>\n",
       "      <td>chi squared</td>\n",
       "    </tr>\n",
       "    <tr>\n",
       "      <th>degrees_of_freedom</th>\n",
       "      <td>3</td>\n",
       "    </tr>\n",
       "    <tr>\n",
       "      <th>test_name</th>\n",
       "      <td>multivariate_logrank_test</td>\n",
       "    </tr>\n",
       "  </tbody>\n",
       "</table>\n",
       "</div><table border=\"1\" class=\"dataframe\">\n",
       "  <thead>\n",
       "    <tr style=\"text-align: right;\">\n",
       "      <th></th>\n",
       "      <th>test_statistic</th>\n",
       "      <th>p</th>\n",
       "    </tr>\n",
       "  </thead>\n",
       "  <tbody>\n",
       "    <tr>\n",
       "      <th>0</th>\n",
       "      <td>55.74</td>\n",
       "      <td>&lt;0.005</td>\n",
       "    </tr>\n",
       "  </tbody>\n",
       "</table>"
      ],
      "text/plain": [
       "<IPython.core.display.HTML object>"
      ]
     },
     "metadata": {},
     "output_type": "display_data"
    }
   ],
   "source": [
    "groups2 = pbc_df['histologic stage of disease ']\n",
    "j1 = (groups2 == 1)\n",
    "j2 = (groups2 == 2)\n",
    "j3 = (groups2 == 3)\n",
    "j4 = (groups2 == 4)\n",
    "\n",
    "\n",
    "resultm = multivariate_logrank_test(durations, groups2,event_observed )\n",
    "resultm.test_statistic\n",
    "resultm.p_value\n",
    "resultm.print_summary()\n"
   ]
  },
  {
   "cell_type": "code",
   "execution_count": null,
   "metadata": {},
   "outputs": [],
   "source": []
  }
 ],
 "metadata": {
  "kernelspec": {
   "display_name": "Python 3",
   "language": "python",
   "name": "python3"
  },
  "language_info": {
   "codemirror_mode": {
    "name": "ipython",
    "version": 3
   },
   "file_extension": ".py",
   "mimetype": "text/x-python",
   "name": "python",
   "nbconvert_exporter": "python",
   "pygments_lexer": "ipython3",
   "version": "3.7.7"
  }
 },
 "nbformat": 4,
 "nbformat_minor": 4
}
